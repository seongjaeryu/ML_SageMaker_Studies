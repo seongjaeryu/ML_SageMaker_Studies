{
 "cells": [
  {
   "cell_type": "markdown",
   "metadata": {},
   "source": [
    "# Detecting Payment Card Fraud\n",
    "\n",
    "In this section, we'll look at a credit card fraud detection dataset, and build a binary classification model that can identify transactions as either fraudulent or valid, based on provided, *historical* data. In a [2016 study](https://nilsonreport.com/upload/content_promo/The_Nilson_Report_10-17-2016.pdf), it was estimated that credit card fraud was responsible for over 20 billion dollars in loss, worldwide. Accurately detecting cases of fraud is an ongoing area of research.\n",
    "\n",
    "<img src=notebook_ims/fraud_detection.png width=50% />\n",
    "\n",
    "### Labeled Data\n",
    "\n",
    "The payment fraud data set (Dal Pozzolo et al. 2015) was downloaded from [Kaggle](https://www.kaggle.com/mlg-ulb/creditcardfraud/data). This has features and labels for thousands of credit card transactions, each of which is labeled as fraudulent or valid. In this notebook, we'd like to train a model based on the features of these transactions so that we can predict risky or fraudulent transactions in the future.\n",
    "\n",
    "### Binary Classification\n",
    "\n",
    "Since we have true labels to aim for, we'll take a **supervised learning** approach and train a binary classifier to sort data into one of our two transaction classes: fraudulent or valid.  We'll train a model on training data and see how well it generalizes on some test data.\n",
    "\n",
    "The notebook will be broken down into a few steps:\n",
    "* Loading and exploring the data\n",
    "* Splitting the data into train/test sets\n",
    "* Defining and training a LinearLearner, binary classifier\n",
    "* Making improvements on the model\n",
    "* Evaluating and comparing model test performance\n",
    "\n",
    "### Making Improvements\n",
    "\n",
    "A lot of this notebook will focus on making improvements, as discussed in [this SageMaker blog post](https://aws.amazon.com/blogs/machine-learning/train-faster-more-flexible-models-with-amazon-sagemaker-linear-learner/). Specifically, we'll address techniques for:\n",
    "\n",
    "1. **Tuning a model's hyperparameters** and aiming for a specific metric, such as high recall or precision.\n",
    "2. **Managing class imbalance**, which is when we have many more training examples in one class than another (in this case, many more valid transactions than fraudulent).\n",
    "\n",
    "---"
   ]
  },
  {
   "cell_type": "markdown",
   "metadata": {},
   "source": [
    "First, import the usual resources."
   ]
  },
  {
   "cell_type": "code",
   "execution_count": 1,
   "metadata": {},
   "outputs": [],
   "source": [
    "import io\n",
    "import os\n",
    "import matplotlib.pyplot as plt\n",
    "import numpy as np \n",
    "import pandas as pd\n",
    "from sklearn.model_selection import train_test_split\n",
    "\n",
    "import boto3\n",
    "import sagemaker\n",
    "from sagemaker import get_execution_role\n",
    "\n",
    "%matplotlib inline"
   ]
  },
  {
   "cell_type": "markdown",
   "metadata": {},
   "source": [
    "I'm storing my **SageMaker variables** in the next cell:\n",
    "* sagemaker_session: The SageMaker session we'll use for training models.\n",
    "* bucket: The name of the default S3 bucket that we'll use for data storage.\n",
    "* role: The IAM role that defines our data and model permissions."
   ]
  },
  {
   "cell_type": "code",
   "execution_count": 2,
   "metadata": {},
   "outputs": [],
   "source": [
    "# sagemaker session, role\n",
    "sagemaker_session = sagemaker.Session()\n",
    "role = sagemaker.get_execution_role()\n",
    "\n",
    "# S3 bucket name\n",
    "bucket = sagemaker_session.default_bucket()\n"
   ]
  },
  {
   "cell_type": "markdown",
   "metadata": {},
   "source": [
    "## Loading and Exploring the Data\n",
    "\n",
    "Next, I am loading the data and unzipping the data in the file `creditcardfraud.zip`. This directory will hold one csv file of all the transaction data, `creditcard.csv`.\n",
    "\n",
    "As in previous notebooks, it's important to look at the distribution of data since this will inform how we develop a fraud detection model. We'll want to know: How many data points we have to work with, the number and type of features, and finally, the distribution of data over the classes (valid or fraudulent)."
   ]
  },
  {
   "cell_type": "code",
   "execution_count": 3,
   "metadata": {},
   "outputs": [
    {
     "name": "stdout",
     "output_type": "stream",
     "text": [
      "--2021-07-10 09:44:56--  https://s3.amazonaws.com/video.udacity-data.com/topher/2019/January/5c534768_creditcardfraud/creditcardfraud.zip\n",
      "Resolving s3.amazonaws.com (s3.amazonaws.com)... 52.216.78.230\n",
      "Connecting to s3.amazonaws.com (s3.amazonaws.com)|52.216.78.230|:443... connected.\n",
      "HTTP request sent, awaiting response... 200 OK\n",
      "Length: 69155632 (66M) [application/zip]\n",
      "Saving to: ‘creditcardfraud.zip’\n",
      "\n",
      "creditcardfraud.zip 100%[===================>]  65.95M  38.1MB/s    in 1.7s    \n",
      "\n",
      "2021-07-10 09:44:58 (38.1 MB/s) - ‘creditcardfraud.zip’ saved [69155632/69155632]\n",
      "\n",
      "Archive:  creditcardfraud.zip\n",
      "  inflating: creditcard.csv          \n"
     ]
    }
   ],
   "source": [
    "# only have to run once\n",
    "!wget https://s3.amazonaws.com/video.udacity-data.com/topher/2019/January/5c534768_creditcardfraud/creditcardfraud.zip\n",
    "!unzip creditcardfraud\n"
   ]
  },
  {
   "cell_type": "code",
   "execution_count": 4,
   "metadata": {},
   "outputs": [
    {
     "name": "stdout",
     "output_type": "stream",
     "text": [
      "Data shape (rows, cols):  (284807, 31)\n",
      "\n"
     ]
    },
    {
     "data": {
      "text/html": [
       "<div>\n",
       "<style scoped>\n",
       "    .dataframe tbody tr th:only-of-type {\n",
       "        vertical-align: middle;\n",
       "    }\n",
       "\n",
       "    .dataframe tbody tr th {\n",
       "        vertical-align: top;\n",
       "    }\n",
       "\n",
       "    .dataframe thead th {\n",
       "        text-align: right;\n",
       "    }\n",
       "</style>\n",
       "<table border=\"1\" class=\"dataframe\">\n",
       "  <thead>\n",
       "    <tr style=\"text-align: right;\">\n",
       "      <th></th>\n",
       "      <th>Time</th>\n",
       "      <th>V1</th>\n",
       "      <th>V2</th>\n",
       "      <th>V3</th>\n",
       "      <th>V4</th>\n",
       "      <th>V5</th>\n",
       "      <th>V6</th>\n",
       "      <th>V7</th>\n",
       "      <th>V8</th>\n",
       "      <th>V9</th>\n",
       "      <th>...</th>\n",
       "      <th>V21</th>\n",
       "      <th>V22</th>\n",
       "      <th>V23</th>\n",
       "      <th>V24</th>\n",
       "      <th>V25</th>\n",
       "      <th>V26</th>\n",
       "      <th>V27</th>\n",
       "      <th>V28</th>\n",
       "      <th>Amount</th>\n",
       "      <th>Class</th>\n",
       "    </tr>\n",
       "  </thead>\n",
       "  <tbody>\n",
       "    <tr>\n",
       "      <th>0</th>\n",
       "      <td>0.0</td>\n",
       "      <td>-1.359807</td>\n",
       "      <td>-0.072781</td>\n",
       "      <td>2.536347</td>\n",
       "      <td>1.378155</td>\n",
       "      <td>-0.338321</td>\n",
       "      <td>0.462388</td>\n",
       "      <td>0.239599</td>\n",
       "      <td>0.098698</td>\n",
       "      <td>0.363787</td>\n",
       "      <td>...</td>\n",
       "      <td>-0.018307</td>\n",
       "      <td>0.277838</td>\n",
       "      <td>-0.110474</td>\n",
       "      <td>0.066928</td>\n",
       "      <td>0.128539</td>\n",
       "      <td>-0.189115</td>\n",
       "      <td>0.133558</td>\n",
       "      <td>-0.021053</td>\n",
       "      <td>149.62</td>\n",
       "      <td>0</td>\n",
       "    </tr>\n",
       "    <tr>\n",
       "      <th>1</th>\n",
       "      <td>0.0</td>\n",
       "      <td>1.191857</td>\n",
       "      <td>0.266151</td>\n",
       "      <td>0.166480</td>\n",
       "      <td>0.448154</td>\n",
       "      <td>0.060018</td>\n",
       "      <td>-0.082361</td>\n",
       "      <td>-0.078803</td>\n",
       "      <td>0.085102</td>\n",
       "      <td>-0.255425</td>\n",
       "      <td>...</td>\n",
       "      <td>-0.225775</td>\n",
       "      <td>-0.638672</td>\n",
       "      <td>0.101288</td>\n",
       "      <td>-0.339846</td>\n",
       "      <td>0.167170</td>\n",
       "      <td>0.125895</td>\n",
       "      <td>-0.008983</td>\n",
       "      <td>0.014724</td>\n",
       "      <td>2.69</td>\n",
       "      <td>0</td>\n",
       "    </tr>\n",
       "    <tr>\n",
       "      <th>2</th>\n",
       "      <td>1.0</td>\n",
       "      <td>-1.358354</td>\n",
       "      <td>-1.340163</td>\n",
       "      <td>1.773209</td>\n",
       "      <td>0.379780</td>\n",
       "      <td>-0.503198</td>\n",
       "      <td>1.800499</td>\n",
       "      <td>0.791461</td>\n",
       "      <td>0.247676</td>\n",
       "      <td>-1.514654</td>\n",
       "      <td>...</td>\n",
       "      <td>0.247998</td>\n",
       "      <td>0.771679</td>\n",
       "      <td>0.909412</td>\n",
       "      <td>-0.689281</td>\n",
       "      <td>-0.327642</td>\n",
       "      <td>-0.139097</td>\n",
       "      <td>-0.055353</td>\n",
       "      <td>-0.059752</td>\n",
       "      <td>378.66</td>\n",
       "      <td>0</td>\n",
       "    </tr>\n",
       "    <tr>\n",
       "      <th>3</th>\n",
       "      <td>1.0</td>\n",
       "      <td>-0.966272</td>\n",
       "      <td>-0.185226</td>\n",
       "      <td>1.792993</td>\n",
       "      <td>-0.863291</td>\n",
       "      <td>-0.010309</td>\n",
       "      <td>1.247203</td>\n",
       "      <td>0.237609</td>\n",
       "      <td>0.377436</td>\n",
       "      <td>-1.387024</td>\n",
       "      <td>...</td>\n",
       "      <td>-0.108300</td>\n",
       "      <td>0.005274</td>\n",
       "      <td>-0.190321</td>\n",
       "      <td>-1.175575</td>\n",
       "      <td>0.647376</td>\n",
       "      <td>-0.221929</td>\n",
       "      <td>0.062723</td>\n",
       "      <td>0.061458</td>\n",
       "      <td>123.50</td>\n",
       "      <td>0</td>\n",
       "    </tr>\n",
       "    <tr>\n",
       "      <th>4</th>\n",
       "      <td>2.0</td>\n",
       "      <td>-1.158233</td>\n",
       "      <td>0.877737</td>\n",
       "      <td>1.548718</td>\n",
       "      <td>0.403034</td>\n",
       "      <td>-0.407193</td>\n",
       "      <td>0.095921</td>\n",
       "      <td>0.592941</td>\n",
       "      <td>-0.270533</td>\n",
       "      <td>0.817739</td>\n",
       "      <td>...</td>\n",
       "      <td>-0.009431</td>\n",
       "      <td>0.798278</td>\n",
       "      <td>-0.137458</td>\n",
       "      <td>0.141267</td>\n",
       "      <td>-0.206010</td>\n",
       "      <td>0.502292</td>\n",
       "      <td>0.219422</td>\n",
       "      <td>0.215153</td>\n",
       "      <td>69.99</td>\n",
       "      <td>0</td>\n",
       "    </tr>\n",
       "  </tbody>\n",
       "</table>\n",
       "<p>5 rows × 31 columns</p>\n",
       "</div>"
      ],
      "text/plain": [
       "   Time        V1        V2        V3        V4        V5        V6        V7  \\\n",
       "0   0.0 -1.359807 -0.072781  2.536347  1.378155 -0.338321  0.462388  0.239599   \n",
       "1   0.0  1.191857  0.266151  0.166480  0.448154  0.060018 -0.082361 -0.078803   \n",
       "2   1.0 -1.358354 -1.340163  1.773209  0.379780 -0.503198  1.800499  0.791461   \n",
       "3   1.0 -0.966272 -0.185226  1.792993 -0.863291 -0.010309  1.247203  0.237609   \n",
       "4   2.0 -1.158233  0.877737  1.548718  0.403034 -0.407193  0.095921  0.592941   \n",
       "\n",
       "         V8        V9  ...       V21       V22       V23       V24       V25  \\\n",
       "0  0.098698  0.363787  ... -0.018307  0.277838 -0.110474  0.066928  0.128539   \n",
       "1  0.085102 -0.255425  ... -0.225775 -0.638672  0.101288 -0.339846  0.167170   \n",
       "2  0.247676 -1.514654  ...  0.247998  0.771679  0.909412 -0.689281 -0.327642   \n",
       "3  0.377436 -1.387024  ... -0.108300  0.005274 -0.190321 -1.175575  0.647376   \n",
       "4 -0.270533  0.817739  ... -0.009431  0.798278 -0.137458  0.141267 -0.206010   \n",
       "\n",
       "        V26       V27       V28  Amount  Class  \n",
       "0 -0.189115  0.133558 -0.021053  149.62      0  \n",
       "1  0.125895 -0.008983  0.014724    2.69      0  \n",
       "2 -0.139097 -0.055353 -0.059752  378.66      0  \n",
       "3 -0.221929  0.062723  0.061458  123.50      0  \n",
       "4  0.502292  0.219422  0.215153   69.99      0  \n",
       "\n",
       "[5 rows x 31 columns]"
      ]
     },
     "execution_count": 4,
     "metadata": {},
     "output_type": "execute_result"
    }
   ],
   "source": [
    "# read in the csv file\n",
    "local_data = 'creditcard.csv'\n",
    "\n",
    "# print out some data\n",
    "transaction_df = pd.read_csv(local_data)\n",
    "print('Data shape (rows, cols): ', transaction_df.shape)\n",
    "print()\n",
    "transaction_df.head()"
   ]
  },
  {
   "cell_type": "markdown",
   "metadata": {},
   "source": [
    "### EXERCISE: Calculate the percentage of fraudulent data\n",
    "\n",
    "Take a look at the distribution of this transaction data over the classes, valid and fraudulent. \n",
    "\n",
    "Complete the function `fraudulent_percentage`, below. Count up the number of data points in each class and calculate the *percentage* of the data points that are fraudulent."
   ]
  },
  {
   "cell_type": "code",
   "execution_count": 8,
   "metadata": {},
   "outputs": [],
   "source": [
    "# Calculate the fraction of data points that are fraudulent\n",
    "def fraudulent_percentage(transaction_df):\n",
    "    '''Calculate the fraction of all data points that have a 'Class' label of 1; fraudulent.\n",
    "       :param transaction_df: Dataframe of all transaction data points; has a column 'Class'\n",
    "       :return: A fractional percentage of fraudulent data points/all points\n",
    "    '''\n",
    "    \n",
    "    # your code here\n",
    "    counts = transaction_df['Class'].value_counts()\n",
    "    valid_counts = counts[0]\n",
    "    fraud_counts = counts[1]\n",
    "    fraud_percentage = fraud_counts / (valid_counts + fraud_counts)\n",
    "    \n",
    "    return fraud_percentage\n"
   ]
  },
  {
   "cell_type": "markdown",
   "metadata": {},
   "source": [
    "Test out your code by calling your function and printing the result."
   ]
  },
  {
   "cell_type": "code",
   "execution_count": 9,
   "metadata": {},
   "outputs": [
    {
     "name": "stdout",
     "output_type": "stream",
     "text": [
      "Fraudulent percentage =  0.001727485630620034\n",
      "Total # of fraudulent pts:  492.0\n",
      "Out of (total) pts:  284807\n"
     ]
    }
   ],
   "source": [
    "# call the function to calculate the fraud percentage\n",
    "fraud_percentage = fraudulent_percentage(transaction_df)\n",
    "\n",
    "print('Fraudulent percentage = ', fraud_percentage)\n",
    "print('Total # of fraudulent pts: ', fraud_percentage*transaction_df.shape[0])\n",
    "print('Out of (total) pts: ', transaction_df.shape[0])\n"
   ]
  },
  {
   "cell_type": "markdown",
   "metadata": {},
   "source": [
    "### EXERCISE: Split into train/test datasets\n",
    "\n",
    "In this example, we'll want to evaluate the performance of a fraud classifier; training it on some training data and testing it on *test data* that it did not see during the training process. So, we'll need to split the data into separate training and test sets.\n",
    "\n",
    "Complete the `train_test_split` function, below. This function should:\n",
    "* Shuffle the transaction data, randomly\n",
    "* Split it into two sets according to the parameter `train_frac`\n",
    "* Get train/test features and labels\n",
    "* Return the tuples: (train_features, train_labels), (test_features, test_labels)"
   ]
  },
  {
   "cell_type": "code",
   "execution_count": 10,
   "metadata": {},
   "outputs": [],
   "source": [
    "# split into train/test\n",
    "def split_data(transaction_df, test_size= 0.3, random_state=1):\n",
    "    '''Shuffle the data and randomly split into train and test sets;\n",
    "       separate the class labels (the column in transaction_df) from the features.\n",
    "       :param df: Dataframe of all credit card transaction data\n",
    "       :param train_frac: The decimal fraction of data that should be training data\n",
    "       :param seed: Random seed for shuffling and reproducibility, default = 1\n",
    "       :return: train_features, train_labels test_features, test_labels\n",
    "       '''\n",
    "    \n",
    "    # shuffle and split the data\n",
    "    train_df, test_df = train_test_split(transaction_df, test_size=test_size, random_state = random_state)\n",
    "    \n",
    "    train_features = train_df.drop(['Class'], axis = 1)\n",
    "    train_labels = train_df['Class']\n",
    "    test_features = test_df.drop(['Class'], axis = 1)\n",
    "    test_labels = test_df['Class']\n",
    "    \n",
    "    return train_features, test_features, train_labels, test_labels\n"
   ]
  },
  {
   "cell_type": "markdown",
   "metadata": {},
   "source": [
    "### Test Cell\n",
    "\n",
    "In the cells below, I'm creating the train/test data and checking to see that result makes sense. The tests below test that the above function splits the data into the expected number of points and that the labels are indeed, class labels (0, 1)."
   ]
  },
  {
   "cell_type": "code",
   "execution_count": 11,
   "metadata": {},
   "outputs": [],
   "source": [
    "# get train/test data\n",
    "train_features, test_features, train_labels, test_labels = split_data(transaction_df, test_size=0.3, random_state=1)"
   ]
  },
  {
   "cell_type": "code",
   "execution_count": 12,
   "metadata": {},
   "outputs": [
    {
     "name": "stdout",
     "output_type": "stream",
     "text": [
      "Training data pts:  199364\n",
      "Test data pts:  85443\n",
      "\n",
      "First item: \n",
      " 191125    129124.0\n",
      "153710     99901.0\n",
      "261216    159917.0\n",
      "190724    128961.0\n",
      "127492     78349.0\n",
      "            ...   \n",
      "21440      31666.0\n",
      "117583     74729.0\n",
      "73349      55095.0\n",
      "267336    162728.0\n",
      "128037     78576.0\n",
      "Name: Time, Length: 199364, dtype: float64\n",
      "Label:  0\n",
      "\n",
      "Tests passed!\n"
     ]
    }
   ],
   "source": [
    "# manual test\n",
    "\n",
    "# for a split of 0.7:0.3 there should be ~2.33x as many training as test pts\n",
    "print('Training data pts: ', len(train_features))\n",
    "print('Test data pts: ', len(test_features))\n",
    "print()\n",
    "\n",
    "# take a look at first item and see that it aligns with first row of data\n",
    "print('First item: \\n', train_features.iloc[:,0])\n",
    "print('Label: ', train_labels[0])\n",
    "print()\n",
    "\n",
    "# test split\n",
    "assert len(train_features) > 2.333*len(test_features), \\\n",
    "        'Unexpected number of train/test points for a train_frac=0.7'\n",
    "# test labels\n",
    "assert np.all(train_labels)== 0 or np.all(train_labels)== 1, \\\n",
    "        'Train labels should be 0s or 1s.'\n",
    "assert np.all(test_labels)== 0 or np.all(test_labels)== 1, \\\n",
    "        'Test labels should be 0s or 1s.'\n",
    "print('Tests passed!')"
   ]
  },
  {
   "cell_type": "markdown",
   "metadata": {},
   "source": [
    "---\n",
    "# Modeling\n",
    "\n",
    "Now that you've uploaded your training data, it's time to define and train a model!\n",
    "\n",
    "In this notebook, you'll define and train the SageMaker, built-in algorithm, [LinearLearner](https://sagemaker.readthedocs.io/en/stable/linear_learner.html). \n",
    "\n",
    "A LinearLearner has two main applications:\n",
    "1. For regression tasks in which a linear line is fit to some data points, and you want to produce a predicted output value given some data point (example: predicting house prices given square area).\n",
    "2. For binary classification, in which a line is separating two classes of data and effectively outputs labels; either 1 for data that falls above the line or 0 for points that fall on or below the line.\n",
    "\n",
    "<img src='notebook_ims/linear_separator.png' width=50% />\n",
    "\n",
    "In this case, we'll be using it for case 2, and we'll train it to separate data into our two classes: valid or fraudulent. "
   ]
  },
  {
   "cell_type": "markdown",
   "metadata": {},
   "source": [
    "### EXERCISE: Create a LinearLearner Estimator\n",
    "\n",
    "You've had some practice instantiating built-in models in SageMaker. All estimators require some constructor arguments to be passed in. See if you can complete this task, instantiating a LinearLearner estimator, using only the [LinearLearner documentation](https://sagemaker.readthedocs.io/en/stable/linear_learner.html) as a resource. This takes in a lot of arguments, but not all are required. My suggestion is to start with a simple model, utilizing default values where applicable. Later, we will discuss some specific hyperparameters and their use cases.\n",
    "\n",
    "#### Instance Types\n",
    "\n",
    "It is suggested that you use instances that are available in the free tier of usage: `'ml.c4.xlarge'` for training and `'ml.t2.medium'` for deployment."
   ]
  },
  {
   "cell_type": "code",
   "execution_count": 13,
   "metadata": {},
   "outputs": [
    {
     "name": "stderr",
     "output_type": "stream",
     "text": [
      "train_instance_count has been renamed in sagemaker>=2.\n",
      "See: https://sagemaker.readthedocs.io/en/stable/v2.html for details.\n",
      "train_instance_type has been renamed in sagemaker>=2.\n",
      "See: https://sagemaker.readthedocs.io/en/stable/v2.html for details.\n"
     ]
    }
   ],
   "source": [
    "# import LinearLearner\n",
    "from sagemaker import LinearLearner\n",
    "\n",
    "# # sagemaker session, role\n",
    "# sagemaker_session = sagemaker.Session()\n",
    "# role = sagemaker.get_execution_role()\n",
    "\n",
    "# # S3 bucket name\n",
    "# bucket = sagemaker_session.default_bucket()\n",
    "\n",
    "# ouput\n",
    "prefix = 'creditcard'\n",
    "output_path = 's3://{}/{}'.format(bucket, prefix)\n",
    "\n",
    "# instantiate LinearLearner\n",
    "linear = LinearLearner(role = role,\n",
    "                       train_instance_count = 1, \n",
    "                       train_instance_type = 'ml.c4.xlarge',\n",
    "                       predictor_type = 'binary_classifier',\n",
    "                       output_path = output_path,\n",
    "                       sagemaker_session = sagemaker_session,\n",
    "                       epochs = 10)"
   ]
  },
  {
   "cell_type": "markdown",
   "metadata": {},
   "source": [
    "### EXERCISE: Convert data into a RecordSet format\n",
    "\n",
    "Next, prepare the data for a built-in model by converting the train features and labels into numpy array's of float values. Then you can use the [record_set function](https://sagemaker.readthedocs.io/en/stable/linear_learner.html#sagemaker.LinearLearner.record_set) to format the data as a RecordSet and prepare it for training!"
   ]
  },
  {
   "cell_type": "code",
   "execution_count": 14,
   "metadata": {},
   "outputs": [
    {
     "data": {
      "text/plain": [
       "pandas.core.frame.DataFrame"
      ]
     },
     "execution_count": 14,
     "metadata": {},
     "output_type": "execute_result"
    }
   ],
   "source": [
    "# train_features, test_features, train_labels, test_labels\n",
    "type(train_features)"
   ]
  },
  {
   "cell_type": "code",
   "execution_count": 15,
   "metadata": {},
   "outputs": [
    {
     "data": {
      "text/plain": [
       "pandas.core.series.Series"
      ]
     },
     "execution_count": 15,
     "metadata": {},
     "output_type": "execute_result"
    }
   ],
   "source": [
    "type(train_labels)"
   ]
  },
  {
   "cell_type": "code",
   "execution_count": 32,
   "metadata": {},
   "outputs": [],
   "source": [
    "# create RecordSet of training data\n",
    "train_features_np = train_features.astype('float32').to_numpy()\n",
    "train_labels_np = train_labels.astype('float32').to_numpy()"
   ]
  },
  {
   "cell_type": "code",
   "execution_count": 33,
   "metadata": {},
   "outputs": [
    {
     "data": {
      "text/plain": [
       "array([0., 0., 0., ..., 0., 0., 0.], dtype=float32)"
      ]
     },
     "execution_count": 33,
     "metadata": {},
     "output_type": "execute_result"
    }
   ],
   "source": [
    "train_labels_np"
   ]
  },
  {
   "cell_type": "code",
   "execution_count": 34,
   "metadata": {},
   "outputs": [],
   "source": [
    "formatted_train_data = linear.record_set(train_features_np,\n",
    "                                         labels = train_labels_np,\n",
    "                                         channel='train',\n",
    "                                         encrypt=False)"
   ]
  },
  {
   "cell_type": "markdown",
   "metadata": {},
   "source": [
    "### EXERCISE: Train the Estimator\n",
    "\n",
    "After instantiating your estimator, train it with a call to `.fit()`, passing in the formatted training data."
   ]
  },
  {
   "cell_type": "code",
   "execution_count": 35,
   "metadata": {},
   "outputs": [
    {
     "name": "stderr",
     "output_type": "stream",
     "text": [
      "Defaulting to the only supported framework/algorithm version: 1. Ignoring framework/algorithm version: 1.\n"
     ]
    },
    {
     "name": "stdout",
     "output_type": "stream",
     "text": [
      "2021-07-10 11:48:36 Starting - Starting the training job...\n",
      "2021-07-10 11:48:38 Starting - Launching requested ML instancesProfilerReport-1625917716: InProgress\n",
      "...\n",
      "2021-07-10 11:49:33 Starting - Preparing the instances for training.........\n",
      "2021-07-10 11:51:05 Downloading - Downloading input data...\n",
      "2021-07-10 11:51:35 Training - Downloading the training image...\n",
      "2021-07-10 11:51:56 Training - Training image download completed. Training in progress.\u001b[34mDocker entrypoint called with argument(s): train\u001b[0m\n",
      "\u001b[34mRunning default environment configuration script\u001b[0m\n",
      "\u001b[34m[07/10/2021 11:52:00 INFO 140687120037696] Reading default configuration from /opt/amazon/lib/python3.7/site-packages/algorithm/resources/default-input.json: {'mini_batch_size': '1000', 'epochs': '15', 'feature_dim': 'auto', 'use_bias': 'true', 'binary_classifier_model_selection_criteria': 'accuracy', 'f_beta': '1.0', 'target_recall': '0.8', 'target_precision': '0.8', 'num_models': 'auto', 'num_calibration_samples': '10000000', 'init_method': 'uniform', 'init_scale': '0.07', 'init_sigma': '0.01', 'init_bias': '0.0', 'optimizer': 'auto', 'loss': 'auto', 'margin': '1.0', 'quantile': '0.5', 'loss_insensitivity': '0.01', 'huber_delta': '1.0', 'num_classes': '1', 'accuracy_top_k': '3', 'wd': 'auto', 'l1': 'auto', 'momentum': 'auto', 'learning_rate': 'auto', 'beta_1': 'auto', 'beta_2': 'auto', 'bias_lr_mult': 'auto', 'bias_wd_mult': 'auto', 'use_lr_scheduler': 'true', 'lr_scheduler_step': 'auto', 'lr_scheduler_factor': 'auto', 'lr_scheduler_minimum_lr': 'auto', 'positive_example_weight_mult': '1.0', 'balance_multiclass_weights': 'false', 'normalize_data': 'true', 'normalize_label': 'auto', 'unbias_data': 'auto', 'unbias_label': 'auto', 'num_point_for_scaler': '10000', '_kvstore': 'auto', '_num_gpus': 'auto', '_num_kv_servers': 'auto', '_log_level': 'info', '_tuning_objective_metric': '', 'early_stopping_patience': '3', 'early_stopping_tolerance': '0.001', '_enable_profiler': 'false'}\u001b[0m\n",
      "\u001b[34m[07/10/2021 11:52:00 INFO 140687120037696] Merging with provided configuration from /opt/ml/input/config/hyperparameters.json: {'feature_dim': '30', 'predictor_type': 'binary_classifier', 'epochs': '10', 'mini_batch_size': '1000'}\u001b[0m\n",
      "\u001b[34m[07/10/2021 11:52:00 INFO 140687120037696] Final configuration: {'mini_batch_size': '1000', 'epochs': '10', 'feature_dim': '30', 'use_bias': 'true', 'binary_classifier_model_selection_criteria': 'accuracy', 'f_beta': '1.0', 'target_recall': '0.8', 'target_precision': '0.8', 'num_models': 'auto', 'num_calibration_samples': '10000000', 'init_method': 'uniform', 'init_scale': '0.07', 'init_sigma': '0.01', 'init_bias': '0.0', 'optimizer': 'auto', 'loss': 'auto', 'margin': '1.0', 'quantile': '0.5', 'loss_insensitivity': '0.01', 'huber_delta': '1.0', 'num_classes': '1', 'accuracy_top_k': '3', 'wd': 'auto', 'l1': 'auto', 'momentum': 'auto', 'learning_rate': 'auto', 'beta_1': 'auto', 'beta_2': 'auto', 'bias_lr_mult': 'auto', 'bias_wd_mult': 'auto', 'use_lr_scheduler': 'true', 'lr_scheduler_step': 'auto', 'lr_scheduler_factor': 'auto', 'lr_scheduler_minimum_lr': 'auto', 'positive_example_weight_mult': '1.0', 'balance_multiclass_weights': 'false', 'normalize_data': 'true', 'normalize_label': 'auto', 'unbias_data': 'auto', 'unbias_label': 'auto', 'num_point_for_scaler': '10000', '_kvstore': 'auto', '_num_gpus': 'auto', '_num_kv_servers': 'auto', '_log_level': 'info', '_tuning_objective_metric': '', 'early_stopping_patience': '3', 'early_stopping_tolerance': '0.001', '_enable_profiler': 'false', 'predictor_type': 'binary_classifier'}\u001b[0m\n",
      "\u001b[34m[07/10/2021 11:52:00 WARNING 140687120037696] Loggers have already been setup.\u001b[0m\n",
      "\u001b[34mProcess 1 is a worker.\u001b[0m\n",
      "\u001b[34m[07/10/2021 11:52:00 INFO 140687120037696] Using default worker.\u001b[0m\n",
      "\u001b[34m[07/10/2021 11:52:01 INFO 140687120037696] Checkpoint loading and saving are disabled.\u001b[0m\n",
      "\u001b[34m[2021-07-10 11:52:01.058] [tensorio] [info] epoch_stats={\"data_pipeline\": \"/opt/ml/input/data/train\", \"epoch\": 0, \"duration\": 24, \"num_examples\": 1, \"num_bytes\": 168000}\u001b[0m\n",
      "\u001b[34m[07/10/2021 11:52:01 INFO 140687120037696] Create Store: local\u001b[0m\n",
      "\u001b[34m[2021-07-10 11:52:01.150] [tensorio] [info] epoch_stats={\"data_pipeline\": \"/opt/ml/input/data/train\", \"epoch\": 1, \"duration\": 91, \"num_examples\": 11, \"num_bytes\": 1848000}\u001b[0m\n",
      "\u001b[34m[07/10/2021 11:52:01 INFO 140687120037696] Scaler algorithm parameters\n",
      " <algorithm.scaler.ScalerAlgorithmStable object at 0x7ff3e52a7b90>\u001b[0m\n",
      "\u001b[34m[07/10/2021 11:52:01 INFO 140687120037696] Scaling model computed with parameters:\n",
      " {'stdev_label': None, 'stdev_weight': \u001b[0m\n",
      "\u001b[34m[4.7823008e+04 1.8987731e+00 1.5821997e+00 1.5291911e+00 1.4364978e+00\n",
      " 1.3388461e+00 1.2955806e+00 1.1771069e+00 1.2127448e+00 1.0843055e+00\n",
      " 1.0475702e+00 1.0230465e+00 1.0090139e+00 1.0057642e+00 9.5122164e-01\n",
      " 9.2613727e-01 8.7072927e-01 8.6057234e-01 8.3151484e-01 8.2762748e-01\n",
      " 7.1313608e-01 7.3347980e-01 7.2524083e-01 5.6213826e-01 6.0201687e-01\n",
      " 5.1174247e-01 4.8000538e-01 3.7595215e-01 2.7081874e-01 2.3656270e+02]\u001b[0m\n",
      "\u001b[34m<NDArray 30 @cpu(0)>, 'mean_label': None, 'mean_weight': \u001b[0m\n",
      "\u001b[34m[ 9.4275984e+04 -1.7378727e-02  1.5538026e-02  2.5005125e-02\n",
      "  3.3166975e-02  1.8197566e-02  1.7799012e-03  6.9396999e-03\n",
      "  9.8540336e-03 -3.0757964e-02 -1.2736557e-02  4.0434714e-04\n",
      " -1.4243029e-02  1.6704608e-02  2.2619881e-02 -9.6982103e-03\n",
      " -4.7834702e-03 -1.6767335e-04 -9.0120723e-03 -3.0407687e-03\n",
      "  4.6031545e-03 -4.0078526e-03 -1.2586080e-04  1.2784966e-03\n",
      "  3.7617318e-03 -3.1254767e-03 -8.2200055e-04  3.4045519e-03\n",
      " -1.0332187e-03  8.7559837e+01]\u001b[0m\n",
      "\u001b[34m<NDArray 30 @cpu(0)>}\u001b[0m\n",
      "\u001b[34m[07/10/2021 11:52:01 INFO 140687120037696] nvidia-smi: took 0.030 seconds to run.\u001b[0m\n",
      "\u001b[34m[07/10/2021 11:52:01 INFO 140687120037696] nvidia-smi identified 0 GPUs.\u001b[0m\n",
      "\u001b[34m[07/10/2021 11:52:01 INFO 140687120037696] Number of GPUs being used: 0\u001b[0m\n",
      "\u001b[34m#metrics {\"StartTime\": 1625917921.2559633, \"EndTime\": 1625917921.2559962, \"Dimensions\": {\"Algorithm\": \"Linear Learner\", \"Host\": \"algo-1\", \"Operation\": \"training\", \"Meta\": \"init_train_data_iter\"}, \"Metrics\": {\"Total Records Seen\": {\"sum\": 12000.0, \"count\": 1, \"min\": 12000, \"max\": 12000}, \"Total Batches Seen\": {\"sum\": 12.0, \"count\": 1, \"min\": 12, \"max\": 12}, \"Max Records Seen Between Resets\": {\"sum\": 11000.0, \"count\": 1, \"min\": 11000, \"max\": 11000}, \"Max Batches Seen Between Resets\": {\"sum\": 11.0, \"count\": 1, \"min\": 11, \"max\": 11}, \"Reset Count\": {\"sum\": 2.0, \"count\": 1, \"min\": 2, \"max\": 2}, \"Number of Records Since Last Reset\": {\"sum\": 0.0, \"count\": 1, \"min\": 0, \"max\": 0}, \"Number of Batches Since Last Reset\": {\"sum\": 0.0, \"count\": 1, \"min\": 0, \"max\": 0}}}\n",
      "\u001b[0m\n",
      "\u001b[34m[2021-07-10 11:52:08.874] [tensorio] [info] epoch_stats={\"data_pipeline\": \"/opt/ml/input/data/train\", \"epoch\": 3, \"duration\": 7617, \"num_examples\": 200, \"num_bytes\": 33493152}\u001b[0m\n",
      "\u001b[34m#metrics {\"StartTime\": 1625917928.874187, \"EndTime\": 1625917928.8742764, \"Dimensions\": {\"Algorithm\": \"Linear Learner\", \"Host\": \"algo-1\", \"Operation\": \"training\", \"epoch\": 0, \"model\": 0}, \"Metrics\": {\"train_binary_classification_cross_entropy_objective\": {\"sum\": 0.12023840661743777, \"count\": 1, \"min\": 0.12023840661743777, \"max\": 0.12023840661743777}}}\n",
      "\u001b[0m\n",
      "\u001b[34m#metrics {\"StartTime\": 1625917928.8743787, \"EndTime\": 1625917928.8743982, \"Dimensions\": {\"Algorithm\": \"Linear Learner\", \"Host\": \"algo-1\", \"Operation\": \"training\", \"epoch\": 0, \"model\": 1}, \"Metrics\": {\"train_binary_classification_cross_entropy_objective\": {\"sum\": 0.1175625283514435, \"count\": 1, \"min\": 0.1175625283514435, \"max\": 0.1175625283514435}}}\n",
      "\u001b[0m\n",
      "\u001b[34m#metrics {\"StartTime\": 1625917928.8744578, \"EndTime\": 1625917928.8744755, \"Dimensions\": {\"Algorithm\": \"Linear Learner\", \"Host\": \"algo-1\", \"Operation\": \"training\", \"epoch\": 0, \"model\": 2}, \"Metrics\": {\"train_binary_classification_cross_entropy_objective\": {\"sum\": 0.12012009677216036, \"count\": 1, \"min\": 0.12012009677216036, \"max\": 0.12012009677216036}}}\n",
      "\u001b[0m\n",
      "\u001b[34m#metrics {\"StartTime\": 1625917928.8745384, \"EndTime\": 1625917928.8745563, \"Dimensions\": {\"Algorithm\": \"Linear Learner\", \"Host\": \"algo-1\", \"Operation\": \"training\", \"epoch\": 0, \"model\": 3}, \"Metrics\": {\"train_binary_classification_cross_entropy_objective\": {\"sum\": 0.11766779350395777, \"count\": 1, \"min\": 0.11766779350395777, \"max\": 0.11766779350395777}}}\n",
      "\u001b[0m\n",
      "\u001b[34m#metrics {\"StartTime\": 1625917928.8746116, \"EndTime\": 1625917928.874628, \"Dimensions\": {\"Algorithm\": \"Linear Learner\", \"Host\": \"algo-1\", \"Operation\": \"training\", \"epoch\": 0, \"model\": 4}, \"Metrics\": {\"train_binary_classification_cross_entropy_objective\": {\"sum\": 0.012220082102483841, \"count\": 1, \"min\": 0.012220082102483841, \"max\": 0.012220082102483841}}}\n",
      "\u001b[0m\n",
      "\u001b[34m#metrics {\"StartTime\": 1625917928.8746908, \"EndTime\": 1625917928.874708, \"Dimensions\": {\"Algorithm\": \"Linear Learner\", \"Host\": \"algo-1\", \"Operation\": \"training\", \"epoch\": 0, \"model\": 5}, \"Metrics\": {\"train_binary_classification_cross_entropy_objective\": {\"sum\": 0.012175582823441855, \"count\": 1, \"min\": 0.012175582823441855, \"max\": 0.012175582823441855}}}\n",
      "\u001b[0m\n",
      "\u001b[34m#metrics {\"StartTime\": 1625917928.8747704, \"EndTime\": 1625917928.8747869, \"Dimensions\": {\"Algorithm\": \"Linear Learner\", \"Host\": \"algo-1\", \"Operation\": \"training\", \"epoch\": 0, \"model\": 6}, \"Metrics\": {\"train_binary_classification_cross_entropy_objective\": {\"sum\": 0.012201707582415348, \"count\": 1, \"min\": 0.012201707582415348, \"max\": 0.012201707582415348}}}\n",
      "\u001b[0m\n",
      "\u001b[34m#metrics {\"StartTime\": 1625917928.8748484, \"EndTime\": 1625917928.8748636, \"Dimensions\": {\"Algorithm\": \"Linear Learner\", \"Host\": \"algo-1\", \"Operation\": \"training\", \"epoch\": 0, \"model\": 7}, \"Metrics\": {\"train_binary_classification_cross_entropy_objective\": {\"sum\": 0.012345536659747811, \"count\": 1, \"min\": 0.012345536659747811, \"max\": 0.012345536659747811}}}\n",
      "\u001b[0m\n",
      "\u001b[34m#metrics {\"StartTime\": 1625917928.874923, \"EndTime\": 1625917928.8749375, \"Dimensions\": {\"Algorithm\": \"Linear Learner\", \"Host\": \"algo-1\", \"Operation\": \"training\", \"epoch\": 0, \"model\": 8}, \"Metrics\": {\"train_binary_classification_cross_entropy_objective\": {\"sum\": 0.12014251477035445, \"count\": 1, \"min\": 0.12014251477035445, \"max\": 0.12014251477035445}}}\n",
      "\u001b[0m\n",
      "\u001b[34m#metrics {\"StartTime\": 1625917928.8749847, \"EndTime\": 1625917928.874998, \"Dimensions\": {\"Algorithm\": \"Linear Learner\", \"Host\": \"algo-1\", \"Operation\": \"training\", \"epoch\": 0, \"model\": 9}, \"Metrics\": {\"train_binary_classification_cross_entropy_objective\": {\"sum\": 0.11776210052643589, \"count\": 1, \"min\": 0.11776210052643589, \"max\": 0.11776210052643589}}}\n",
      "\u001b[0m\n",
      "\u001b[34m#metrics {\"StartTime\": 1625917928.8750453, \"EndTime\": 1625917928.8750613, \"Dimensions\": {\"Algorithm\": \"Linear Learner\", \"Host\": \"algo-1\", \"Operation\": \"training\", \"epoch\": 0, \"model\": 10}, \"Metrics\": {\"train_binary_classification_cross_entropy_objective\": {\"sum\": 0.12038165889912514, \"count\": 1, \"min\": 0.12038165889912514, \"max\": 0.12038165889912514}}}\n",
      "\u001b[0m\n",
      "\u001b[34m#metrics {\"StartTime\": 1625917928.8751087, \"EndTime\": 1625917928.8751233, \"Dimensions\": {\"Algorithm\": \"Linear Learner\", \"Host\": \"algo-1\", \"Operation\": \"training\", \"epoch\": 0, \"model\": 11}, \"Metrics\": {\"train_binary_classification_cross_entropy_objective\": {\"sum\": 0.11770791634602762, \"count\": 1, \"min\": 0.11770791634602762, \"max\": 0.11770791634602762}}}\n",
      "\u001b[0m\n",
      "\u001b[34m#metrics {\"StartTime\": 1625917928.875165, \"EndTime\": 1625917928.8751793, \"Dimensions\": {\"Algorithm\": \"Linear Learner\", \"Host\": \"algo-1\", \"Operation\": \"training\", \"epoch\": 0, \"model\": 12}, \"Metrics\": {\"train_binary_classification_cross_entropy_objective\": {\"sum\": 0.01261257816119185, \"count\": 1, \"min\": 0.01261257816119185, \"max\": 0.01261257816119185}}}\n",
      "\u001b[0m\n",
      "\u001b[34m#metrics {\"StartTime\": 1625917928.875228, \"EndTime\": 1625917928.8752432, \"Dimensions\": {\"Algorithm\": \"Linear Learner\", \"Host\": \"algo-1\", \"Operation\": \"training\", \"epoch\": 0, \"model\": 13}, \"Metrics\": {\"train_binary_classification_cross_entropy_objective\": {\"sum\": 0.012488340938866289, \"count\": 1, \"min\": 0.012488340938866289, \"max\": 0.012488340938866289}}}\n",
      "\u001b[0m\n",
      "\u001b[34m#metrics {\"StartTime\": 1625917928.8752868, \"EndTime\": 1625917928.8753014, \"Dimensions\": {\"Algorithm\": \"Linear Learner\", \"Host\": \"algo-1\", \"Operation\": \"training\", \"epoch\": 0, \"model\": 14}, \"Metrics\": {\"train_binary_classification_cross_entropy_objective\": {\"sum\": 0.012396600667237486, \"count\": 1, \"min\": 0.012396600667237486, \"max\": 0.012396600667237486}}}\n",
      "\u001b[0m\n",
      "\u001b[34m#metrics {\"StartTime\": 1625917928.8753562, \"EndTime\": 1625917928.8753712, \"Dimensions\": {\"Algorithm\": \"Linear Learner\", \"Host\": \"algo-1\", \"Operation\": \"training\", \"epoch\": 0, \"model\": 15}, \"Metrics\": {\"train_binary_classification_cross_entropy_objective\": {\"sum\": 0.012499406192096035, \"count\": 1, \"min\": 0.012499406192096035, \"max\": 0.012499406192096035}}}\n",
      "\u001b[0m\n",
      "\u001b[34m#metrics {\"StartTime\": 1625917928.8754475, \"EndTime\": 1625917928.8754632, \"Dimensions\": {\"Algorithm\": \"Linear Learner\", \"Host\": \"algo-1\", \"Operation\": \"training\", \"epoch\": 0, \"model\": 16}, \"Metrics\": {\"train_binary_classification_cross_entropy_objective\": {\"sum\": 0.1228250465488913, \"count\": 1, \"min\": 0.1228250465488913, \"max\": 0.1228250465488913}}}\n",
      "\u001b[0m\n",
      "\u001b[34m#metrics {\"StartTime\": 1625917928.875512, \"EndTime\": 1625917928.8755267, \"Dimensions\": {\"Algorithm\": \"Linear Learner\", \"Host\": \"algo-1\", \"Operation\": \"training\", \"epoch\": 0, \"model\": 17}, \"Metrics\": {\"train_binary_classification_cross_entropy_objective\": {\"sum\": 0.12008383270723735, \"count\": 1, \"min\": 0.12008383270723735, \"max\": 0.12008383270723735}}}\n",
      "\u001b[0m\n",
      "\u001b[34m#metrics {\"StartTime\": 1625917928.875576, \"EndTime\": 1625917928.875593, \"Dimensions\": {\"Algorithm\": \"Linear Learner\", \"Host\": \"algo-1\", \"Operation\": \"training\", \"epoch\": 0, \"model\": 18}, \"Metrics\": {\"train_binary_classification_cross_entropy_objective\": {\"sum\": 0.12283358952507901, \"count\": 1, \"min\": 0.12283358952507901, \"max\": 0.12283358952507901}}}\n",
      "\u001b[0m\n",
      "\u001b[34m#metrics {\"StartTime\": 1625917928.8756444, \"EndTime\": 1625917928.8756595, \"Dimensions\": {\"Algorithm\": \"Linear Learner\", \"Host\": \"algo-1\", \"Operation\": \"training\", \"epoch\": 0, \"model\": 19}, \"Metrics\": {\"train_binary_classification_cross_entropy_objective\": {\"sum\": 0.12025850340109974, \"count\": 1, \"min\": 0.12025850340109974, \"max\": 0.12025850340109974}}}\n",
      "\u001b[0m\n",
      "\u001b[34m#metrics {\"StartTime\": 1625917928.8757112, \"EndTime\": 1625917928.8757272, \"Dimensions\": {\"Algorithm\": \"Linear Learner\", \"Host\": \"algo-1\", \"Operation\": \"training\", \"epoch\": 0, \"model\": 20}, \"Metrics\": {\"train_binary_classification_cross_entropy_objective\": {\"sum\": 0.019943902858238126, \"count\": 1, \"min\": 0.019943902858238126, \"max\": 0.019943902858238126}}}\n",
      "\u001b[0m\n",
      "\u001b[34m#metrics {\"StartTime\": 1625917928.875779, \"EndTime\": 1625917928.8757894, \"Dimensions\": {\"Algorithm\": \"Linear Learner\", \"Host\": \"algo-1\", \"Operation\": \"training\", \"epoch\": 0, \"model\": 21}, \"Metrics\": {\"train_binary_classification_cross_entropy_objective\": {\"sum\": 0.01993385848758658, \"count\": 1, \"min\": 0.01993385848758658, \"max\": 0.01993385848758658}}}\n",
      "\u001b[0m\n",
      "\u001b[34m#metrics {\"StartTime\": 1625917928.8758342, \"EndTime\": 1625917928.875849, \"Dimensions\": {\"Algorithm\": \"Linear Learner\", \"Host\": \"algo-1\", \"Operation\": \"training\", \"epoch\": 0, \"model\": 22}, \"Metrics\": {\"train_binary_classification_cross_entropy_objective\": {\"sum\": 0.019987651391170133, \"count\": 1, \"min\": 0.019987651391170133, \"max\": 0.019987651391170133}}}\n",
      "\u001b[0m\n",
      "\u001b[34m#metrics {\"StartTime\": 1625917928.8759065, \"EndTime\": 1625917928.8759217, \"Dimensions\": {\"Algorithm\": \"Linear Learner\", \"Host\": \"algo-1\", \"Operation\": \"training\", \"epoch\": 0, \"model\": 23}, \"Metrics\": {\"train_binary_classification_cross_entropy_objective\": {\"sum\": 0.01984426697302404, \"count\": 1, \"min\": 0.01984426697302404, \"max\": 0.01984426697302404}}}\n",
      "\u001b[0m\n",
      "\u001b[34m#metrics {\"StartTime\": 1625917928.8759823, \"EndTime\": 1625917928.8759985, \"Dimensions\": {\"Algorithm\": \"Linear Learner\", \"Host\": \"algo-1\", \"Operation\": \"training\", \"epoch\": 0, \"model\": 24}, \"Metrics\": {\"train_binary_classification_cross_entropy_objective\": {\"sum\": 0.12367208990739219, \"count\": 1, \"min\": 0.12367208990739219, \"max\": 0.12367208990739219}}}\n",
      "\u001b[0m\n",
      "\u001b[34m#metrics {\"StartTime\": 1625917928.8760474, \"EndTime\": 1625917928.8760624, \"Dimensions\": {\"Algorithm\": \"Linear Learner\", \"Host\": \"algo-1\", \"Operation\": \"training\", \"epoch\": 0, \"model\": 25}, \"Metrics\": {\"train_binary_classification_cross_entropy_objective\": {\"sum\": 0.12108522349985401, \"count\": 1, \"min\": 0.12108522349985401, \"max\": 0.12108522349985401}}}\n",
      "\u001b[0m\n",
      "\u001b[34m#metrics {\"StartTime\": 1625917928.8761199, \"EndTime\": 1625917928.8761358, \"Dimensions\": {\"Algorithm\": \"Linear Learner\", \"Host\": \"algo-1\", \"Operation\": \"training\", \"epoch\": 0, \"model\": 26}, \"Metrics\": {\"train_binary_classification_cross_entropy_objective\": {\"sum\": 0.12374423226399638, \"count\": 1, \"min\": 0.12374423226399638, \"max\": 0.12374423226399638}}}\n",
      "\u001b[0m\n",
      "\u001b[34m#metrics {\"StartTime\": 1625917928.876191, \"EndTime\": 1625917928.8762057, \"Dimensions\": {\"Algorithm\": \"Linear Learner\", \"Host\": \"algo-1\", \"Operation\": \"training\", \"epoch\": 0, \"model\": 27}, \"Metrics\": {\"train_binary_classification_cross_entropy_objective\": {\"sum\": 0.12116944918800239, \"count\": 1, \"min\": 0.12116944918800239, \"max\": 0.12116944918800239}}}\n",
      "\u001b[0m\n",
      "\u001b[34m#metrics {\"StartTime\": 1625917928.8762589, \"EndTime\": 1625917928.8762736, \"Dimensions\": {\"Algorithm\": \"Linear Learner\", \"Host\": \"algo-1\", \"Operation\": \"training\", \"epoch\": 0, \"model\": 28}, \"Metrics\": {\"train_binary_classification_cross_entropy_objective\": {\"sum\": 0.02103997616806821, \"count\": 1, \"min\": 0.02103997616806821, \"max\": 0.02103997616806821}}}\n",
      "\u001b[0m\n",
      "\u001b[34m#metrics {\"StartTime\": 1625917928.8763313, \"EndTime\": 1625917928.8763468, \"Dimensions\": {\"Algorithm\": \"Linear Learner\", \"Host\": \"algo-1\", \"Operation\": \"training\", \"epoch\": 0, \"model\": 29}, \"Metrics\": {\"train_binary_classification_cross_entropy_objective\": {\"sum\": 0.020920196363487135, \"count\": 1, \"min\": 0.020920196363487135, \"max\": 0.020920196363487135}}}\n",
      "\u001b[0m\n",
      "\u001b[34m#metrics {\"StartTime\": 1625917928.8764045, \"EndTime\": 1625917928.8764195, \"Dimensions\": {\"Algorithm\": \"Linear Learner\", \"Host\": \"algo-1\", \"Operation\": \"training\", \"epoch\": 0, \"model\": 30}, \"Metrics\": {\"train_binary_classification_cross_entropy_objective\": {\"sum\": 0.021012824348543756, \"count\": 1, \"min\": 0.021012824348543756, \"max\": 0.021012824348543756}}}\n",
      "\u001b[0m\n",
      "\u001b[34m#metrics {\"StartTime\": 1625917928.8764794, \"EndTime\": 1625917928.8764954, \"Dimensions\": {\"Algorithm\": \"Linear Learner\", \"Host\": \"algo-1\", \"Operation\": \"training\", \"epoch\": 0, \"model\": 31}, \"Metrics\": {\"train_binary_classification_cross_entropy_objective\": {\"sum\": 0.021031404245476327, \"count\": 1, \"min\": 0.021031404245476327, \"max\": 0.021031404245476327}}}\n",
      "\u001b[0m\n",
      "\u001b[34m[07/10/2021 11:52:08 INFO 140687120037696] #quality_metric: host=algo-1, epoch=0, train binary_classification_cross_entropy_objective <loss>=0.12023840661743777\u001b[0m\n",
      "\u001b[34m[07/10/2021 11:52:08 INFO 140687120037696] #early_stopping_criteria_metric: host=algo-1, epoch=0, criteria=binary_classification_cross_entropy_objective, value=0.012175582823441855\u001b[0m\n",
      "\u001b[34m[07/10/2021 11:52:08 INFO 140687120037696] Epoch 0: Loss improved. Updating best model\u001b[0m\n",
      "\u001b[34m[07/10/2021 11:52:08 INFO 140687120037696] Saving model for epoch: 0\u001b[0m\n",
      "\u001b[34m[07/10/2021 11:52:08 INFO 140687120037696] Saved checkpoint to \"/tmp/tmpblieot78/mx-mod-0000.params\"\u001b[0m\n",
      "\u001b[34m[07/10/2021 11:52:08 INFO 140687120037696] #progress_metric: host=algo-1, completed 10.0 % of epochs\u001b[0m\n",
      "\u001b[34m#metrics {\"StartTime\": 1625917921.256255, \"EndTime\": 1625917928.891598, \"Dimensions\": {\"Algorithm\": \"Linear Learner\", \"Host\": \"algo-1\", \"Operation\": \"training\", \"epoch\": 0, \"Meta\": \"training_data_iter\"}, \"Metrics\": {\"Total Records Seen\": {\"sum\": 211364.0, \"count\": 1, \"min\": 211364, \"max\": 211364}, \"Total Batches Seen\": {\"sum\": 212.0, \"count\": 1, \"min\": 212, \"max\": 212}, \"Max Records Seen Between Resets\": {\"sum\": 199364.0, \"count\": 1, \"min\": 199364, \"max\": 199364}, \"Max Batches Seen Between Resets\": {\"sum\": 200.0, \"count\": 1, \"min\": 200, \"max\": 200}, \"Reset Count\": {\"sum\": 3.0, \"count\": 1, \"min\": 3, \"max\": 3}, \"Number of Records Since Last Reset\": {\"sum\": 199364.0, \"count\": 1, \"min\": 199364, \"max\": 199364}, \"Number of Batches Since Last Reset\": {\"sum\": 200.0, \"count\": 1, \"min\": 200, \"max\": 200}}}\n",
      "\u001b[0m\n",
      "\u001b[34m[07/10/2021 11:52:08 INFO 140687120037696] #throughput_metric: host=algo-1, train throughput=26109.815008057045 records/second\u001b[0m\n"
     ]
    },
    {
     "name": "stdout",
     "output_type": "stream",
     "text": [
      "\u001b[34m[2021-07-10 11:52:16.130] [tensorio] [info] epoch_stats={\"data_pipeline\": \"/opt/ml/input/data/train\", \"epoch\": 5, \"duration\": 7236, \"num_examples\": 200, \"num_bytes\": 33493152}\u001b[0m\n",
      "\u001b[34m#metrics {\"StartTime\": 1625917936.1308463, \"EndTime\": 1625917936.1309202, \"Dimensions\": {\"Algorithm\": \"Linear Learner\", \"Host\": \"algo-1\", \"Operation\": \"training\", \"epoch\": 1, \"model\": 0}, \"Metrics\": {\"train_binary_classification_cross_entropy_objective\": {\"sum\": 0.016883339575187645, \"count\": 1, \"min\": 0.016883339575187645, \"max\": 0.016883339575187645}}}\n",
      "\u001b[0m\n",
      "\u001b[34m#metrics {\"StartTime\": 1625917936.131014, \"EndTime\": 1625917936.131029, \"Dimensions\": {\"Algorithm\": \"Linear Learner\", \"Host\": \"algo-1\", \"Operation\": \"training\", \"epoch\": 1, \"model\": 1}, \"Metrics\": {\"train_binary_classification_cross_entropy_objective\": {\"sum\": 0.014893327607581363, \"count\": 1, \"min\": 0.014893327607581363, \"max\": 0.014893327607581363}}}\n",
      "\u001b[0m\n",
      "\u001b[34m#metrics {\"StartTime\": 1625917936.1310713, \"EndTime\": 1625917936.131082, \"Dimensions\": {\"Algorithm\": \"Linear Learner\", \"Host\": \"algo-1\", \"Operation\": \"training\", \"epoch\": 1, \"model\": 2}, \"Metrics\": {\"train_binary_classification_cross_entropy_objective\": {\"sum\": 0.01687481061178236, \"count\": 1, \"min\": 0.01687481061178236, \"max\": 0.01687481061178236}}}\n",
      "\u001b[0m\n",
      "\u001b[34m#metrics {\"StartTime\": 1625917936.1311185, \"EndTime\": 1625917936.1311285, \"Dimensions\": {\"Algorithm\": \"Linear Learner\", \"Host\": \"algo-1\", \"Operation\": \"training\", \"epoch\": 1, \"model\": 3}, \"Metrics\": {\"train_binary_classification_cross_entropy_objective\": {\"sum\": 0.014889016120278056, \"count\": 1, \"min\": 0.014889016120278056, \"max\": 0.014889016120278056}}}\n",
      "\u001b[0m\n",
      "\u001b[34m#metrics {\"StartTime\": 1625917936.1311707, \"EndTime\": 1625917936.1311817, \"Dimensions\": {\"Algorithm\": \"Linear Learner\", \"Host\": \"algo-1\", \"Operation\": \"training\", \"epoch\": 1, \"model\": 4}, \"Metrics\": {\"train_binary_classification_cross_entropy_objective\": {\"sum\": 0.0054091289906046496, \"count\": 1, \"min\": 0.0054091289906046496, \"max\": 0.0054091289906046496}}}\n",
      "\u001b[0m\n",
      "\u001b[34m#metrics {\"StartTime\": 1625917936.1312208, \"EndTime\": 1625917936.1312304, \"Dimensions\": {\"Algorithm\": \"Linear Learner\", \"Host\": \"algo-1\", \"Operation\": \"training\", \"epoch\": 1, \"model\": 5}, \"Metrics\": {\"train_binary_classification_cross_entropy_objective\": {\"sum\": 0.0055940955086569094, \"count\": 1, \"min\": 0.0055940955086569094, \"max\": 0.0055940955086569094}}}\n",
      "\u001b[0m\n",
      "\u001b[34m#metrics {\"StartTime\": 1625917936.1312718, \"EndTime\": 1625917936.1312823, \"Dimensions\": {\"Algorithm\": \"Linear Learner\", \"Host\": \"algo-1\", \"Operation\": \"training\", \"epoch\": 1, \"model\": 6}, \"Metrics\": {\"train_binary_classification_cross_entropy_objective\": {\"sum\": 0.00551705657522283, \"count\": 1, \"min\": 0.00551705657522283, \"max\": 0.00551705657522283}}}\n",
      "\u001b[0m\n",
      "\u001b[34m#metrics {\"StartTime\": 1625917936.1313198, \"EndTime\": 1625917936.1313295, \"Dimensions\": {\"Algorithm\": \"Linear Learner\", \"Host\": \"algo-1\", \"Operation\": \"training\", \"epoch\": 1, \"model\": 7}, \"Metrics\": {\"train_binary_classification_cross_entropy_objective\": {\"sum\": 0.005566651671825342, \"count\": 1, \"min\": 0.005566651671825342, \"max\": 0.005566651671825342}}}\n",
      "\u001b[0m\n",
      "\u001b[34m#metrics {\"StartTime\": 1625917936.1313705, \"EndTime\": 1625917936.131381, \"Dimensions\": {\"Algorithm\": \"Linear Learner\", \"Host\": \"algo-1\", \"Operation\": \"training\", \"epoch\": 1, \"model\": 8}, \"Metrics\": {\"train_binary_classification_cross_entropy_objective\": {\"sum\": 0.0170403941312627, \"count\": 1, \"min\": 0.0170403941312627, \"max\": 0.0170403941312627}}}\n",
      "\u001b[0m\n",
      "\u001b[34m#metrics {\"StartTime\": 1625917936.13145, \"EndTime\": 1625917936.1314623, \"Dimensions\": {\"Algorithm\": \"Linear Learner\", \"Host\": \"algo-1\", \"Operation\": \"training\", \"epoch\": 1, \"model\": 9}, \"Metrics\": {\"train_binary_classification_cross_entropy_objective\": {\"sum\": 0.015086053342675444, \"count\": 1, \"min\": 0.015086053342675444, \"max\": 0.015086053342675444}}}\n",
      "\u001b[0m\n",
      "\u001b[34m#metrics {\"StartTime\": 1625917936.1315012, \"EndTime\": 1625917936.131511, \"Dimensions\": {\"Algorithm\": \"Linear Learner\", \"Host\": \"algo-1\", \"Operation\": \"training\", \"epoch\": 1, \"model\": 10}, \"Metrics\": {\"train_binary_classification_cross_entropy_objective\": {\"sum\": 0.017052275235928484, \"count\": 1, \"min\": 0.017052275235928484, \"max\": 0.017052275235928484}}}\n",
      "\u001b[0m\n",
      "\u001b[34m#metrics {\"StartTime\": 1625917936.131556, \"EndTime\": 1625917936.131565, \"Dimensions\": {\"Algorithm\": \"Linear Learner\", \"Host\": \"algo-1\", \"Operation\": \"training\", \"epoch\": 1, \"model\": 11}, \"Metrics\": {\"train_binary_classification_cross_entropy_objective\": {\"sum\": 0.015078012080647837, \"count\": 1, \"min\": 0.015078012080647837, \"max\": 0.015078012080647837}}}\n",
      "\u001b[0m\n",
      "\u001b[34m#metrics {\"StartTime\": 1625917936.131605, \"EndTime\": 1625917936.131615, \"Dimensions\": {\"Algorithm\": \"Linear Learner\", \"Host\": \"algo-1\", \"Operation\": \"training\", \"epoch\": 1, \"model\": 12}, \"Metrics\": {\"train_binary_classification_cross_entropy_objective\": {\"sum\": 0.005623061710715893, \"count\": 1, \"min\": 0.005623061710715893, \"max\": 0.005623061710715893}}}\n",
      "\u001b[0m\n",
      "\u001b[34m#metrics {\"StartTime\": 1625917936.1316519, \"EndTime\": 1625917936.1316617, \"Dimensions\": {\"Algorithm\": \"Linear Learner\", \"Host\": \"algo-1\", \"Operation\": \"training\", \"epoch\": 1, \"model\": 13}, \"Metrics\": {\"train_binary_classification_cross_entropy_objective\": {\"sum\": 0.005685889098512468, \"count\": 1, \"min\": 0.005685889098512468, \"max\": 0.005685889098512468}}}\n",
      "\u001b[0m\n",
      "\u001b[34m#metrics {\"StartTime\": 1625917936.1317015, \"EndTime\": 1625917936.1317115, \"Dimensions\": {\"Algorithm\": \"Linear Learner\", \"Host\": \"algo-1\", \"Operation\": \"training\", \"epoch\": 1, \"model\": 14}, \"Metrics\": {\"train_binary_classification_cross_entropy_objective\": {\"sum\": 0.005619973746376421, \"count\": 1, \"min\": 0.005619973746376421, \"max\": 0.005619973746376421}}}\n",
      "\u001b[0m\n",
      "\u001b[34m#metrics {\"StartTime\": 1625917936.1317492, \"EndTime\": 1625917936.1317587, \"Dimensions\": {\"Algorithm\": \"Linear Learner\", \"Host\": \"algo-1\", \"Operation\": \"training\", \"epoch\": 1, \"model\": 15}, \"Metrics\": {\"train_binary_classification_cross_entropy_objective\": {\"sum\": 0.005672148302122576, \"count\": 1, \"min\": 0.005672148302122576, \"max\": 0.005672148302122576}}}\n",
      "\u001b[0m\n",
      "\u001b[34m#metrics {\"StartTime\": 1625917936.1317945, \"EndTime\": 1625917936.131804, \"Dimensions\": {\"Algorithm\": \"Linear Learner\", \"Host\": \"algo-1\", \"Operation\": \"training\", \"epoch\": 1, \"model\": 16}, \"Metrics\": {\"train_binary_classification_cross_entropy_objective\": {\"sum\": 0.02126987413665158, \"count\": 1, \"min\": 0.02126987413665158, \"max\": 0.02126987413665158}}}\n",
      "\u001b[0m\n",
      "\u001b[34m#metrics {\"StartTime\": 1625917936.1318433, \"EndTime\": 1625917936.1318533, \"Dimensions\": {\"Algorithm\": \"Linear Learner\", \"Host\": \"algo-1\", \"Operation\": \"training\", \"epoch\": 1, \"model\": 17}, \"Metrics\": {\"train_binary_classification_cross_entropy_objective\": {\"sum\": 0.019476390440859387, \"count\": 1, \"min\": 0.019476390440859387, \"max\": 0.019476390440859387}}}\n",
      "\u001b[0m\n",
      "\u001b[34m#metrics {\"StartTime\": 1625917936.1318913, \"EndTime\": 1625917936.1319008, \"Dimensions\": {\"Algorithm\": \"Linear Learner\", \"Host\": \"algo-1\", \"Operation\": \"training\", \"epoch\": 1, \"model\": 18}, \"Metrics\": {\"train_binary_classification_cross_entropy_objective\": {\"sum\": 0.02127108111932649, \"count\": 1, \"min\": 0.02127108111932649, \"max\": 0.02127108111932649}}}\n",
      "\u001b[0m\n",
      "\u001b[34m#metrics {\"StartTime\": 1625917936.1319344, \"EndTime\": 1625917936.1319435, \"Dimensions\": {\"Algorithm\": \"Linear Learner\", \"Host\": \"algo-1\", \"Operation\": \"training\", \"epoch\": 1, \"model\": 19}, \"Metrics\": {\"train_binary_classification_cross_entropy_objective\": {\"sum\": 0.01948852028679009, \"count\": 1, \"min\": 0.01948852028679009, \"max\": 0.01948852028679009}}}\n",
      "\u001b[0m\n",
      "\u001b[34m#metrics {\"StartTime\": 1625917936.1319826, \"EndTime\": 1625917936.1319926, \"Dimensions\": {\"Algorithm\": \"Linear Learner\", \"Host\": \"algo-1\", \"Operation\": \"training\", \"epoch\": 1, \"model\": 20}, \"Metrics\": {\"train_binary_classification_cross_entropy_objective\": {\"sum\": 0.012074755899271174, \"count\": 1, \"min\": 0.012074755899271174, \"max\": 0.012074755899271174}}}\n",
      "\u001b[0m\n",
      "\u001b[34m#metrics {\"StartTime\": 1625917936.1320343, \"EndTime\": 1625917936.132044, \"Dimensions\": {\"Algorithm\": \"Linear Learner\", \"Host\": \"algo-1\", \"Operation\": \"training\", \"epoch\": 1, \"model\": 21}, \"Metrics\": {\"train_binary_classification_cross_entropy_objective\": {\"sum\": 0.012111119604589951, \"count\": 1, \"min\": 0.012111119604589951, \"max\": 0.012111119604589951}}}\n",
      "\u001b[0m\n",
      "\u001b[34m#metrics {\"StartTime\": 1625917936.1320844, \"EndTime\": 1625917936.1320941, \"Dimensions\": {\"Algorithm\": \"Linear Learner\", \"Host\": \"algo-1\", \"Operation\": \"training\", \"epoch\": 1, \"model\": 22}, \"Metrics\": {\"train_binary_classification_cross_entropy_objective\": {\"sum\": 0.01207915733866955, \"count\": 1, \"min\": 0.01207915733866955, \"max\": 0.01207915733866955}}}\n",
      "\u001b[0m\n",
      "\u001b[34m#metrics {\"StartTime\": 1625917936.1321306, \"EndTime\": 1625917936.13214, \"Dimensions\": {\"Algorithm\": \"Linear Learner\", \"Host\": \"algo-1\", \"Operation\": \"training\", \"epoch\": 1, \"model\": 23}, \"Metrics\": {\"train_binary_classification_cross_entropy_objective\": {\"sum\": 0.01210820182843424, \"count\": 1, \"min\": 0.01210820182843424, \"max\": 0.01210820182843424}}}\n",
      "\u001b[0m\n",
      "\u001b[34m#metrics {\"StartTime\": 1625917936.1321821, \"EndTime\": 1625917936.1321917, \"Dimensions\": {\"Algorithm\": \"Linear Learner\", \"Host\": \"algo-1\", \"Operation\": \"training\", \"epoch\": 1, \"model\": 24}, \"Metrics\": {\"train_binary_classification_cross_entropy_objective\": {\"sum\": 0.022298133768627992, \"count\": 1, \"min\": 0.022298133768627992, \"max\": 0.022298133768627992}}}\n",
      "\u001b[0m\n",
      "\u001b[34m#metrics {\"StartTime\": 1625917936.1322389, \"EndTime\": 1625917936.1322534, \"Dimensions\": {\"Algorithm\": \"Linear Learner\", \"Host\": \"algo-1\", \"Operation\": \"training\", \"epoch\": 1, \"model\": 25}, \"Metrics\": {\"train_binary_classification_cross_entropy_objective\": {\"sum\": 0.020528922866936306, \"count\": 1, \"min\": 0.020528922866936306, \"max\": 0.020528922866936306}}}\n",
      "\u001b[0m\n",
      "\u001b[34m#metrics {\"StartTime\": 1625917936.132307, \"EndTime\": 1625917936.1323218, \"Dimensions\": {\"Algorithm\": \"Linear Learner\", \"Host\": \"algo-1\", \"Operation\": \"training\", \"epoch\": 1, \"model\": 26}, \"Metrics\": {\"train_binary_classification_cross_entropy_objective\": {\"sum\": 0.022301760285343957, \"count\": 1, \"min\": 0.022301760285343957, \"max\": 0.022301760285343957}}}\n",
      "\u001b[0m\n",
      "\u001b[34m#metrics {\"StartTime\": 1625917936.132374, \"EndTime\": 1625917936.132389, \"Dimensions\": {\"Algorithm\": \"Linear Learner\", \"Host\": \"algo-1\", \"Operation\": \"training\", \"epoch\": 1, \"model\": 27}, \"Metrics\": {\"train_binary_classification_cross_entropy_objective\": {\"sum\": 0.020534939981585173, \"count\": 1, \"min\": 0.020534939981585173, \"max\": 0.020534939981585173}}}\n",
      "\u001b[0m\n",
      "\u001b[34m#metrics {\"StartTime\": 1625917936.1324236, \"EndTime\": 1625917936.132437, \"Dimensions\": {\"Algorithm\": \"Linear Learner\", \"Host\": \"algo-1\", \"Operation\": \"training\", \"epoch\": 1, \"model\": 28}, \"Metrics\": {\"train_binary_classification_cross_entropy_objective\": {\"sum\": 0.01314413232719479, \"count\": 1, \"min\": 0.01314413232719479, \"max\": 0.01314413232719479}}}\n",
      "\u001b[0m\n",
      "\u001b[34m#metrics {\"StartTime\": 1625917936.1324887, \"EndTime\": 1625917936.1325035, \"Dimensions\": {\"Algorithm\": \"Linear Learner\", \"Host\": \"algo-1\", \"Operation\": \"training\", \"epoch\": 1, \"model\": 29}, \"Metrics\": {\"train_binary_classification_cross_entropy_objective\": {\"sum\": 0.013147845992490874, \"count\": 1, \"min\": 0.013147845992490874, \"max\": 0.013147845992490874}}}\n",
      "\u001b[0m\n",
      "\u001b[34m#metrics {\"StartTime\": 1625917936.1325538, \"EndTime\": 1625917936.1325686, \"Dimensions\": {\"Algorithm\": \"Linear Learner\", \"Host\": \"algo-1\", \"Operation\": \"training\", \"epoch\": 1, \"model\": 30}, \"Metrics\": {\"train_binary_classification_cross_entropy_objective\": {\"sum\": 0.013144269559251603, \"count\": 1, \"min\": 0.013144269559251603, \"max\": 0.013144269559251603}}}\n",
      "\u001b[0m\n",
      "\u001b[34m#metrics {\"StartTime\": 1625917936.1326077, \"EndTime\": 1625917936.1326208, \"Dimensions\": {\"Algorithm\": \"Linear Learner\", \"Host\": \"algo-1\", \"Operation\": \"training\", \"epoch\": 1, \"model\": 31}, \"Metrics\": {\"train_binary_classification_cross_entropy_objective\": {\"sum\": 0.013148174486567627, \"count\": 1, \"min\": 0.013148174486567627, \"max\": 0.013148174486567627}}}\n",
      "\u001b[0m\n",
      "\u001b[34m[07/10/2021 11:52:16 INFO 140687120037696] #quality_metric: host=algo-1, epoch=1, train binary_classification_cross_entropy_objective <loss>=0.016883339575187645\u001b[0m\n",
      "\u001b[34m[07/10/2021 11:52:16 INFO 140687120037696] #early_stopping_criteria_metric: host=algo-1, epoch=1, criteria=binary_classification_cross_entropy_objective, value=0.0054091289906046496\u001b[0m\n",
      "\u001b[34m[07/10/2021 11:52:16 INFO 140687120037696] Epoch 1: Loss improved. Updating best model\u001b[0m\n",
      "\u001b[34m[07/10/2021 11:52:16 INFO 140687120037696] Saving model for epoch: 1\u001b[0m\n",
      "\u001b[34m[07/10/2021 11:52:16 INFO 140687120037696] Saved checkpoint to \"/tmp/tmpo00k4dob/mx-mod-0000.params\"\u001b[0m\n",
      "\u001b[34m[07/10/2021 11:52:16 INFO 140687120037696] #progress_metric: host=algo-1, completed 20.0 % of epochs\u001b[0m\n",
      "\u001b[34m#metrics {\"StartTime\": 1625917928.8937135, \"EndTime\": 1625917936.1414464, \"Dimensions\": {\"Algorithm\": \"Linear Learner\", \"Host\": \"algo-1\", \"Operation\": \"training\", \"epoch\": 1, \"Meta\": \"training_data_iter\"}, \"Metrics\": {\"Total Records Seen\": {\"sum\": 410728.0, \"count\": 1, \"min\": 410728, \"max\": 410728}, \"Total Batches Seen\": {\"sum\": 412.0, \"count\": 1, \"min\": 412, \"max\": 412}, \"Max Records Seen Between Resets\": {\"sum\": 199364.0, \"count\": 1, \"min\": 199364, \"max\": 199364}, \"Max Batches Seen Between Resets\": {\"sum\": 200.0, \"count\": 1, \"min\": 200, \"max\": 200}, \"Reset Count\": {\"sum\": 4.0, \"count\": 1, \"min\": 4, \"max\": 4}, \"Number of Records Since Last Reset\": {\"sum\": 199364.0, \"count\": 1, \"min\": 199364, \"max\": 199364}, \"Number of Batches Since Last Reset\": {\"sum\": 200.0, \"count\": 1, \"min\": 200, \"max\": 200}}}\n",
      "\u001b[0m\n",
      "\u001b[34m[07/10/2021 11:52:16 INFO 140687120037696] #throughput_metric: host=algo-1, train throughput=27506.563212466306 records/second\u001b[0m\n"
     ]
    },
    {
     "name": "stdout",
     "output_type": "stream",
     "text": [
      "\u001b[34m[2021-07-10 11:52:23.205] [tensorio] [info] epoch_stats={\"data_pipeline\": \"/opt/ml/input/data/train\", \"epoch\": 7, \"duration\": 7063, \"num_examples\": 200, \"num_bytes\": 33493152}\u001b[0m\n",
      "\u001b[34m#metrics {\"StartTime\": 1625917943.2056828, \"EndTime\": 1625917943.205768, \"Dimensions\": {\"Algorithm\": \"Linear Learner\", \"Host\": \"algo-1\", \"Operation\": \"training\", \"epoch\": 2, \"model\": 0}, \"Metrics\": {\"train_binary_classification_cross_entropy_objective\": {\"sum\": 0.010249469512671083, \"count\": 1, \"min\": 0.010249469512671083, \"max\": 0.010249469512671083}}}\n",
      "\u001b[0m\n",
      "\u001b[34m#metrics {\"StartTime\": 1625917943.20589, \"EndTime\": 1625917943.2059102, \"Dimensions\": {\"Algorithm\": \"Linear Learner\", \"Host\": \"algo-1\", \"Operation\": \"training\", \"epoch\": 2, \"model\": 1}, \"Metrics\": {\"train_binary_classification_cross_entropy_objective\": {\"sum\": 0.008671593309047832, \"count\": 1, \"min\": 0.008671593309047832, \"max\": 0.008671593309047832}}}\n",
      "\u001b[0m\n",
      "\u001b[34m#metrics {\"StartTime\": 1625917943.205999, \"EndTime\": 1625917943.2060173, \"Dimensions\": {\"Algorithm\": \"Linear Learner\", \"Host\": \"algo-1\", \"Operation\": \"training\", \"epoch\": 2, \"model\": 2}, \"Metrics\": {\"train_binary_classification_cross_entropy_objective\": {\"sum\": 0.010244108916527063, \"count\": 1, \"min\": 0.010244108916527063, \"max\": 0.010244108916527063}}}\n",
      "\u001b[0m\n",
      "\u001b[34m#metrics {\"StartTime\": 1625917943.2060869, \"EndTime\": 1625917943.206106, \"Dimensions\": {\"Algorithm\": \"Linear Learner\", \"Host\": \"algo-1\", \"Operation\": \"training\", \"epoch\": 2, \"model\": 3}, \"Metrics\": {\"train_binary_classification_cross_entropy_objective\": {\"sum\": 0.00867205645930228, \"count\": 1, \"min\": 0.00867205645930228, \"max\": 0.00867205645930228}}}\n",
      "\u001b[0m\n",
      "\u001b[34m#metrics {\"StartTime\": 1625917943.2061856, \"EndTime\": 1625917943.2062035, \"Dimensions\": {\"Algorithm\": \"Linear Learner\", \"Host\": \"algo-1\", \"Operation\": \"training\", \"epoch\": 2, \"model\": 4}, \"Metrics\": {\"train_binary_classification_cross_entropy_objective\": {\"sum\": 0.004918119081076066, \"count\": 1, \"min\": 0.004918119081076066, \"max\": 0.004918119081076066}}}\n",
      "\u001b[0m\n",
      "\u001b[34m#metrics {\"StartTime\": 1625917943.206296, \"EndTime\": 1625917943.2063153, \"Dimensions\": {\"Algorithm\": \"Linear Learner\", \"Host\": \"algo-1\", \"Operation\": \"training\", \"epoch\": 2, \"model\": 5}, \"Metrics\": {\"train_binary_classification_cross_entropy_objective\": {\"sum\": 0.005651303291320801, \"count\": 1, \"min\": 0.005651303291320801, \"max\": 0.005651303291320801}}}\n",
      "\u001b[0m\n",
      "\u001b[34m#metrics {\"StartTime\": 1625917943.206405, \"EndTime\": 1625917943.2064219, \"Dimensions\": {\"Algorithm\": \"Linear Learner\", \"Host\": \"algo-1\", \"Operation\": \"training\", \"epoch\": 2, \"model\": 6}, \"Metrics\": {\"train_binary_classification_cross_entropy_objective\": {\"sum\": 0.0049273479259643125, \"count\": 1, \"min\": 0.0049273479259643125, \"max\": 0.0049273479259643125}}}\n",
      "\u001b[0m\n",
      "\u001b[34m#metrics {\"StartTime\": 1625917943.2065058, \"EndTime\": 1625917943.2065244, \"Dimensions\": {\"Algorithm\": \"Linear Learner\", \"Host\": \"algo-1\", \"Operation\": \"training\", \"epoch\": 2, \"model\": 7}, \"Metrics\": {\"train_binary_classification_cross_entropy_objective\": {\"sum\": 0.005490868361226878, \"count\": 1, \"min\": 0.005490868361226878, \"max\": 0.005490868361226878}}}\n",
      "\u001b[0m\n",
      "\u001b[34m#metrics {\"StartTime\": 1625917943.206609, \"EndTime\": 1625917943.2066267, \"Dimensions\": {\"Algorithm\": \"Linear Learner\", \"Host\": \"algo-1\", \"Operation\": \"training\", \"epoch\": 2, \"model\": 8}, \"Metrics\": {\"train_binary_classification_cross_entropy_objective\": {\"sum\": 0.010515944255656334, \"count\": 1, \"min\": 0.010515944255656334, \"max\": 0.010515944255656334}}}\n",
      "\u001b[0m\n",
      "\u001b[34m#metrics {\"StartTime\": 1625917943.2066984, \"EndTime\": 1625917943.206715, \"Dimensions\": {\"Algorithm\": \"Linear Learner\", \"Host\": \"algo-1\", \"Operation\": \"training\", \"epoch\": 2, \"model\": 9}, \"Metrics\": {\"train_binary_classification_cross_entropy_objective\": {\"sum\": 0.009003221483086821, \"count\": 1, \"min\": 0.009003221483086821, \"max\": 0.009003221483086821}}}\n",
      "\u001b[0m\n",
      "\u001b[34m#metrics {\"StartTime\": 1625917943.2067926, \"EndTime\": 1625917943.2068098, \"Dimensions\": {\"Algorithm\": \"Linear Learner\", \"Host\": \"algo-1\", \"Operation\": \"training\", \"epoch\": 2, \"model\": 10}, \"Metrics\": {\"train_binary_classification_cross_entropy_objective\": {\"sum\": 0.010521823832737141, \"count\": 1, \"min\": 0.010521823832737141, \"max\": 0.010521823832737141}}}\n",
      "\u001b[0m\n",
      "\u001b[34m#metrics {\"StartTime\": 1625917943.206879, \"EndTime\": 1625917943.2068958, \"Dimensions\": {\"Algorithm\": \"Linear Learner\", \"Host\": \"algo-1\", \"Operation\": \"training\", \"epoch\": 2, \"model\": 11}, \"Metrics\": {\"train_binary_classification_cross_entropy_objective\": {\"sum\": 0.008999888767549142, \"count\": 1, \"min\": 0.008999888767549142, \"max\": 0.008999888767549142}}}\n",
      "\u001b[0m\n",
      "\u001b[34m#metrics {\"StartTime\": 1625917943.2069552, \"EndTime\": 1625917943.2069726, \"Dimensions\": {\"Algorithm\": \"Linear Learner\", \"Host\": \"algo-1\", \"Operation\": \"training\", \"epoch\": 2, \"model\": 12}, \"Metrics\": {\"train_binary_classification_cross_entropy_objective\": {\"sum\": 0.005593623910117988, \"count\": 1, \"min\": 0.005593623910117988, \"max\": 0.005593623910117988}}}\n",
      "\u001b[0m\n",
      "\u001b[34m#metrics {\"StartTime\": 1625917943.2070346, \"EndTime\": 1625917943.207051, \"Dimensions\": {\"Algorithm\": \"Linear Learner\", \"Host\": \"algo-1\", \"Operation\": \"training\", \"epoch\": 2, \"model\": 13}, \"Metrics\": {\"train_binary_classification_cross_entropy_objective\": {\"sum\": 0.005721277174338624, \"count\": 1, \"min\": 0.005721277174338624, \"max\": 0.005721277174338624}}}\n",
      "\u001b[0m\n",
      "\u001b[34m#metrics {\"StartTime\": 1625917943.207118, \"EndTime\": 1625917943.2071345, \"Dimensions\": {\"Algorithm\": \"Linear Learner\", \"Host\": \"algo-1\", \"Operation\": \"training\", \"epoch\": 2, \"model\": 14}, \"Metrics\": {\"train_binary_classification_cross_entropy_objective\": {\"sum\": 0.005546630558656089, \"count\": 1, \"min\": 0.005546630558656089, \"max\": 0.005546630558656089}}}\n",
      "\u001b[0m\n",
      "\u001b[34m#metrics {\"StartTime\": 1625917943.2072003, \"EndTime\": 1625917943.2072167, \"Dimensions\": {\"Algorithm\": \"Linear Learner\", \"Host\": \"algo-1\", \"Operation\": \"training\", \"epoch\": 2, \"model\": 15}, \"Metrics\": {\"train_binary_classification_cross_entropy_objective\": {\"sum\": 0.005712993024581641, \"count\": 1, \"min\": 0.005712993024581641, \"max\": 0.005712993024581641}}}\n",
      "\u001b[0m\n",
      "\u001b[34m#metrics {\"StartTime\": 1625917943.2072818, \"EndTime\": 1625917943.2072983, \"Dimensions\": {\"Algorithm\": \"Linear Learner\", \"Host\": \"algo-1\", \"Operation\": \"training\", \"epoch\": 2, \"model\": 16}, \"Metrics\": {\"train_binary_classification_cross_entropy_objective\": {\"sum\": 0.015533093172102119, \"count\": 1, \"min\": 0.015533093172102119, \"max\": 0.015533093172102119}}}\n",
      "\u001b[0m\n",
      "\u001b[34m#metrics {\"StartTime\": 1625917943.207351, \"EndTime\": 1625917943.2073665, \"Dimensions\": {\"Algorithm\": \"Linear Learner\", \"Host\": \"algo-1\", \"Operation\": \"training\", \"epoch\": 2, \"model\": 17}, \"Metrics\": {\"train_binary_classification_cross_entropy_objective\": {\"sum\": 0.0142904183541111, \"count\": 1, \"min\": 0.0142904183541111, \"max\": 0.0142904183541111}}}\n",
      "\u001b[0m\n",
      "\u001b[34m#metrics {\"StartTime\": 1625917943.2074597, \"EndTime\": 1625917943.2074778, \"Dimensions\": {\"Algorithm\": \"Linear Learner\", \"Host\": \"algo-1\", \"Operation\": \"training\", \"epoch\": 2, \"model\": 18}, \"Metrics\": {\"train_binary_classification_cross_entropy_objective\": {\"sum\": 0.01553408638556399, \"count\": 1, \"min\": 0.01553408638556399, \"max\": 0.01553408638556399}}}\n",
      "\u001b[0m\n",
      "\u001b[34m#metrics {\"StartTime\": 1625917943.2075417, \"EndTime\": 1625917943.2075582, \"Dimensions\": {\"Algorithm\": \"Linear Learner\", \"Host\": \"algo-1\", \"Operation\": \"training\", \"epoch\": 2, \"model\": 19}, \"Metrics\": {\"train_binary_classification_cross_entropy_objective\": {\"sum\": 0.014295967495022108, \"count\": 1, \"min\": 0.014295967495022108, \"max\": 0.014295967495022108}}}\n",
      "\u001b[0m\n",
      "\u001b[34m#metrics {\"StartTime\": 1625917943.20763, \"EndTime\": 1625917943.2076473, \"Dimensions\": {\"Algorithm\": \"Linear Learner\", \"Host\": \"algo-1\", \"Operation\": \"training\", \"epoch\": 2, \"model\": 20}, \"Metrics\": {\"train_binary_classification_cross_entropy_objective\": {\"sum\": 0.012072144002171617, \"count\": 1, \"min\": 0.012072144002171617, \"max\": 0.012072144002171617}}}\n",
      "\u001b[0m\n",
      "\u001b[34m#metrics {\"StartTime\": 1625917943.2077107, \"EndTime\": 1625917943.2077277, \"Dimensions\": {\"Algorithm\": \"Linear Learner\", \"Host\": \"algo-1\", \"Operation\": \"training\", \"epoch\": 2, \"model\": 21}, \"Metrics\": {\"train_binary_classification_cross_entropy_objective\": {\"sum\": 0.0121305170963757, \"count\": 1, \"min\": 0.0121305170963757, \"max\": 0.0121305170963757}}}\n",
      "\u001b[0m\n",
      "\u001b[34m#metrics {\"StartTime\": 1625917943.2078004, \"EndTime\": 1625917943.207817, \"Dimensions\": {\"Algorithm\": \"Linear Learner\", \"Host\": \"algo-1\", \"Operation\": \"training\", \"epoch\": 2, \"model\": 22}, \"Metrics\": {\"train_binary_classification_cross_entropy_objective\": {\"sum\": 0.012072037987373583, \"count\": 1, \"min\": 0.012072037987373583, \"max\": 0.012072037987373583}}}\n",
      "\u001b[0m\n",
      "\u001b[34m#metrics {\"StartTime\": 1625917943.2078922, \"EndTime\": 1625917943.2079093, \"Dimensions\": {\"Algorithm\": \"Linear Learner\", \"Host\": \"algo-1\", \"Operation\": \"training\", \"epoch\": 2, \"model\": 23}, \"Metrics\": {\"train_binary_classification_cross_entropy_objective\": {\"sum\": 0.012126008991021007, \"count\": 1, \"min\": 0.012126008991021007, \"max\": 0.012126008991021007}}}\n",
      "\u001b[0m\n",
      "\u001b[34m#metrics {\"StartTime\": 1625917943.2079742, \"EndTime\": 1625917943.2079911, \"Dimensions\": {\"Algorithm\": \"Linear Learner\", \"Host\": \"algo-1\", \"Operation\": \"training\", \"epoch\": 2, \"model\": 24}, \"Metrics\": {\"train_binary_classification_cross_entropy_objective\": {\"sum\": 0.016575735899671238, \"count\": 1, \"min\": 0.016575735899671238, \"max\": 0.016575735899671238}}}\n",
      "\u001b[0m\n",
      "\u001b[34m#metrics {\"StartTime\": 1625917943.2080584, \"EndTime\": 1625917943.208075, \"Dimensions\": {\"Algorithm\": \"Linear Learner\", \"Host\": \"algo-1\", \"Operation\": \"training\", \"epoch\": 2, \"model\": 25}, \"Metrics\": {\"train_binary_classification_cross_entropy_objective\": {\"sum\": 0.01536184029123891, \"count\": 1, \"min\": 0.01536184029123891, \"max\": 0.01536184029123891}}}\n",
      "\u001b[0m\n",
      "\u001b[34m#metrics {\"StartTime\": 1625917943.208141, \"EndTime\": 1625917943.208158, \"Dimensions\": {\"Algorithm\": \"Linear Learner\", \"Host\": \"algo-1\", \"Operation\": \"training\", \"epoch\": 2, \"model\": 26}, \"Metrics\": {\"train_binary_classification_cross_entropy_objective\": {\"sum\": 0.01657752835451059, \"count\": 1, \"min\": 0.01657752835451059, \"max\": 0.01657752835451059}}}\n",
      "\u001b[0m\n",
      "\u001b[34m#metrics {\"StartTime\": 1625917943.2082279, \"EndTime\": 1625917943.2082446, \"Dimensions\": {\"Algorithm\": \"Linear Learner\", \"Host\": \"algo-1\", \"Operation\": \"training\", \"epoch\": 2, \"model\": 27}, \"Metrics\": {\"train_binary_classification_cross_entropy_objective\": {\"sum\": 0.01536392712712887, \"count\": 1, \"min\": 0.01536392712712887, \"max\": 0.01536392712712887}}}\n",
      "\u001b[0m\n",
      "\u001b[34m#metrics {\"StartTime\": 1625917943.208321, \"EndTime\": 1625917943.2083385, \"Dimensions\": {\"Algorithm\": \"Linear Learner\", \"Host\": \"algo-1\", \"Operation\": \"training\", \"epoch\": 2, \"model\": 28}, \"Metrics\": {\"train_binary_classification_cross_entropy_objective\": {\"sum\": 0.013144806580327862, \"count\": 1, \"min\": 0.013144806580327862, \"max\": 0.013144806580327862}}}\n",
      "\u001b[0m\n",
      "\u001b[34m#metrics {\"StartTime\": 1625917943.208407, \"EndTime\": 1625917943.2084239, \"Dimensions\": {\"Algorithm\": \"Linear Learner\", \"Host\": \"algo-1\", \"Operation\": \"training\", \"epoch\": 2, \"model\": 29}, \"Metrics\": {\"train_binary_classification_cross_entropy_objective\": {\"sum\": 0.013156182020153832, \"count\": 1, \"min\": 0.013156182020153832, \"max\": 0.013156182020153832}}}\n",
      "\u001b[0m\n",
      "\u001b[34m#metrics {\"StartTime\": 1625917943.2084923, \"EndTime\": 1625917943.2085094, \"Dimensions\": {\"Algorithm\": \"Linear Learner\", \"Host\": \"algo-1\", \"Operation\": \"training\", \"epoch\": 2, \"model\": 30}, \"Metrics\": {\"train_binary_classification_cross_entropy_objective\": {\"sum\": 0.013145586877012972, \"count\": 1, \"min\": 0.013145586877012972, \"max\": 0.013145586877012972}}}\n",
      "\u001b[0m\n",
      "\u001b[34m#metrics {\"StartTime\": 1625917943.2085683, \"EndTime\": 1625917943.2085843, \"Dimensions\": {\"Algorithm\": \"Linear Learner\", \"Host\": \"algo-1\", \"Operation\": \"training\", \"epoch\": 2, \"model\": 31}, \"Metrics\": {\"train_binary_classification_cross_entropy_objective\": {\"sum\": 0.01315547815998595, \"count\": 1, \"min\": 0.01315547815998595, \"max\": 0.01315547815998595}}}\n",
      "\u001b[0m\n",
      "\u001b[34m[07/10/2021 11:52:23 INFO 140687120037696] #quality_metric: host=algo-1, epoch=2, train binary_classification_cross_entropy_objective <loss>=0.010249469512671083\u001b[0m\n",
      "\u001b[34m[07/10/2021 11:52:23 INFO 140687120037696] #early_stopping_criteria_metric: host=algo-1, epoch=2, criteria=binary_classification_cross_entropy_objective, value=0.004918119081076066\u001b[0m\n",
      "\u001b[34m[07/10/2021 11:52:23 INFO 140687120037696] Epoch 2: Loss improved. Updating best model\u001b[0m\n",
      "\u001b[34m[07/10/2021 11:52:23 INFO 140687120037696] Saving model for epoch: 2\u001b[0m\n",
      "\u001b[34m[07/10/2021 11:52:23 INFO 140687120037696] Saved checkpoint to \"/tmp/tmp8u3pm350/mx-mod-0000.params\"\u001b[0m\n",
      "\u001b[34m[07/10/2021 11:52:23 INFO 140687120037696] #progress_metric: host=algo-1, completed 30.0 % of epochs\u001b[0m\n",
      "\u001b[34m#metrics {\"StartTime\": 1625917936.1417124, \"EndTime\": 1625917943.2178066, \"Dimensions\": {\"Algorithm\": \"Linear Learner\", \"Host\": \"algo-1\", \"Operation\": \"training\", \"epoch\": 2, \"Meta\": \"training_data_iter\"}, \"Metrics\": {\"Total Records Seen\": {\"sum\": 610092.0, \"count\": 1, \"min\": 610092, \"max\": 610092}, \"Total Batches Seen\": {\"sum\": 612.0, \"count\": 1, \"min\": 612, \"max\": 612}, \"Max Records Seen Between Resets\": {\"sum\": 199364.0, \"count\": 1, \"min\": 199364, \"max\": 199364}, \"Max Batches Seen Between Resets\": {\"sum\": 200.0, \"count\": 1, \"min\": 200, \"max\": 200}, \"Reset Count\": {\"sum\": 5.0, \"count\": 1, \"min\": 5, \"max\": 5}, \"Number of Records Since Last Reset\": {\"sum\": 199364.0, \"count\": 1, \"min\": 199364, \"max\": 199364}, \"Number of Batches Since Last Reset\": {\"sum\": 200.0, \"count\": 1, \"min\": 200, \"max\": 200}}}\n",
      "\u001b[0m\n",
      "\u001b[34m[07/10/2021 11:52:23 INFO 140687120037696] #throughput_metric: host=algo-1, train throughput=28173.793168584827 records/second\u001b[0m\n",
      "\u001b[34m[2021-07-10 11:52:29.976] [tensorio] [info] epoch_stats={\"data_pipeline\": \"/opt/ml/input/data/train\", \"epoch\": 9, \"duration\": 6758, \"num_examples\": 200, \"num_bytes\": 33493152}\u001b[0m\n",
      "\u001b[34m#metrics {\"StartTime\": 1625917949.9766705, \"EndTime\": 1625917949.9767451, \"Dimensions\": {\"Algorithm\": \"Linear Learner\", \"Host\": \"algo-1\", \"Operation\": \"training\", \"epoch\": 3, \"model\": 0}, \"Metrics\": {\"train_binary_classification_cross_entropy_objective\": {\"sum\": 0.00796071047279703, \"count\": 1, \"min\": 0.00796071047279703, \"max\": 0.00796071047279703}}}\n",
      "\u001b[0m\n",
      "\u001b[34m#metrics {\"StartTime\": 1625917949.9768264, \"EndTime\": 1625917949.9768443, \"Dimensions\": {\"Algorithm\": \"Linear Learner\", \"Host\": \"algo-1\", \"Operation\": \"training\", \"epoch\": 3, \"model\": 1}, \"Metrics\": {\"train_binary_classification_cross_entropy_objective\": {\"sum\": 0.0066089136300973555, \"count\": 1, \"min\": 0.0066089136300973555, \"max\": 0.0066089136300973555}}}\n",
      "\u001b[0m\n",
      "\u001b[34m#metrics {\"StartTime\": 1625917949.9768977, \"EndTime\": 1625917949.9769142, \"Dimensions\": {\"Algorithm\": \"Linear Learner\", \"Host\": \"algo-1\", \"Operation\": \"training\", \"epoch\": 3, \"model\": 2}, \"Metrics\": {\"train_binary_classification_cross_entropy_objective\": {\"sum\": 0.007957086086273194, \"count\": 1, \"min\": 0.007957086086273194, \"max\": 0.007957086086273194}}}\n",
      "\u001b[0m\n",
      "\u001b[34m#metrics {\"StartTime\": 1625917949.9769676, \"EndTime\": 1625917949.9769833, \"Dimensions\": {\"Algorithm\": \"Linear Learner\", \"Host\": \"algo-1\", \"Operation\": \"training\", \"epoch\": 3, \"model\": 3}, \"Metrics\": {\"train_binary_classification_cross_entropy_objective\": {\"sum\": 0.006610484449108642, \"count\": 1, \"min\": 0.006610484449108642, \"max\": 0.006610484449108642}}}\n",
      "\u001b[0m\n",
      "\u001b[34m#metrics {\"StartTime\": 1625917949.9770355, \"EndTime\": 1625917949.9770517, \"Dimensions\": {\"Algorithm\": \"Linear Learner\", \"Host\": \"algo-1\", \"Operation\": \"training\", \"epoch\": 3, \"model\": 4}, \"Metrics\": {\"train_binary_classification_cross_entropy_objective\": {\"sum\": 0.004880614865664861, \"count\": 1, \"min\": 0.004880614865664861, \"max\": 0.004880614865664861}}}\n",
      "\u001b[0m\n",
      "\u001b[34m#metrics {\"StartTime\": 1625917949.9771037, \"EndTime\": 1625917949.9771187, \"Dimensions\": {\"Algorithm\": \"Linear Learner\", \"Host\": \"algo-1\", \"Operation\": \"training\", \"epoch\": 3, \"model\": 5}, \"Metrics\": {\"train_binary_classification_cross_entropy_objective\": {\"sum\": 0.0056762961473447, \"count\": 1, \"min\": 0.0056762961473447, \"max\": 0.0056762961473447}}}\n",
      "\u001b[0m\n",
      "\u001b[34m#metrics {\"StartTime\": 1625917949.9771662, \"EndTime\": 1625917949.977181, \"Dimensions\": {\"Algorithm\": \"Linear Learner\", \"Host\": \"algo-1\", \"Operation\": \"training\", \"epoch\": 3, \"model\": 6}, \"Metrics\": {\"train_binary_classification_cross_entropy_objective\": {\"sum\": 0.0048339958825902125, \"count\": 1, \"min\": 0.0048339958825902125, \"max\": 0.0048339958825902125}}}\n",
      "\u001b[0m\n",
      "\u001b[34m#metrics {\"StartTime\": 1625917949.9772327, \"EndTime\": 1625917949.977248, \"Dimensions\": {\"Algorithm\": \"Linear Learner\", \"Host\": \"algo-1\", \"Operation\": \"training\", \"epoch\": 3, \"model\": 7}, \"Metrics\": {\"train_binary_classification_cross_entropy_objective\": {\"sum\": 0.005778292669797663, \"count\": 1, \"min\": 0.005778292669797663, \"max\": 0.005778292669797663}}}\n",
      "\u001b[0m\n",
      "\u001b[34m#metrics {\"StartTime\": 1625917949.9772968, \"EndTime\": 1625917949.977312, \"Dimensions\": {\"Algorithm\": \"Linear Learner\", \"Host\": \"algo-1\", \"Operation\": \"training\", \"epoch\": 3, \"model\": 8}, \"Metrics\": {\"train_binary_classification_cross_entropy_objective\": {\"sum\": 0.008326100792717095, \"count\": 1, \"min\": 0.008326100792717095, \"max\": 0.008326100792717095}}}\n",
      "\u001b[0m\n",
      "\u001b[34m#metrics {\"StartTime\": 1625917949.9773743, \"EndTime\": 1625917949.9773893, \"Dimensions\": {\"Algorithm\": \"Linear Learner\", \"Host\": \"algo-1\", \"Operation\": \"training\", \"epoch\": 3, \"model\": 9}, \"Metrics\": {\"train_binary_classification_cross_entropy_objective\": {\"sum\": 0.007068617700931415, \"count\": 1, \"min\": 0.007068617700931415, \"max\": 0.007068617700931415}}}\n",
      "\u001b[0m\n",
      "\u001b[34m#metrics {\"StartTime\": 1625917949.977431, \"EndTime\": 1625917949.9774454, \"Dimensions\": {\"Algorithm\": \"Linear Learner\", \"Host\": \"algo-1\", \"Operation\": \"training\", \"epoch\": 3, \"model\": 10}, \"Metrics\": {\"train_binary_classification_cross_entropy_objective\": {\"sum\": 0.008329802803058721, \"count\": 1, \"min\": 0.008329802803058721, \"max\": 0.008329802803058721}}}\n",
      "\u001b[0m\n",
      "\u001b[34m#metrics {\"StartTime\": 1625917949.9774947, \"EndTime\": 1625917949.97751, \"Dimensions\": {\"Algorithm\": \"Linear Learner\", \"Host\": \"algo-1\", \"Operation\": \"training\", \"epoch\": 3, \"model\": 11}, \"Metrics\": {\"train_binary_classification_cross_entropy_objective\": {\"sum\": 0.007066659938150914, \"count\": 1, \"min\": 0.007066659938150914, \"max\": 0.007066659938150914}}}\n",
      "\u001b[0m\n",
      "\u001b[34m#metrics {\"StartTime\": 1625917949.9775589, \"EndTime\": 1625917949.9775736, \"Dimensions\": {\"Algorithm\": \"Linear Learner\", \"Host\": \"algo-1\", \"Operation\": \"training\", \"epoch\": 3, \"model\": 12}, \"Metrics\": {\"train_binary_classification_cross_entropy_objective\": {\"sum\": 0.005508160799891505, \"count\": 1, \"min\": 0.005508160799891505, \"max\": 0.005508160799891505}}}\n",
      "\u001b[0m\n",
      "\u001b[34m#metrics {\"StartTime\": 1625917949.9776225, \"EndTime\": 1625917949.977638, \"Dimensions\": {\"Algorithm\": \"Linear Learner\", \"Host\": \"algo-1\", \"Operation\": \"training\", \"epoch\": 3, \"model\": 13}, \"Metrics\": {\"train_binary_classification_cross_entropy_objective\": {\"sum\": 0.005722462366274254, \"count\": 1, \"min\": 0.005722462366274254, \"max\": 0.005722462366274254}}}\n",
      "\u001b[0m\n",
      "\u001b[34m#metrics {\"StartTime\": 1625917949.9776862, \"EndTime\": 1625917949.9777026, \"Dimensions\": {\"Algorithm\": \"Linear Learner\", \"Host\": \"algo-1\", \"Operation\": \"training\", \"epoch\": 3, \"model\": 14}, \"Metrics\": {\"train_binary_classification_cross_entropy_objective\": {\"sum\": 0.005536814449720047, \"count\": 1, \"min\": 0.005536814449720047, \"max\": 0.005536814449720047}}}\n",
      "\u001b[0m\n",
      "\u001b[34m#metrics {\"StartTime\": 1625917949.9777517, \"EndTime\": 1625917949.9777668, \"Dimensions\": {\"Algorithm\": \"Linear Learner\", \"Host\": \"algo-1\", \"Operation\": \"training\", \"epoch\": 3, \"model\": 15}, \"Metrics\": {\"train_binary_classification_cross_entropy_objective\": {\"sum\": 0.005721494068751982, \"count\": 1, \"min\": 0.005721494068751982, \"max\": 0.005721494068751982}}}\n",
      "\u001b[0m\n",
      "\u001b[34m#metrics {\"StartTime\": 1625917949.9778178, \"EndTime\": 1625917949.977833, \"Dimensions\": {\"Algorithm\": \"Linear Learner\", \"Host\": \"algo-1\", \"Operation\": \"training\", \"epoch\": 3, \"model\": 16}, \"Metrics\": {\"train_binary_classification_cross_entropy_objective\": {\"sum\": 0.013815465059711705, \"count\": 1, \"min\": 0.013815465059711705, \"max\": 0.013815465059711705}}}\n",
      "\u001b[0m\n",
      "\u001b[34m#metrics {\"StartTime\": 1625917949.9778826, \"EndTime\": 1625917949.9778976, \"Dimensions\": {\"Algorithm\": \"Linear Learner\", \"Host\": \"algo-1\", \"Operation\": \"training\", \"epoch\": 3, \"model\": 17}, \"Metrics\": {\"train_binary_classification_cross_entropy_objective\": {\"sum\": 0.012896271910499689, \"count\": 1, \"min\": 0.012896271910499689, \"max\": 0.012896271910499689}}}\n",
      "\u001b[0m\n",
      "\u001b[34m#metrics {\"StartTime\": 1625917949.977951, \"EndTime\": 1625917949.9779665, \"Dimensions\": {\"Algorithm\": \"Linear Learner\", \"Host\": \"algo-1\", \"Operation\": \"training\", \"epoch\": 3, \"model\": 18}, \"Metrics\": {\"train_binary_classification_cross_entropy_objective\": {\"sum\": 0.01381623762456616, \"count\": 1, \"min\": 0.01381623762456616, \"max\": 0.01381623762456616}}}\n",
      "\u001b[0m\n",
      "\u001b[34m#metrics {\"StartTime\": 1625917949.978008, \"EndTime\": 1625917949.9780226, \"Dimensions\": {\"Algorithm\": \"Linear Learner\", \"Host\": \"algo-1\", \"Operation\": \"training\", \"epoch\": 3, \"model\": 19}, \"Metrics\": {\"train_binary_classification_cross_entropy_objective\": {\"sum\": 0.01289923848818295, \"count\": 1, \"min\": 0.01289923848818295, \"max\": 0.01289923848818295}}}\n",
      "\u001b[0m\n",
      "\u001b[34m#metrics {\"StartTime\": 1625917949.978064, \"EndTime\": 1625917949.978078, \"Dimensions\": {\"Algorithm\": \"Linear Learner\", \"Host\": \"algo-1\", \"Operation\": \"training\", \"epoch\": 3, \"model\": 20}, \"Metrics\": {\"train_binary_classification_cross_entropy_objective\": {\"sum\": 0.01206770779679169, \"count\": 1, \"min\": 0.01206770779679169, \"max\": 0.01206770779679169}}}\n",
      "\u001b[0m\n",
      "\u001b[34m#metrics {\"StartTime\": 1625917949.9781265, \"EndTime\": 1625917949.978141, \"Dimensions\": {\"Algorithm\": \"Linear Learner\", \"Host\": \"algo-1\", \"Operation\": \"training\", \"epoch\": 3, \"model\": 21}, \"Metrics\": {\"train_binary_classification_cross_entropy_objective\": {\"sum\": 0.012138736963871136, \"count\": 1, \"min\": 0.012138736963871136, \"max\": 0.012138736963871136}}}\n",
      "\u001b[0m\n",
      "\u001b[34m#metrics {\"StartTime\": 1625917949.9781892, \"EndTime\": 1625917949.9782014, \"Dimensions\": {\"Algorithm\": \"Linear Learner\", \"Host\": \"algo-1\", \"Operation\": \"training\", \"epoch\": 3, \"model\": 22}, \"Metrics\": {\"train_binary_classification_cross_entropy_objective\": {\"sum\": 0.012066862304006989, \"count\": 1, \"min\": 0.012066862304006989, \"max\": 0.012066862304006989}}}\n",
      "\u001b[0m\n",
      "\u001b[34m#metrics {\"StartTime\": 1625917949.9782474, \"EndTime\": 1625917949.9782617, \"Dimensions\": {\"Algorithm\": \"Linear Learner\", \"Host\": \"algo-1\", \"Operation\": \"training\", \"epoch\": 3, \"model\": 23}, \"Metrics\": {\"train_binary_classification_cross_entropy_objective\": {\"sum\": 0.012134797124407399, \"count\": 1, \"min\": 0.012134797124407399, \"max\": 0.012134797124407399}}}\n",
      "\u001b[0m\n",
      "\u001b[34m#metrics {\"StartTime\": 1625917949.9783118, \"EndTime\": 1625917949.978326, \"Dimensions\": {\"Algorithm\": \"Linear Learner\", \"Host\": \"algo-1\", \"Operation\": \"training\", \"epoch\": 3, \"model\": 24}, \"Metrics\": {\"train_binary_classification_cross_entropy_objective\": {\"sum\": 0.014856397312490185, \"count\": 1, \"min\": 0.014856397312490185, \"max\": 0.014856397312490185}}}\n",
      "\u001b[0m\n",
      "\u001b[34m#metrics {\"StartTime\": 1625917949.9783857, \"EndTime\": 1625917949.978402, \"Dimensions\": {\"Algorithm\": \"Linear Learner\", \"Host\": \"algo-1\", \"Operation\": \"training\", \"epoch\": 3, \"model\": 25}, \"Metrics\": {\"train_binary_classification_cross_entropy_objective\": {\"sum\": 0.01397359222622972, \"count\": 1, \"min\": 0.01397359222622972, \"max\": 0.01397359222622972}}}\n",
      "\u001b[0m\n",
      "\u001b[34m#metrics {\"StartTime\": 1625917949.97846, \"EndTime\": 1625917949.9784756, \"Dimensions\": {\"Algorithm\": \"Linear Learner\", \"Host\": \"algo-1\", \"Operation\": \"training\", \"epoch\": 3, \"model\": 26}, \"Metrics\": {\"train_binary_classification_cross_entropy_objective\": {\"sum\": 0.014857431533947661, \"count\": 1, \"min\": 0.014857431533947661, \"max\": 0.014857431533947661}}}\n",
      "\u001b[0m\n",
      "\u001b[34m#metrics {\"StartTime\": 1625917949.9785252, \"EndTime\": 1625917949.97854, \"Dimensions\": {\"Algorithm\": \"Linear Learner\", \"Host\": \"algo-1\", \"Operation\": \"training\", \"epoch\": 3, \"model\": 27}, \"Metrics\": {\"train_binary_classification_cross_entropy_objective\": {\"sum\": 0.013974560261970788, \"count\": 1, \"min\": 0.013974560261970788, \"max\": 0.013974560261970788}}}\n",
      "\u001b[0m\n",
      "\u001b[34m#metrics {\"StartTime\": 1625917949.978588, \"EndTime\": 1625917949.9786034, \"Dimensions\": {\"Algorithm\": \"Linear Learner\", \"Host\": \"algo-1\", \"Operation\": \"training\", \"epoch\": 3, \"model\": 28}, \"Metrics\": {\"train_binary_classification_cross_entropy_objective\": {\"sum\": 0.013145344842019393, \"count\": 1, \"min\": 0.013145344842019393, \"max\": 0.013145344842019393}}}\n",
      "\u001b[0m\n",
      "\u001b[34m#metrics {\"StartTime\": 1625917949.9786453, \"EndTime\": 1625917949.9786544, \"Dimensions\": {\"Algorithm\": \"Linear Learner\", \"Host\": \"algo-1\", \"Operation\": \"training\", \"epoch\": 3, \"model\": 29}, \"Metrics\": {\"train_binary_classification_cross_entropy_objective\": {\"sum\": 0.013162755347975534, \"count\": 1, \"min\": 0.013162755347975534, \"max\": 0.013162755347975534}}}\n",
      "\u001b[0m\n",
      "\u001b[34m#metrics {\"StartTime\": 1625917949.9786978, \"EndTime\": 1625917949.978712, \"Dimensions\": {\"Algorithm\": \"Linear Learner\", \"Host\": \"algo-1\", \"Operation\": \"training\", \"epoch\": 3, \"model\": 30}, \"Metrics\": {\"train_binary_classification_cross_entropy_objective\": {\"sum\": 0.013146117104956853, \"count\": 1, \"min\": 0.013146117104956853, \"max\": 0.013146117104956853}}}\n",
      "\u001b[0m\n",
      "\u001b[34m#metrics {\"StartTime\": 1625917949.9787707, \"EndTime\": 1625917949.9787874, \"Dimensions\": {\"Algorithm\": \"Linear Learner\", \"Host\": \"algo-1\", \"Operation\": \"training\", \"epoch\": 3, \"model\": 31}, \"Metrics\": {\"train_binary_classification_cross_entropy_objective\": {\"sum\": 0.01316194919245926, \"count\": 1, \"min\": 0.01316194919245926, \"max\": 0.01316194919245926}}}\n",
      "\u001b[0m\n",
      "\u001b[34m[07/10/2021 11:52:29 INFO 140687120037696] #quality_metric: host=algo-1, epoch=3, train binary_classification_cross_entropy_objective <loss>=0.00796071047279703\u001b[0m\n",
      "\u001b[34m[07/10/2021 11:52:29 INFO 140687120037696] #early_stopping_criteria_metric: host=algo-1, epoch=3, criteria=binary_classification_cross_entropy_objective, value=0.0048339958825902125\u001b[0m\n",
      "\u001b[34m[07/10/2021 11:52:29 INFO 140687120037696] Epoch 3: Loss improved. Updating best model\u001b[0m\n",
      "\u001b[34m[07/10/2021 11:52:29 INFO 140687120037696] Saving model for epoch: 3\u001b[0m\n",
      "\u001b[34m[07/10/2021 11:52:29 INFO 140687120037696] Saved checkpoint to \"/tmp/tmpchypegt8/mx-mod-0000.params\"\u001b[0m\n",
      "\u001b[34m[07/10/2021 11:52:29 INFO 140687120037696] #progress_metric: host=algo-1, completed 40.0 % of epochs\u001b[0m\n",
      "\u001b[34m#metrics {\"StartTime\": 1625917943.2183285, \"EndTime\": 1625917949.9879885, \"Dimensions\": {\"Algorithm\": \"Linear Learner\", \"Host\": \"algo-1\", \"Operation\": \"training\", \"epoch\": 3, \"Meta\": \"training_data_iter\"}, \"Metrics\": {\"Total Records Seen\": {\"sum\": 809456.0, \"count\": 1, \"min\": 809456, \"max\": 809456}, \"Total Batches Seen\": {\"sum\": 812.0, \"count\": 1, \"min\": 812, \"max\": 812}, \"Max Records Seen Between Resets\": {\"sum\": 199364.0, \"count\": 1, \"min\": 199364, \"max\": 199364}, \"Max Batches Seen Between Resets\": {\"sum\": 200.0, \"count\": 1, \"min\": 200, \"max\": 200}, \"Reset Count\": {\"sum\": 6.0, \"count\": 1, \"min\": 6, \"max\": 6}, \"Number of Records Since Last Reset\": {\"sum\": 199364.0, \"count\": 1, \"min\": 199364, \"max\": 199364}, \"Number of Batches Since Last Reset\": {\"sum\": 200.0, \"count\": 1, \"min\": 200, \"max\": 200}}}\n",
      "\u001b[0m\n",
      "\u001b[34m[07/10/2021 11:52:29 INFO 140687120037696] #throughput_metric: host=algo-1, train throughput=29449.097468920772 records/second\u001b[0m\n"
     ]
    },
    {
     "name": "stdout",
     "output_type": "stream",
     "text": [
      "\u001b[34m[2021-07-10 11:52:36.554] [tensorio] [info] epoch_stats={\"data_pipeline\": \"/opt/ml/input/data/train\", \"epoch\": 11, \"duration\": 6566, \"num_examples\": 200, \"num_bytes\": 33493152}\u001b[0m\n",
      "\u001b[34m#metrics {\"StartTime\": 1625917956.5548134, \"EndTime\": 1625917956.5548959, \"Dimensions\": {\"Algorithm\": \"Linear Learner\", \"Host\": \"algo-1\", \"Operation\": \"training\", \"epoch\": 4, \"model\": 0}, \"Metrics\": {\"train_binary_classification_cross_entropy_objective\": {\"sum\": 0.006847595499987578, \"count\": 1, \"min\": 0.006847595499987578, \"max\": 0.006847595499987578}}}\n",
      "\u001b[0m\n",
      "\u001b[34m#metrics {\"StartTime\": 1625917956.5549893, \"EndTime\": 1625917956.5550084, \"Dimensions\": {\"Algorithm\": \"Linear Learner\", \"Host\": \"algo-1\", \"Operation\": \"training\", \"epoch\": 4, \"model\": 1}, \"Metrics\": {\"train_binary_classification_cross_entropy_objective\": {\"sum\": 0.005652893664249823, \"count\": 1, \"min\": 0.005652893664249823, \"max\": 0.005652893664249823}}}\n",
      "\u001b[0m\n",
      "\u001b[34m#metrics {\"StartTime\": 1625917956.5550625, \"EndTime\": 1625917956.5550776, \"Dimensions\": {\"Algorithm\": \"Linear Learner\", \"Host\": \"algo-1\", \"Operation\": \"training\", \"epoch\": 4, \"model\": 2}, \"Metrics\": {\"train_binary_classification_cross_entropy_objective\": {\"sum\": 0.006845478047078578, \"count\": 1, \"min\": 0.006845478047078578, \"max\": 0.006845478047078578}}}\n",
      "\u001b[0m\n",
      "\u001b[34m#metrics {\"StartTime\": 1625917956.5551257, \"EndTime\": 1625917956.5551395, \"Dimensions\": {\"Algorithm\": \"Linear Learner\", \"Host\": \"algo-1\", \"Operation\": \"training\", \"epoch\": 4, \"model\": 3}, \"Metrics\": {\"train_binary_classification_cross_entropy_objective\": {\"sum\": 0.005654035583812388, \"count\": 1, \"min\": 0.005654035583812388, \"max\": 0.005654035583812388}}}\n",
      "\u001b[0m\n",
      "\u001b[34m#metrics {\"StartTime\": 1625917956.5551863, \"EndTime\": 1625917956.5551994, \"Dimensions\": {\"Algorithm\": \"Linear Learner\", \"Host\": \"algo-1\", \"Operation\": \"training\", \"epoch\": 4, \"model\": 4}, \"Metrics\": {\"train_binary_classification_cross_entropy_objective\": {\"sum\": 0.004608621703619933, \"count\": 1, \"min\": 0.004608621703619933, \"max\": 0.004608621703619933}}}\n",
      "\u001b[0m\n",
      "\u001b[34m#metrics {\"StartTime\": 1625917956.5552495, \"EndTime\": 1625917956.555265, \"Dimensions\": {\"Algorithm\": \"Linear Learner\", \"Host\": \"algo-1\", \"Operation\": \"training\", \"epoch\": 4, \"model\": 5}, \"Metrics\": {\"train_binary_classification_cross_entropy_objective\": {\"sum\": 0.005575006065880833, \"count\": 1, \"min\": 0.005575006065880833, \"max\": 0.005575006065880833}}}\n",
      "\u001b[0m\n",
      "\u001b[34m#metrics {\"StartTime\": 1625917956.5553162, \"EndTime\": 1625917956.5553327, \"Dimensions\": {\"Algorithm\": \"Linear Learner\", \"Host\": \"algo-1\", \"Operation\": \"training\", \"epoch\": 4, \"model\": 6}, \"Metrics\": {\"train_binary_classification_cross_entropy_objective\": {\"sum\": 0.004611114528011437, \"count\": 1, \"min\": 0.004611114528011437, \"max\": 0.004611114528011437}}}\n",
      "\u001b[0m\n",
      "\u001b[34m#metrics {\"StartTime\": 1625917956.5553823, \"EndTime\": 1625917956.5553977, \"Dimensions\": {\"Algorithm\": \"Linear Learner\", \"Host\": \"algo-1\", \"Operation\": \"training\", \"epoch\": 4, \"model\": 7}, \"Metrics\": {\"train_binary_classification_cross_entropy_objective\": {\"sum\": 0.005724009797800725, \"count\": 1, \"min\": 0.005724009797800725, \"max\": 0.005724009797800725}}}\n",
      "\u001b[0m\n",
      "\u001b[34m#metrics {\"StartTime\": 1625917956.555485, \"EndTime\": 1625917956.5555031, \"Dimensions\": {\"Algorithm\": \"Linear Learner\", \"Host\": \"algo-1\", \"Operation\": \"training\", \"epoch\": 4, \"model\": 8}, \"Metrics\": {\"train_binary_classification_cross_entropy_objective\": {\"sum\": 0.0072909563498281356, \"count\": 1, \"min\": 0.0072909563498281356, \"max\": 0.0072909563498281356}}}\n",
      "\u001b[0m\n",
      "\u001b[34m#metrics {\"StartTime\": 1625917956.5555692, \"EndTime\": 1625917956.555586, \"Dimensions\": {\"Algorithm\": \"Linear Learner\", \"Host\": \"algo-1\", \"Operation\": \"training\", \"epoch\": 4, \"model\": 9}, \"Metrics\": {\"train_binary_classification_cross_entropy_objective\": {\"sum\": 0.00621156775052823, \"count\": 1, \"min\": 0.00621156775052823, \"max\": 0.00621156775052823}}}\n",
      "\u001b[0m\n",
      "\u001b[34m#metrics {\"StartTime\": 1625917956.555639, \"EndTime\": 1625917956.5556543, \"Dimensions\": {\"Algorithm\": \"Linear Learner\", \"Host\": \"algo-1\", \"Operation\": \"training\", \"epoch\": 4, \"model\": 10}, \"Metrics\": {\"train_binary_classification_cross_entropy_objective\": {\"sum\": 0.00729357763990086, \"count\": 1, \"min\": 0.00729357763990086, \"max\": 0.00729357763990086}}}\n",
      "\u001b[0m\n",
      "\u001b[34m#metrics {\"StartTime\": 1625917956.5557163, \"EndTime\": 1625917956.5557323, \"Dimensions\": {\"Algorithm\": \"Linear Learner\", \"Host\": \"algo-1\", \"Operation\": \"training\", \"epoch\": 4, \"model\": 11}, \"Metrics\": {\"train_binary_classification_cross_entropy_objective\": {\"sum\": 0.006210274405215853, \"count\": 1, \"min\": 0.006210274405215853, \"max\": 0.006210274405215853}}}\n",
      "\u001b[0m\n",
      "\u001b[34m#metrics {\"StartTime\": 1625917956.5557857, \"EndTime\": 1625917956.5558023, \"Dimensions\": {\"Algorithm\": \"Linear Learner\", \"Host\": \"algo-1\", \"Operation\": \"training\", \"epoch\": 4, \"model\": 12}, \"Metrics\": {\"train_binary_classification_cross_entropy_objective\": {\"sum\": 0.0054631463933230645, \"count\": 1, \"min\": 0.0054631463933230645, \"max\": 0.0054631463933230645}}}\n",
      "\u001b[0m\n",
      "\u001b[34m#metrics {\"StartTime\": 1625917956.5558598, \"EndTime\": 1625917956.5558753, \"Dimensions\": {\"Algorithm\": \"Linear Learner\", \"Host\": \"algo-1\", \"Operation\": \"training\", \"epoch\": 4, \"model\": 13}, \"Metrics\": {\"train_binary_classification_cross_entropy_objective\": {\"sum\": 0.005711625320827541, \"count\": 1, \"min\": 0.005711625320827541, \"max\": 0.005711625320827541}}}\n",
      "\u001b[0m\n",
      "\u001b[34m#metrics {\"StartTime\": 1625917956.5559297, \"EndTime\": 1625917956.5559468, \"Dimensions\": {\"Algorithm\": \"Linear Learner\", \"Host\": \"algo-1\", \"Operation\": \"training\", \"epoch\": 4, \"model\": 14}, \"Metrics\": {\"train_binary_classification_cross_entropy_objective\": {\"sum\": 0.005505940953391281, \"count\": 1, \"min\": 0.005505940953391281, \"max\": 0.005505940953391281}}}\n",
      "\u001b[0m\n",
      "\u001b[34m#metrics {\"StartTime\": 1625917956.5560007, \"EndTime\": 1625917956.5560164, \"Dimensions\": {\"Algorithm\": \"Linear Learner\", \"Host\": \"algo-1\", \"Operation\": \"training\", \"epoch\": 4, \"model\": 15}, \"Metrics\": {\"train_binary_classification_cross_entropy_objective\": {\"sum\": 0.005712721327141901, \"count\": 1, \"min\": 0.005712721327141901, \"max\": 0.005712721327141901}}}\n",
      "\u001b[0m\n",
      "\u001b[34m#metrics {\"StartTime\": 1625917956.5560753, \"EndTime\": 1625917956.5560918, \"Dimensions\": {\"Algorithm\": \"Linear Learner\", \"Host\": \"algo-1\", \"Operation\": \"training\", \"epoch\": 4, \"model\": 16}, \"Metrics\": {\"train_binary_classification_cross_entropy_objective\": {\"sum\": 0.013092363446202111, \"count\": 1, \"min\": 0.013092363446202111, \"max\": 0.013092363446202111}}}\n",
      "\u001b[0m\n",
      "\u001b[34m#metrics {\"StartTime\": 1625917956.556152, \"EndTime\": 1625917956.5561674, \"Dimensions\": {\"Algorithm\": \"Linear Learner\", \"Host\": \"algo-1\", \"Operation\": \"training\", \"epoch\": 4, \"model\": 17}, \"Metrics\": {\"train_binary_classification_cross_entropy_objective\": {\"sum\": 0.01239302084553781, \"count\": 1, \"min\": 0.01239302084553781, \"max\": 0.01239302084553781}}}\n",
      "\u001b[0m\n",
      "\u001b[34m#metrics {\"StartTime\": 1625917956.556227, \"EndTime\": 1625917956.556244, \"Dimensions\": {\"Algorithm\": \"Linear Learner\", \"Host\": \"algo-1\", \"Operation\": \"training\", \"epoch\": 4, \"model\": 18}, \"Metrics\": {\"train_binary_classification_cross_entropy_objective\": {\"sum\": 0.013093235279447469, \"count\": 1, \"min\": 0.013093235279447469, \"max\": 0.013093235279447469}}}\n",
      "\u001b[0m\n",
      "\u001b[34m#metrics {\"StartTime\": 1625917956.5563023, \"EndTime\": 1625917956.5563185, \"Dimensions\": {\"Algorithm\": \"Linear Learner\", \"Host\": \"algo-1\", \"Operation\": \"training\", \"epoch\": 4, \"model\": 19}, \"Metrics\": {\"train_binary_classification_cross_entropy_objective\": {\"sum\": 0.0123948448722686, \"count\": 1, \"min\": 0.0123948448722686, \"max\": 0.0123948448722686}}}\n",
      "\u001b[0m\n",
      "\u001b[34m#metrics {\"StartTime\": 1625917956.5563755, \"EndTime\": 1625917956.5563898, \"Dimensions\": {\"Algorithm\": \"Linear Learner\", \"Host\": \"algo-1\", \"Operation\": \"training\", \"epoch\": 4, \"model\": 20}, \"Metrics\": {\"train_binary_classification_cross_entropy_objective\": {\"sum\": 0.01206583563107342, \"count\": 1, \"min\": 0.01206583563107342, \"max\": 0.01206583563107342}}}\n",
      "\u001b[0m\n",
      "\u001b[34m#metrics {\"StartTime\": 1625917956.5564442, \"EndTime\": 1625917956.5564601, \"Dimensions\": {\"Algorithm\": \"Linear Learner\", \"Host\": \"algo-1\", \"Operation\": \"training\", \"epoch\": 4, \"model\": 21}, \"Metrics\": {\"train_binary_classification_cross_entropy_objective\": {\"sum\": 0.012144674801347243, \"count\": 1, \"min\": 0.012144674801347243, \"max\": 0.012144674801347243}}}\n",
      "\u001b[0m\n",
      "\u001b[34m#metrics {\"StartTime\": 1625917956.556521, \"EndTime\": 1625917956.5565379, \"Dimensions\": {\"Algorithm\": \"Linear Learner\", \"Host\": \"algo-1\", \"Operation\": \"training\", \"epoch\": 4, \"model\": 22}, \"Metrics\": {\"train_binary_classification_cross_entropy_objective\": {\"sum\": 0.01206689333795902, \"count\": 1, \"min\": 0.01206689333795902, \"max\": 0.01206689333795902}}}\n",
      "\u001b[0m\n",
      "\u001b[34m#metrics {\"StartTime\": 1625917956.5565982, \"EndTime\": 1625917956.5566137, \"Dimensions\": {\"Algorithm\": \"Linear Learner\", \"Host\": \"algo-1\", \"Operation\": \"training\", \"epoch\": 4, \"model\": 23}, \"Metrics\": {\"train_binary_classification_cross_entropy_objective\": {\"sum\": 0.012141762462093602, \"count\": 1, \"min\": 0.012141762462093602, \"max\": 0.012141762462093602}}}\n",
      "\u001b[0m\n",
      "\u001b[34m#metrics {\"StartTime\": 1625917956.5566654, \"EndTime\": 1625917956.5566816, \"Dimensions\": {\"Algorithm\": \"Linear Learner\", \"Host\": \"algo-1\", \"Operation\": \"training\", \"epoch\": 4, \"model\": 24}, \"Metrics\": {\"train_binary_classification_cross_entropy_objective\": {\"sum\": 0.01412812855016047, \"count\": 1, \"min\": 0.01412812855016047, \"max\": 0.01412812855016047}}}\n",
      "\u001b[0m\n",
      "\u001b[34m#metrics {\"StartTime\": 1625917956.5567312, \"EndTime\": 1625917956.5567472, \"Dimensions\": {\"Algorithm\": \"Linear Learner\", \"Host\": \"algo-1\", \"Operation\": \"training\", \"epoch\": 4, \"model\": 25}, \"Metrics\": {\"train_binary_classification_cross_entropy_objective\": {\"sum\": 0.013472619398155404, \"count\": 1, \"min\": 0.013472619398155404, \"max\": 0.013472619398155404}}}\n",
      "\u001b[0m\n",
      "\u001b[34m#metrics {\"StartTime\": 1625917956.5567977, \"EndTime\": 1625917956.5568135, \"Dimensions\": {\"Algorithm\": \"Linear Learner\", \"Host\": \"algo-1\", \"Operation\": \"training\", \"epoch\": 4, \"model\": 26}, \"Metrics\": {\"train_binary_classification_cross_entropy_objective\": {\"sum\": 0.014128749056677124, \"count\": 1, \"min\": 0.014128749056677124, \"max\": 0.014128749056677124}}}\n",
      "\u001b[0m\n",
      "\u001b[34m#metrics {\"StartTime\": 1625917956.5568726, \"EndTime\": 1625917956.5568888, \"Dimensions\": {\"Algorithm\": \"Linear Learner\", \"Host\": \"algo-1\", \"Operation\": \"training\", \"epoch\": 4, \"model\": 27}, \"Metrics\": {\"train_binary_classification_cross_entropy_objective\": {\"sum\": 0.013473474310870147, \"count\": 1, \"min\": 0.013473474310870147, \"max\": 0.013473474310870147}}}\n",
      "\u001b[0m\n",
      "\u001b[34m#metrics {\"StartTime\": 1625917956.556949, \"EndTime\": 1625917956.5569663, \"Dimensions\": {\"Algorithm\": \"Linear Learner\", \"Host\": \"algo-1\", \"Operation\": \"training\", \"epoch\": 4, \"model\": 28}, \"Metrics\": {\"train_binary_classification_cross_entropy_objective\": {\"sum\": 0.013145038814999949, \"count\": 1, \"min\": 0.013145038814999949, \"max\": 0.013145038814999949}}}\n",
      "\u001b[0m\n",
      "\u001b[34m#metrics {\"StartTime\": 1625917956.5570197, \"EndTime\": 1625917956.5570345, \"Dimensions\": {\"Algorithm\": \"Linear Learner\", \"Host\": \"algo-1\", \"Operation\": \"training\", \"epoch\": 4, \"model\": 29}, \"Metrics\": {\"train_binary_classification_cross_entropy_objective\": {\"sum\": 0.013173287896055671, \"count\": 1, \"min\": 0.013173287896055671, \"max\": 0.013173287896055671}}}\n",
      "\u001b[0m\n",
      "\u001b[34m#metrics {\"StartTime\": 1625917956.5570948, \"EndTime\": 1625917956.5571113, \"Dimensions\": {\"Algorithm\": \"Linear Learner\", \"Host\": \"algo-1\", \"Operation\": \"training\", \"epoch\": 4, \"model\": 30}, \"Metrics\": {\"train_binary_classification_cross_entropy_objective\": {\"sum\": 0.013145839430578989, \"count\": 1, \"min\": 0.013145839430578989, \"max\": 0.013145839430578989}}}\n",
      "\u001b[0m\n",
      "\u001b[34m#metrics {\"StartTime\": 1625917956.55716, \"EndTime\": 1625917956.5571733, \"Dimensions\": {\"Algorithm\": \"Linear Learner\", \"Host\": \"algo-1\", \"Operation\": \"training\", \"epoch\": 4, \"model\": 31}, \"Metrics\": {\"train_binary_classification_cross_entropy_objective\": {\"sum\": 0.013172452341971086, \"count\": 1, \"min\": 0.013172452341971086, \"max\": 0.013172452341971086}}}\n",
      "\u001b[0m\n",
      "\u001b[34m[07/10/2021 11:52:36 INFO 140687120037696] #quality_metric: host=algo-1, epoch=4, train binary_classification_cross_entropy_objective <loss>=0.006847595499987578\u001b[0m\n",
      "\u001b[34m[07/10/2021 11:52:36 INFO 140687120037696] #early_stopping_criteria_metric: host=algo-1, epoch=4, criteria=binary_classification_cross_entropy_objective, value=0.004608621703619933\u001b[0m\n",
      "\u001b[34m[07/10/2021 11:52:36 INFO 140687120037696] Epoch 4: Loss improved. Updating best model\u001b[0m\n",
      "\u001b[34m[07/10/2021 11:52:36 INFO 140687120037696] Saving model for epoch: 4\u001b[0m\n",
      "\u001b[34m[07/10/2021 11:52:36 INFO 140687120037696] Saved checkpoint to \"/tmp/tmphhkvhneu/mx-mod-0000.params\"\u001b[0m\n",
      "\u001b[34m[07/10/2021 11:52:36 INFO 140687120037696] #progress_metric: host=algo-1, completed 50.0 % of epochs\u001b[0m\n",
      "\u001b[34m#metrics {\"StartTime\": 1625917949.9886067, \"EndTime\": 1625917956.5656905, \"Dimensions\": {\"Algorithm\": \"Linear Learner\", \"Host\": \"algo-1\", \"Operation\": \"training\", \"epoch\": 4, \"Meta\": \"training_data_iter\"}, \"Metrics\": {\"Total Records Seen\": {\"sum\": 1008820.0, \"count\": 1, \"min\": 1008820, \"max\": 1008820}, \"Total Batches Seen\": {\"sum\": 1012.0, \"count\": 1, \"min\": 1012, \"max\": 1012}, \"Max Records Seen Between Resets\": {\"sum\": 199364.0, \"count\": 1, \"min\": 199364, \"max\": 199364}, \"Max Batches Seen Between Resets\": {\"sum\": 200.0, \"count\": 1, \"min\": 200, \"max\": 200}, \"Reset Count\": {\"sum\": 7.0, \"count\": 1, \"min\": 7, \"max\": 7}, \"Number of Records Since Last Reset\": {\"sum\": 199364.0, \"count\": 1, \"min\": 199364, \"max\": 199364}, \"Number of Batches Since Last Reset\": {\"sum\": 200.0, \"count\": 1, \"min\": 200, \"max\": 200}}}\n",
      "\u001b[0m\n",
      "\u001b[34m[07/10/2021 11:52:36 INFO 140687120037696] #throughput_metric: host=algo-1, train throughput=30311.33504700216 records/second\u001b[0m\n"
     ]
    },
    {
     "name": "stdout",
     "output_type": "stream",
     "text": [
      "\u001b[34m[2021-07-10 11:52:42.848] [tensorio] [info] epoch_stats={\"data_pipeline\": \"/opt/ml/input/data/train\", \"epoch\": 13, \"duration\": 6282, \"num_examples\": 200, \"num_bytes\": 33493152}\u001b[0m\n",
      "\u001b[34m#metrics {\"StartTime\": 1625917962.8487337, \"EndTime\": 1625917962.8488193, \"Dimensions\": {\"Algorithm\": \"Linear Learner\", \"Host\": \"algo-1\", \"Operation\": \"training\", \"epoch\": 5, \"model\": 0}, \"Metrics\": {\"train_binary_classification_cross_entropy_objective\": {\"sum\": 0.006208683869347501, \"count\": 1, \"min\": 0.006208683869347501, \"max\": 0.006208683869347501}}}\n",
      "\u001b[0m\n",
      "\u001b[34m#metrics {\"StartTime\": 1625917962.848915, \"EndTime\": 1625917962.8489358, \"Dimensions\": {\"Algorithm\": \"Linear Learner\", \"Host\": \"algo-1\", \"Operation\": \"training\", \"epoch\": 5, \"model\": 1}, \"Metrics\": {\"train_binary_classification_cross_entropy_objective\": {\"sum\": 0.005129156069539899, \"count\": 1, \"min\": 0.005129156069539899, \"max\": 0.005129156069539899}}}\n",
      "\u001b[0m\n",
      "\u001b[34m#metrics {\"StartTime\": 1625917962.8489904, \"EndTime\": 1625917962.8490033, \"Dimensions\": {\"Algorithm\": \"Linear Learner\", \"Host\": \"algo-1\", \"Operation\": \"training\", \"epoch\": 5, \"model\": 2}, \"Metrics\": {\"train_binary_classification_cross_entropy_objective\": {\"sum\": 0.0062074814453795925, \"count\": 1, \"min\": 0.0062074814453795925, \"max\": 0.0062074814453795925}}}\n",
      "\u001b[0m\n",
      "\u001b[34m#metrics {\"StartTime\": 1625917962.849035, \"EndTime\": 1625917962.8490448, \"Dimensions\": {\"Algorithm\": \"Linear Learner\", \"Host\": \"algo-1\", \"Operation\": \"training\", \"epoch\": 5, \"model\": 3}, \"Metrics\": {\"train_binary_classification_cross_entropy_objective\": {\"sum\": 0.005130231465526562, \"count\": 1, \"min\": 0.005130231465526562, \"max\": 0.005130231465526562}}}\n",
      "\u001b[0m\n",
      "\u001b[34m#metrics {\"StartTime\": 1625917962.8491042, \"EndTime\": 1625917962.849122, \"Dimensions\": {\"Algorithm\": \"Linear Learner\", \"Host\": \"algo-1\", \"Operation\": \"training\", \"epoch\": 5, \"model\": 4}, \"Metrics\": {\"train_binary_classification_cross_entropy_objective\": {\"sum\": 0.00446575611200764, \"count\": 1, \"min\": 0.00446575611200764, \"max\": 0.00446575611200764}}}\n",
      "\u001b[0m\n",
      "\u001b[34m#metrics {\"StartTime\": 1625917962.8491776, \"EndTime\": 1625917962.849195, \"Dimensions\": {\"Algorithm\": \"Linear Learner\", \"Host\": \"algo-1\", \"Operation\": \"training\", \"epoch\": 5, \"model\": 5}, \"Metrics\": {\"train_binary_classification_cross_entropy_objective\": {\"sum\": 0.005660951558219727, \"count\": 1, \"min\": 0.005660951558219727, \"max\": 0.005660951558219727}}}\n",
      "\u001b[0m\n",
      "\u001b[34m#metrics {\"StartTime\": 1625917962.849252, \"EndTime\": 1625917962.8492687, \"Dimensions\": {\"Algorithm\": \"Linear Learner\", \"Host\": \"algo-1\", \"Operation\": \"training\", \"epoch\": 5, \"model\": 6}, \"Metrics\": {\"train_binary_classification_cross_entropy_objective\": {\"sum\": 0.004640862265423914, \"count\": 1, \"min\": 0.004640862265423914, \"max\": 0.004640862265423914}}}\n",
      "\u001b[0m\n",
      "\u001b[34m#metrics {\"StartTime\": 1625917962.849323, \"EndTime\": 1625917962.8493385, \"Dimensions\": {\"Algorithm\": \"Linear Learner\", \"Host\": \"algo-1\", \"Operation\": \"training\", \"epoch\": 5, \"model\": 7}, \"Metrics\": {\"train_binary_classification_cross_entropy_objective\": {\"sum\": 0.00590671409569194, \"count\": 1, \"min\": 0.00590671409569194, \"max\": 0.00590671409569194}}}\n",
      "\u001b[0m\n",
      "\u001b[34m#metrics {\"StartTime\": 1625917962.8493931, \"EndTime\": 1625917962.8494089, \"Dimensions\": {\"Algorithm\": \"Linear Learner\", \"Host\": \"algo-1\", \"Operation\": \"training\", \"epoch\": 5, \"model\": 8}, \"Metrics\": {\"train_binary_classification_cross_entropy_objective\": {\"sum\": 0.006710985852246308, \"count\": 1, \"min\": 0.006710985852246308, \"max\": 0.006710985852246308}}}\n",
      "\u001b[0m\n",
      "\u001b[34m#metrics {\"StartTime\": 1625917962.8494701, \"EndTime\": 1625917962.8494866, \"Dimensions\": {\"Algorithm\": \"Linear Learner\", \"Host\": \"algo-1\", \"Operation\": \"training\", \"epoch\": 5, \"model\": 9}, \"Metrics\": {\"train_binary_classification_cross_entropy_objective\": {\"sum\": 0.005767024181595999, \"count\": 1, \"min\": 0.005767024181595999, \"max\": 0.005767024181595999}}}\n",
      "\u001b[0m\n",
      "\u001b[34m#metrics {\"StartTime\": 1625917962.8495467, \"EndTime\": 1625917962.849561, \"Dimensions\": {\"Algorithm\": \"Linear Learner\", \"Host\": \"algo-1\", \"Operation\": \"training\", \"epoch\": 5, \"model\": 10}, \"Metrics\": {\"train_binary_classification_cross_entropy_objective\": {\"sum\": 0.0067129683961820365, \"count\": 1, \"min\": 0.0067129683961820365, \"max\": 0.0067129683961820365}}}\n",
      "\u001b[0m\n",
      "\u001b[34m#metrics {\"StartTime\": 1625917962.8496075, \"EndTime\": 1625917962.849622, \"Dimensions\": {\"Algorithm\": \"Linear Learner\", \"Host\": \"algo-1\", \"Operation\": \"training\", \"epoch\": 5, \"model\": 11}, \"Metrics\": {\"train_binary_classification_cross_entropy_objective\": {\"sum\": 0.005766121443791605, \"count\": 1, \"min\": 0.005766121443791605, \"max\": 0.005766121443791605}}}\n",
      "\u001b[0m\n",
      "\u001b[34m#metrics {\"StartTime\": 1625917962.8496673, \"EndTime\": 1625917962.8496826, \"Dimensions\": {\"Algorithm\": \"Linear Learner\", \"Host\": \"algo-1\", \"Operation\": \"training\", \"epoch\": 5, \"model\": 12}, \"Metrics\": {\"train_binary_classification_cross_entropy_objective\": {\"sum\": 0.00539814376950863, \"count\": 1, \"min\": 0.00539814376950863, \"max\": 0.00539814376950863}}}\n",
      "\u001b[0m\n",
      "\u001b[34m#metrics {\"StartTime\": 1625917962.8497334, \"EndTime\": 1625917962.8497498, \"Dimensions\": {\"Algorithm\": \"Linear Learner\", \"Host\": \"algo-1\", \"Operation\": \"training\", \"epoch\": 5, \"model\": 13}, \"Metrics\": {\"train_binary_classification_cross_entropy_objective\": {\"sum\": 0.005681711775573654, \"count\": 1, \"min\": 0.005681711775573654, \"max\": 0.005681711775573654}}}\n",
      "\u001b[0m\n",
      "\u001b[34m#metrics {\"StartTime\": 1625917962.8498, \"EndTime\": 1625917962.8498154, \"Dimensions\": {\"Algorithm\": \"Linear Learner\", \"Host\": \"algo-1\", \"Operation\": \"training\", \"epoch\": 5, \"model\": 14}, \"Metrics\": {\"train_binary_classification_cross_entropy_objective\": {\"sum\": 0.005406850130114723, \"count\": 1, \"min\": 0.005406850130114723, \"max\": 0.005406850130114723}}}\n",
      "\u001b[0m\n",
      "\u001b[34m#metrics {\"StartTime\": 1625917962.8498688, \"EndTime\": 1625917962.849885, \"Dimensions\": {\"Algorithm\": \"Linear Learner\", \"Host\": \"algo-1\", \"Operation\": \"training\", \"epoch\": 5, \"model\": 15}, \"Metrics\": {\"train_binary_classification_cross_entropy_objective\": {\"sum\": 0.005681019206142905, \"count\": 1, \"min\": 0.005681019206142905, \"max\": 0.005681019206142905}}}\n",
      "\u001b[0m\n",
      "\u001b[34m#metrics {\"StartTime\": 1625917962.8499322, \"EndTime\": 1625917962.8499482, \"Dimensions\": {\"Algorithm\": \"Linear Learner\", \"Host\": \"algo-1\", \"Operation\": \"training\", \"epoch\": 5, \"model\": 16}, \"Metrics\": {\"train_binary_classification_cross_entropy_objective\": {\"sum\": 0.01273100077566789, \"count\": 1, \"min\": 0.01273100077566789, \"max\": 0.01273100077566789}}}\n",
      "\u001b[0m\n",
      "\u001b[34m#metrics {\"StartTime\": 1625917962.8499973, \"EndTime\": 1625917962.8500128, \"Dimensions\": {\"Algorithm\": \"Linear Learner\", \"Host\": \"algo-1\", \"Operation\": \"training\", \"epoch\": 5, \"model\": 17}, \"Metrics\": {\"train_binary_classification_cross_entropy_objective\": {\"sum\": 0.01218975602562104, \"count\": 1, \"min\": 0.01218975602562104, \"max\": 0.01218975602562104}}}\n",
      "\u001b[0m\n",
      "\u001b[34m#metrics {\"StartTime\": 1625917962.8500617, \"EndTime\": 1625917962.8500776, \"Dimensions\": {\"Algorithm\": \"Linear Learner\", \"Host\": \"algo-1\", \"Operation\": \"training\", \"epoch\": 5, \"model\": 18}, \"Metrics\": {\"train_binary_classification_cross_entropy_objective\": {\"sum\": 0.012732054930835512, \"count\": 1, \"min\": 0.012732054930835512, \"max\": 0.012732054930835512}}}\n",
      "\u001b[0m\n",
      "\u001b[34m#metrics {\"StartTime\": 1625917962.8501203, \"EndTime\": 1625917962.850135, \"Dimensions\": {\"Algorithm\": \"Linear Learner\", \"Host\": \"algo-1\", \"Operation\": \"training\", \"epoch\": 5, \"model\": 19}, \"Metrics\": {\"train_binary_classification_cross_entropy_objective\": {\"sum\": 0.0121910795183038, \"count\": 1, \"min\": 0.0121910795183038, \"max\": 0.0121910795183038}}}\n",
      "\u001b[0m\n",
      "\u001b[34m#metrics {\"StartTime\": 1625917962.850187, \"EndTime\": 1625917962.8502023, \"Dimensions\": {\"Algorithm\": \"Linear Learner\", \"Host\": \"algo-1\", \"Operation\": \"training\", \"epoch\": 5, \"model\": 20}, \"Metrics\": {\"train_binary_classification_cross_entropy_objective\": {\"sum\": 0.012055611106618565, \"count\": 1, \"min\": 0.012055611106618565, \"max\": 0.012055611106618565}}}\n",
      "\u001b[0m\n",
      "\u001b[34m#metrics {\"StartTime\": 1625917962.8502512, \"EndTime\": 1625917962.8502672, \"Dimensions\": {\"Algorithm\": \"Linear Learner\", \"Host\": \"algo-1\", \"Operation\": \"training\", \"epoch\": 5, \"model\": 21}, \"Metrics\": {\"train_binary_classification_cross_entropy_objective\": {\"sum\": 0.012149135929256228, \"count\": 1, \"min\": 0.012149135929256228, \"max\": 0.012149135929256228}}}\n",
      "\u001b[0m\n",
      "\u001b[34m#metrics {\"StartTime\": 1625917962.8503125, \"EndTime\": 1625917962.8503277, \"Dimensions\": {\"Algorithm\": \"Linear Learner\", \"Host\": \"algo-1\", \"Operation\": \"training\", \"epoch\": 5, \"model\": 22}, \"Metrics\": {\"train_binary_classification_cross_entropy_objective\": {\"sum\": 0.012054423027302152, \"count\": 1, \"min\": 0.012054423027302152, \"max\": 0.012054423027302152}}}\n",
      "\u001b[0m\n",
      "\u001b[34m#metrics {\"StartTime\": 1625917962.8503785, \"EndTime\": 1625917962.8503942, \"Dimensions\": {\"Algorithm\": \"Linear Learner\", \"Host\": \"algo-1\", \"Operation\": \"training\", \"epoch\": 5, \"model\": 23}, \"Metrics\": {\"train_binary_classification_cross_entropy_objective\": {\"sum\": 0.012147274516934725, \"count\": 1, \"min\": 0.012147274516934725, \"max\": 0.012147274516934725}}}\n",
      "\u001b[0m\n",
      "\u001b[34m#metrics {\"StartTime\": 1625917962.8504558, \"EndTime\": 1625917962.8504727, \"Dimensions\": {\"Algorithm\": \"Linear Learner\", \"Host\": \"algo-1\", \"Operation\": \"training\", \"epoch\": 5, \"model\": 24}, \"Metrics\": {\"train_binary_classification_cross_entropy_objective\": {\"sum\": 0.013761827353856072, \"count\": 1, \"min\": 0.013761827353856072, \"max\": 0.013761827353856072}}}\n",
      "\u001b[0m\n",
      "\u001b[34m#metrics {\"StartTime\": 1625917962.850525, \"EndTime\": 1625917962.8505385, \"Dimensions\": {\"Algorithm\": \"Linear Learner\", \"Host\": \"algo-1\", \"Operation\": \"training\", \"epoch\": 5, \"model\": 25}, \"Metrics\": {\"train_binary_classification_cross_entropy_objective\": {\"sum\": 0.01327003875329866, \"count\": 1, \"min\": 0.01327003875329866, \"max\": 0.01327003875329866}}}\n",
      "\u001b[0m\n",
      "\u001b[34m#metrics {\"StartTime\": 1625917962.8505738, \"EndTime\": 1625917962.8505871, \"Dimensions\": {\"Algorithm\": \"Linear Learner\", \"Host\": \"algo-1\", \"Operation\": \"training\", \"epoch\": 5, \"model\": 26}, \"Metrics\": {\"train_binary_classification_cross_entropy_objective\": {\"sum\": 0.013762171307999884, \"count\": 1, \"min\": 0.013762171307999884, \"max\": 0.013762171307999884}}}\n",
      "\u001b[0m\n",
      "\u001b[34m#metrics {\"StartTime\": 1625917962.8506348, \"EndTime\": 1625917962.8506498, \"Dimensions\": {\"Algorithm\": \"Linear Learner\", \"Host\": \"algo-1\", \"Operation\": \"training\", \"epoch\": 5, \"model\": 27}, \"Metrics\": {\"train_binary_classification_cross_entropy_objective\": {\"sum\": 0.013270733677562157, \"count\": 1, \"min\": 0.013270733677562157, \"max\": 0.013270733677562157}}}\n",
      "\u001b[0m\n",
      "\u001b[34m#metrics {\"StartTime\": 1625917962.8507042, \"EndTime\": 1625917962.8507202, \"Dimensions\": {\"Algorithm\": \"Linear Learner\", \"Host\": \"algo-1\", \"Operation\": \"training\", \"epoch\": 5, \"model\": 28}, \"Metrics\": {\"train_binary_classification_cross_entropy_objective\": {\"sum\": 0.0131442992926842, \"count\": 1, \"min\": 0.0131442992926842, \"max\": 0.0131442992926842}}}\n",
      "\u001b[0m\n",
      "\u001b[34m#metrics {\"StartTime\": 1625917962.8507705, \"EndTime\": 1625917962.850786, \"Dimensions\": {\"Algorithm\": \"Linear Learner\", \"Host\": \"algo-1\", \"Operation\": \"training\", \"epoch\": 5, \"model\": 29}, \"Metrics\": {\"train_binary_classification_cross_entropy_objective\": {\"sum\": 0.013178770159956199, \"count\": 1, \"min\": 0.013178770159956199, \"max\": 0.013178770159956199}}}\n",
      "\u001b[0m\n",
      "\u001b[34m#metrics {\"StartTime\": 1625917962.850837, \"EndTime\": 1625917962.8508518, \"Dimensions\": {\"Algorithm\": \"Linear Learner\", \"Host\": \"algo-1\", \"Operation\": \"training\", \"epoch\": 5, \"model\": 30}, \"Metrics\": {\"train_binary_classification_cross_entropy_objective\": {\"sum\": 0.013145293702432259, \"count\": 1, \"min\": 0.013145293702432259, \"max\": 0.013145293702432259}}}\n",
      "\u001b[0m\n",
      "\u001b[34m#metrics {\"StartTime\": 1625917962.8508976, \"EndTime\": 1625917962.8509128, \"Dimensions\": {\"Algorithm\": \"Linear Learner\", \"Host\": \"algo-1\", \"Operation\": \"training\", \"epoch\": 5, \"model\": 31}, \"Metrics\": {\"train_binary_classification_cross_entropy_objective\": {\"sum\": 0.013178516498163118, \"count\": 1, \"min\": 0.013178516498163118, \"max\": 0.013178516498163118}}}\n",
      "\u001b[0m\n",
      "\u001b[34m[07/10/2021 11:52:42 INFO 140687120037696] #quality_metric: host=algo-1, epoch=5, train binary_classification_cross_entropy_objective <loss>=0.006208683869347501\u001b[0m\n",
      "\u001b[34m[07/10/2021 11:52:42 INFO 140687120037696] #early_stopping_criteria_metric: host=algo-1, epoch=5, criteria=binary_classification_cross_entropy_objective, value=0.00446575611200764\u001b[0m\n",
      "\u001b[34m[07/10/2021 11:52:42 INFO 140687120037696] Epoch 5: Loss improved. Updating best model\u001b[0m\n",
      "\u001b[34m[07/10/2021 11:52:42 INFO 140687120037696] Saving model for epoch: 5\u001b[0m\n",
      "\u001b[34m[07/10/2021 11:52:42 INFO 140687120037696] Saved checkpoint to \"/tmp/tmp83hf9rmu/mx-mod-0000.params\"\u001b[0m\n",
      "\u001b[34m[07/10/2021 11:52:42 INFO 140687120037696] #progress_metric: host=algo-1, completed 60.0 % of epochs\u001b[0m\n",
      "\u001b[34m#metrics {\"StartTime\": 1625917956.566276, \"EndTime\": 1625917962.8596087, \"Dimensions\": {\"Algorithm\": \"Linear Learner\", \"Host\": \"algo-1\", \"Operation\": \"training\", \"epoch\": 5, \"Meta\": \"training_data_iter\"}, \"Metrics\": {\"Total Records Seen\": {\"sum\": 1208184.0, \"count\": 1, \"min\": 1208184, \"max\": 1208184}, \"Total Batches Seen\": {\"sum\": 1212.0, \"count\": 1, \"min\": 1212, \"max\": 1212}, \"Max Records Seen Between Resets\": {\"sum\": 199364.0, \"count\": 1, \"min\": 199364, \"max\": 199364}, \"Max Batches Seen Between Resets\": {\"sum\": 200.0, \"count\": 1, \"min\": 200, \"max\": 200}, \"Reset Count\": {\"sum\": 8.0, \"count\": 1, \"min\": 8, \"max\": 8}, \"Number of Records Since Last Reset\": {\"sum\": 199364.0, \"count\": 1, \"min\": 199364, \"max\": 199364}, \"Number of Batches Since Last Reset\": {\"sum\": 200.0, \"count\": 1, \"min\": 200, \"max\": 200}}}\n",
      "\u001b[0m\n",
      "\u001b[34m[07/10/2021 11:52:42 INFO 140687120037696] #throughput_metric: host=algo-1, train throughput=31678.069057765286 records/second\u001b[0m\n",
      "\u001b[34m[2021-07-10 11:52:49.431] [tensorio] [info] epoch_stats={\"data_pipeline\": \"/opt/ml/input/data/train\", \"epoch\": 15, \"duration\": 6570, \"num_examples\": 200, \"num_bytes\": 33493152}\u001b[0m\n",
      "\u001b[34m#metrics {\"StartTime\": 1625917969.4310699, \"EndTime\": 1625917969.4311588, \"Dimensions\": {\"Algorithm\": \"Linear Learner\", \"Host\": \"algo-1\", \"Operation\": \"training\", \"epoch\": 6, \"model\": 0}, \"Metrics\": {\"train_binary_classification_cross_entropy_objective\": {\"sum\": 0.005802001878843835, \"count\": 1, \"min\": 0.005802001878843835, \"max\": 0.005802001878843835}}}\n",
      "\u001b[0m\n",
      "\u001b[34m#metrics {\"StartTime\": 1625917969.4312534, \"EndTime\": 1625917969.4312742, \"Dimensions\": {\"Algorithm\": \"Linear Learner\", \"Host\": \"algo-1\", \"Operation\": \"training\", \"epoch\": 6, \"model\": 1}, \"Metrics\": {\"train_binary_classification_cross_entropy_objective\": {\"sum\": 0.004811298799874196, \"count\": 1, \"min\": 0.004811298799874196, \"max\": 0.004811298799874196}}}\n",
      "\u001b[0m\n",
      "\u001b[34m#metrics {\"StartTime\": 1625917969.4313338, \"EndTime\": 1625917969.4313521, \"Dimensions\": {\"Algorithm\": \"Linear Learner\", \"Host\": \"algo-1\", \"Operation\": \"training\", \"epoch\": 6, \"model\": 2}, \"Metrics\": {\"train_binary_classification_cross_entropy_objective\": {\"sum\": 0.005801389889501447, \"count\": 1, \"min\": 0.005801389889501447, \"max\": 0.005801389889501447}}}\n",
      "\u001b[0m\n",
      "\u001b[34m#metrics {\"StartTime\": 1625917969.4314337, \"EndTime\": 1625917969.4314537, \"Dimensions\": {\"Algorithm\": \"Linear Learner\", \"Host\": \"algo-1\", \"Operation\": \"training\", \"epoch\": 6, \"model\": 3}, \"Metrics\": {\"train_binary_classification_cross_entropy_objective\": {\"sum\": 0.004812353839826344, \"count\": 1, \"min\": 0.004812353839826344, \"max\": 0.004812353839826344}}}\n",
      "\u001b[0m\n",
      "\u001b[34m#metrics {\"StartTime\": 1625917969.4315126, \"EndTime\": 1625917969.4315295, \"Dimensions\": {\"Algorithm\": \"Linear Learner\", \"Host\": \"algo-1\", \"Operation\": \"training\", \"epoch\": 6, \"model\": 4}, \"Metrics\": {\"train_binary_classification_cross_entropy_objective\": {\"sum\": 0.004452324617897446, \"count\": 1, \"min\": 0.004452324617897446, \"max\": 0.004452324617897446}}}\n",
      "\u001b[0m\n",
      "\u001b[34m#metrics {\"StartTime\": 1625917969.4315953, \"EndTime\": 1625917969.4316113, \"Dimensions\": {\"Algorithm\": \"Linear Learner\", \"Host\": \"algo-1\", \"Operation\": \"training\", \"epoch\": 6, \"model\": 5}, \"Metrics\": {\"train_binary_classification_cross_entropy_objective\": {\"sum\": 0.005692494470195555, \"count\": 1, \"min\": 0.005692494470195555, \"max\": 0.005692494470195555}}}\n",
      "\u001b[0m\n",
      "\u001b[34m#metrics {\"StartTime\": 1625917969.4316642, \"EndTime\": 1625917969.4316816, \"Dimensions\": {\"Algorithm\": \"Linear Learner\", \"Host\": \"algo-1\", \"Operation\": \"training\", \"epoch\": 6, \"model\": 6}, \"Metrics\": {\"train_binary_classification_cross_entropy_objective\": {\"sum\": 0.004620604779552575, \"count\": 1, \"min\": 0.004620604779552575, \"max\": 0.004620604779552575}}}\n",
      "\u001b[0m\n",
      "\u001b[34m#metrics {\"StartTime\": 1625917969.431739, \"EndTime\": 1625917969.4317558, \"Dimensions\": {\"Algorithm\": \"Linear Learner\", \"Host\": \"algo-1\", \"Operation\": \"training\", \"epoch\": 6, \"model\": 7}, \"Metrics\": {\"train_binary_classification_cross_entropy_objective\": {\"sum\": 0.0056611126421683994, \"count\": 1, \"min\": 0.0056611126421683994, \"max\": 0.0056611126421683994}}}\n",
      "\u001b[0m\n",
      "\u001b[34m#metrics {\"StartTime\": 1625917969.4317927, \"EndTime\": 1625917969.4318073, \"Dimensions\": {\"Algorithm\": \"Linear Learner\", \"Host\": \"algo-1\", \"Operation\": \"training\", \"epoch\": 6, \"model\": 8}, \"Metrics\": {\"train_binary_classification_cross_entropy_objective\": {\"sum\": 0.006350203068412129, \"count\": 1, \"min\": 0.006350203068412129, \"max\": 0.006350203068412129}}}\n",
      "\u001b[0m\n",
      "\u001b[34m#metrics {\"StartTime\": 1625917969.4318511, \"EndTime\": 1625917969.4318666, \"Dimensions\": {\"Algorithm\": \"Linear Learner\", \"Host\": \"algo-1\", \"Operation\": \"training\", \"epoch\": 6, \"model\": 9}, \"Metrics\": {\"train_binary_classification_cross_entropy_objective\": {\"sum\": 0.0055142952449357685, \"count\": 1, \"min\": 0.0055142952449357685, \"max\": 0.0055142952449357685}}}\n",
      "\u001b[0m\n",
      "\u001b[34m#metrics {\"StartTime\": 1625917969.4319155, \"EndTime\": 1625917969.4319315, \"Dimensions\": {\"Algorithm\": \"Linear Learner\", \"Host\": \"algo-1\", \"Operation\": \"training\", \"epoch\": 6, \"model\": 10}, \"Metrics\": {\"train_binary_classification_cross_entropy_objective\": {\"sum\": 0.006351770537582474, \"count\": 1, \"min\": 0.006351770537582474, \"max\": 0.006351770537582474}}}\n",
      "\u001b[0m\n",
      "\u001b[34m#metrics {\"StartTime\": 1625917969.431968, \"EndTime\": 1625917969.4319823, \"Dimensions\": {\"Algorithm\": \"Linear Learner\", \"Host\": \"algo-1\", \"Operation\": \"training\", \"epoch\": 6, \"model\": 11}, \"Metrics\": {\"train_binary_classification_cross_entropy_objective\": {\"sum\": 0.0055136351723167765, \"count\": 1, \"min\": 0.0055136351723167765, \"max\": 0.0055136351723167765}}}\n",
      "\u001b[0m\n",
      "\u001b[34m#metrics {\"StartTime\": 1625917969.4320316, \"EndTime\": 1625917969.4320474, \"Dimensions\": {\"Algorithm\": \"Linear Learner\", \"Host\": \"algo-1\", \"Operation\": \"training\", \"epoch\": 6, \"model\": 12}, \"Metrics\": {\"train_binary_classification_cross_entropy_objective\": {\"sum\": 0.0053340614354191115, \"count\": 1, \"min\": 0.0053340614354191115, \"max\": 0.0053340614354191115}}}\n",
      "\u001b[0m\n",
      "\u001b[34m#metrics {\"StartTime\": 1625917969.4320972, \"EndTime\": 1625917969.4321125, \"Dimensions\": {\"Algorithm\": \"Linear Learner\", \"Host\": \"algo-1\", \"Operation\": \"training\", \"epoch\": 6, \"model\": 13}, \"Metrics\": {\"train_binary_classification_cross_entropy_objective\": {\"sum\": 0.005659299867836075, \"count\": 1, \"min\": 0.005659299867836075, \"max\": 0.005659299867836075}}}\n",
      "\u001b[0m\n",
      "\u001b[34m#metrics {\"StartTime\": 1625917969.4321678, \"EndTime\": 1625917969.4321833, \"Dimensions\": {\"Algorithm\": \"Linear Learner\", \"Host\": \"algo-1\", \"Operation\": \"training\", \"epoch\": 6, \"model\": 14}, \"Metrics\": {\"train_binary_classification_cross_entropy_objective\": {\"sum\": 0.0053364876568616935, \"count\": 1, \"min\": 0.0053364876568616935, \"max\": 0.0053364876568616935}}}\n",
      "\u001b[0m\n",
      "\u001b[34m#metrics {\"StartTime\": 1625917969.4322345, \"EndTime\": 1625917969.432251, \"Dimensions\": {\"Algorithm\": \"Linear Learner\", \"Host\": \"algo-1\", \"Operation\": \"training\", \"epoch\": 6, \"model\": 15}, \"Metrics\": {\"train_binary_classification_cross_entropy_objective\": {\"sum\": 0.0056601757724680495, \"count\": 1, \"min\": 0.0056601757724680495, \"max\": 0.0056601757724680495}}}\n",
      "\u001b[0m\n",
      "\u001b[34m#metrics {\"StartTime\": 1625917969.432291, \"EndTime\": 1625917969.4323056, \"Dimensions\": {\"Algorithm\": \"Linear Learner\", \"Host\": \"algo-1\", \"Operation\": \"training\", \"epoch\": 6, \"model\": 16}, \"Metrics\": {\"train_binary_classification_cross_entropy_objective\": {\"sum\": 0.012529347662949683, \"count\": 1, \"min\": 0.012529347662949683, \"max\": 0.012529347662949683}}}\n",
      "\u001b[0m\n",
      "\u001b[34m#metrics {\"StartTime\": 1625917969.4323525, \"EndTime\": 1625917969.432367, \"Dimensions\": {\"Algorithm\": \"Linear Learner\", \"Host\": \"algo-1\", \"Operation\": \"training\", \"epoch\": 6, \"model\": 17}, \"Metrics\": {\"train_binary_classification_cross_entropy_objective\": {\"sum\": 0.01210463592155495, \"count\": 1, \"min\": 0.01210463592155495, \"max\": 0.01210463592155495}}}\n",
      "\u001b[0m\n",
      "\u001b[34m#metrics {\"StartTime\": 1625917969.432415, \"EndTime\": 1625917969.4324296, \"Dimensions\": {\"Algorithm\": \"Linear Learner\", \"Host\": \"algo-1\", \"Operation\": \"training\", \"epoch\": 6, \"model\": 18}, \"Metrics\": {\"train_binary_classification_cross_entropy_objective\": {\"sum\": 0.012530303672330463, \"count\": 1, \"min\": 0.012530303672330463, \"max\": 0.012530303672330463}}}\n",
      "\u001b[0m\n",
      "\u001b[34m#metrics {\"StartTime\": 1625917969.4324791, \"EndTime\": 1625917969.4324949, \"Dimensions\": {\"Algorithm\": \"Linear Learner\", \"Host\": \"algo-1\", \"Operation\": \"training\", \"epoch\": 6, \"model\": 19}, \"Metrics\": {\"train_binary_classification_cross_entropy_objective\": {\"sum\": 0.012105690329518151, \"count\": 1, \"min\": 0.012105690329518151, \"max\": 0.012105690329518151}}}\n",
      "\u001b[0m\n",
      "\u001b[34m#metrics {\"StartTime\": 1625917969.4325488, \"EndTime\": 1625917969.4325647, \"Dimensions\": {\"Algorithm\": \"Linear Learner\", \"Host\": \"algo-1\", \"Operation\": \"training\", \"epoch\": 6, \"model\": 20}, \"Metrics\": {\"train_binary_classification_cross_entropy_objective\": {\"sum\": 0.012039869596011674, \"count\": 1, \"min\": 0.012039869596011674, \"max\": 0.012039869596011674}}}\n",
      "\u001b[0m\n",
      "\u001b[34m#metrics {\"StartTime\": 1625917969.4326162, \"EndTime\": 1625917969.432632, \"Dimensions\": {\"Algorithm\": \"Linear Learner\", \"Host\": \"algo-1\", \"Operation\": \"training\", \"epoch\": 6, \"model\": 21}, \"Metrics\": {\"train_binary_classification_cross_entropy_objective\": {\"sum\": 0.01215336242153417, \"count\": 1, \"min\": 0.01215336242153417, \"max\": 0.01215336242153417}}}\n",
      "\u001b[0m\n",
      "\u001b[34m#metrics {\"StartTime\": 1625917969.4326813, \"EndTime\": 1625917969.4326968, \"Dimensions\": {\"Algorithm\": \"Linear Learner\", \"Host\": \"algo-1\", \"Operation\": \"training\", \"epoch\": 6, \"model\": 22}, \"Metrics\": {\"train_binary_classification_cross_entropy_objective\": {\"sum\": 0.012038898122370542, \"count\": 1, \"min\": 0.012038898122370542, \"max\": 0.012038898122370542}}}\n",
      "\u001b[0m\n",
      "\u001b[34m#metrics {\"StartTime\": 1625917969.432739, \"EndTime\": 1625917969.4327533, \"Dimensions\": {\"Algorithm\": \"Linear Learner\", \"Host\": \"algo-1\", \"Operation\": \"training\", \"epoch\": 6, \"model\": 23}, \"Metrics\": {\"train_binary_classification_cross_entropy_objective\": {\"sum\": 0.012152152786302807, \"count\": 1, \"min\": 0.012152152786302807, \"max\": 0.012152152786302807}}}\n",
      "\u001b[0m\n",
      "\u001b[34m#metrics {\"StartTime\": 1625917969.4328113, \"EndTime\": 1625917969.4328275, \"Dimensions\": {\"Algorithm\": \"Linear Learner\", \"Host\": \"algo-1\", \"Operation\": \"training\", \"epoch\": 6, \"model\": 24}, \"Metrics\": {\"train_binary_classification_cross_entropy_objective\": {\"sum\": 0.013556757908969668, \"count\": 1, \"min\": 0.013556757908969668, \"max\": 0.013556757908969668}}}\n",
      "\u001b[0m\n",
      "\u001b[34m#metrics {\"StartTime\": 1625917969.4328911, \"EndTime\": 1625917969.4329076, \"Dimensions\": {\"Algorithm\": \"Linear Learner\", \"Host\": \"algo-1\", \"Operation\": \"training\", \"epoch\": 6, \"model\": 25}, \"Metrics\": {\"train_binary_classification_cross_entropy_objective\": {\"sum\": 0.013184859988677442, \"count\": 1, \"min\": 0.013184859988677442, \"max\": 0.013184859988677442}}}\n",
      "\u001b[0m\n",
      "\u001b[34m#metrics {\"StartTime\": 1625917969.4329693, \"EndTime\": 1625917969.432986, \"Dimensions\": {\"Algorithm\": \"Linear Learner\", \"Host\": \"algo-1\", \"Operation\": \"training\", \"epoch\": 6, \"model\": 26}, \"Metrics\": {\"train_binary_classification_cross_entropy_objective\": {\"sum\": 0.01355692006714979, \"count\": 1, \"min\": 0.01355692006714979, \"max\": 0.01355692006714979}}}\n",
      "\u001b[0m\n",
      "\u001b[34m#metrics {\"StartTime\": 1625917969.4330437, \"EndTime\": 1625917969.4330602, \"Dimensions\": {\"Algorithm\": \"Linear Learner\", \"Host\": \"algo-1\", \"Operation\": \"training\", \"epoch\": 6, \"model\": 27}, \"Metrics\": {\"train_binary_classification_cross_entropy_objective\": {\"sum\": 0.013185478920912623, \"count\": 1, \"min\": 0.013185478920912623, \"max\": 0.013185478920912623}}}\n",
      "\u001b[0m\n",
      "\u001b[34m#metrics {\"StartTime\": 1625917969.4331083, \"EndTime\": 1625917969.433123, \"Dimensions\": {\"Algorithm\": \"Linear Learner\", \"Host\": \"algo-1\", \"Operation\": \"training\", \"epoch\": 6, \"model\": 28}, \"Metrics\": {\"train_binary_classification_cross_entropy_objective\": {\"sum\": 0.013143401632955925, \"count\": 1, \"min\": 0.013143401632955925, \"max\": 0.013143401632955925}}}\n",
      "\u001b[0m\n",
      "\u001b[34m#metrics {\"StartTime\": 1625917969.4331675, \"EndTime\": 1625917969.4331765, \"Dimensions\": {\"Algorithm\": \"Linear Learner\", \"Host\": \"algo-1\", \"Operation\": \"training\", \"epoch\": 6, \"model\": 29}, \"Metrics\": {\"train_binary_classification_cross_entropy_objective\": {\"sum\": 0.013189078579595939, \"count\": 1, \"min\": 0.013189078579595939, \"max\": 0.013189078579595939}}}\n",
      "\u001b[0m\n",
      "\u001b[34m#metrics {\"StartTime\": 1625917969.4332025, \"EndTime\": 1625917969.43321, \"Dimensions\": {\"Algorithm\": \"Linear Learner\", \"Host\": \"algo-1\", \"Operation\": \"training\", \"epoch\": 6, \"model\": 30}, \"Metrics\": {\"train_binary_classification_cross_entropy_objective\": {\"sum\": 0.013144645008609523, \"count\": 1, \"min\": 0.013144645008609523, \"max\": 0.013144645008609523}}}\n",
      "\u001b[0m\n",
      "\u001b[34m#metrics {\"StartTime\": 1625917969.4332552, \"EndTime\": 1625917969.4332705, \"Dimensions\": {\"Algorithm\": \"Linear Learner\", \"Host\": \"algo-1\", \"Operation\": \"training\", \"epoch\": 6, \"model\": 31}, \"Metrics\": {\"train_binary_classification_cross_entropy_objective\": {\"sum\": 0.013187466692085842, \"count\": 1, \"min\": 0.013187466692085842, \"max\": 0.013187466692085842}}}\n",
      "\u001b[0m\n",
      "\u001b[34m[07/10/2021 11:52:49 INFO 140687120037696] #quality_metric: host=algo-1, epoch=6, train binary_classification_cross_entropy_objective <loss>=0.005802001878843835\u001b[0m\n",
      "\u001b[34m[07/10/2021 11:52:49 INFO 140687120037696] #early_stopping_criteria_metric: host=algo-1, epoch=6, criteria=binary_classification_cross_entropy_objective, value=0.004452324617897446\u001b[0m\n",
      "\u001b[34m[07/10/2021 11:52:49 INFO 140687120037696] Epoch 6: Loss improved. Updating best model\u001b[0m\n",
      "\u001b[34m[07/10/2021 11:52:49 INFO 140687120037696] Saving model for epoch: 6\u001b[0m\n",
      "\u001b[34m[07/10/2021 11:52:49 INFO 140687120037696] Saved checkpoint to \"/tmp/tmp33k_bgn8/mx-mod-0000.params\"\u001b[0m\n",
      "\u001b[34m[07/10/2021 11:52:49 INFO 140687120037696] #progress_metric: host=algo-1, completed 70.0 % of epochs\u001b[0m\n",
      "\u001b[34m#metrics {\"StartTime\": 1625917962.8601558, \"EndTime\": 1625917969.4424741, \"Dimensions\": {\"Algorithm\": \"Linear Learner\", \"Host\": \"algo-1\", \"Operation\": \"training\", \"epoch\": 6, \"Meta\": \"training_data_iter\"}, \"Metrics\": {\"Total Records Seen\": {\"sum\": 1407548.0, \"count\": 1, \"min\": 1407548, \"max\": 1407548}, \"Total Batches Seen\": {\"sum\": 1412.0, \"count\": 1, \"min\": 1412, \"max\": 1412}, \"Max Records Seen Between Resets\": {\"sum\": 199364.0, \"count\": 1, \"min\": 199364, \"max\": 199364}, \"Max Batches Seen Between Resets\": {\"sum\": 200.0, \"count\": 1, \"min\": 200, \"max\": 200}, \"Reset Count\": {\"sum\": 9.0, \"count\": 1, \"min\": 9, \"max\": 9}, \"Number of Records Since Last Reset\": {\"sum\": 199364.0, \"count\": 1, \"min\": 199364, \"max\": 199364}, \"Number of Batches Since Last Reset\": {\"sum\": 200.0, \"count\": 1, \"min\": 200, \"max\": 200}}}\n",
      "\u001b[0m\n",
      "\u001b[34m[07/10/2021 11:52:49 INFO 140687120037696] #throughput_metric: host=algo-1, train throughput=30287.219948464946 records/second\u001b[0m\n"
     ]
    },
    {
     "name": "stdout",
     "output_type": "stream",
     "text": [
      "\u001b[34m[2021-07-10 11:52:57.017] [tensorio] [info] epoch_stats={\"data_pipeline\": \"/opt/ml/input/data/train\", \"epoch\": 17, \"duration\": 7574, \"num_examples\": 200, \"num_bytes\": 33493152}\u001b[0m\n",
      "\u001b[34m#metrics {\"StartTime\": 1625917977.0177677, \"EndTime\": 1625917977.017845, \"Dimensions\": {\"Algorithm\": \"Linear Learner\", \"Host\": \"algo-1\", \"Operation\": \"training\", \"epoch\": 7, \"model\": 0}, \"Metrics\": {\"train_binary_classification_cross_entropy_objective\": {\"sum\": 0.005524270125968972, \"count\": 1, \"min\": 0.005524270125968972, \"max\": 0.005524270125968972}}}\n",
      "\u001b[0m\n",
      "\u001b[34m#metrics {\"StartTime\": 1625917977.0179193, \"EndTime\": 1625917977.0179372, \"Dimensions\": {\"Algorithm\": \"Linear Learner\", \"Host\": \"algo-1\", \"Operation\": \"training\", \"epoch\": 7, \"model\": 1}, \"Metrics\": {\"train_binary_classification_cross_entropy_objective\": {\"sum\": 0.004604272932263475, \"count\": 1, \"min\": 0.004604272932263475, \"max\": 0.004604272932263475}}}\n",
      "\u001b[0m\n",
      "\u001b[34m#metrics {\"StartTime\": 1625917977.0179906, \"EndTime\": 1625917977.0180063, \"Dimensions\": {\"Algorithm\": \"Linear Learner\", \"Host\": \"algo-1\", \"Operation\": \"training\", \"epoch\": 7, \"model\": 2}, \"Metrics\": {\"train_binary_classification_cross_entropy_objective\": {\"sum\": 0.005524027074401702, \"count\": 1, \"min\": 0.005524027074401702, \"max\": 0.005524027074401702}}}\n",
      "\u001b[0m\n",
      "\u001b[34m#metrics {\"StartTime\": 1625917977.0180607, \"EndTime\": 1625917977.018077, \"Dimensions\": {\"Algorithm\": \"Linear Learner\", \"Host\": \"algo-1\", \"Operation\": \"training\", \"epoch\": 7, \"model\": 3}, \"Metrics\": {\"train_binary_classification_cross_entropy_objective\": {\"sum\": 0.004605158278091469, \"count\": 1, \"min\": 0.004605158278091469, \"max\": 0.004605158278091469}}}\n",
      "\u001b[0m\n",
      "\u001b[34m#metrics {\"StartTime\": 1625917977.018133, \"EndTime\": 1625917977.0181499, \"Dimensions\": {\"Algorithm\": \"Linear Learner\", \"Host\": \"algo-1\", \"Operation\": \"training\", \"epoch\": 7, \"model\": 4}, \"Metrics\": {\"train_binary_classification_cross_entropy_objective\": {\"sum\": 0.004387789078843054, \"count\": 1, \"min\": 0.004387789078843054, \"max\": 0.004387789078843054}}}\n",
      "\u001b[0m\n",
      "\u001b[34m#metrics {\"StartTime\": 1625917977.0182025, \"EndTime\": 1625917977.018219, \"Dimensions\": {\"Algorithm\": \"Linear Learner\", \"Host\": \"algo-1\", \"Operation\": \"training\", \"epoch\": 7, \"model\": 5}, \"Metrics\": {\"train_binary_classification_cross_entropy_objective\": {\"sum\": 0.005547700634104522, \"count\": 1, \"min\": 0.005547700634104522, \"max\": 0.005547700634104522}}}\n",
      "\u001b[0m\n",
      "\u001b[34m#metrics {\"StartTime\": 1625917977.018271, \"EndTime\": 1625917977.0182867, \"Dimensions\": {\"Algorithm\": \"Linear Learner\", \"Host\": \"algo-1\", \"Operation\": \"training\", \"epoch\": 7, \"model\": 6}, \"Metrics\": {\"train_binary_classification_cross_entropy_objective\": {\"sum\": 0.0045809531727028854, \"count\": 1, \"min\": 0.0045809531727028854, \"max\": 0.0045809531727028854}}}\n",
      "\u001b[0m\n",
      "\u001b[34m#metrics {\"StartTime\": 1625917977.0183327, \"EndTime\": 1625917977.0183487, \"Dimensions\": {\"Algorithm\": \"Linear Learner\", \"Host\": \"algo-1\", \"Operation\": \"training\", \"epoch\": 7, \"model\": 7}, \"Metrics\": {\"train_binary_classification_cross_entropy_objective\": {\"sum\": 0.006368811904335741, \"count\": 1, \"min\": 0.006368811904335741, \"max\": 0.006368811904335741}}}\n",
      "\u001b[0m\n",
      "\u001b[34m#metrics {\"StartTime\": 1625917977.0184035, \"EndTime\": 1625917977.0184186, \"Dimensions\": {\"Algorithm\": \"Linear Learner\", \"Host\": \"algo-1\", \"Operation\": \"training\", \"epoch\": 7, \"model\": 8}, \"Metrics\": {\"train_binary_classification_cross_entropy_objective\": {\"sum\": 0.006109004017096668, \"count\": 1, \"min\": 0.006109004017096668, \"max\": 0.006109004017096668}}}\n",
      "\u001b[0m\n",
      "\u001b[34m#metrics {\"StartTime\": 1625917977.018469, \"EndTime\": 1625917977.018485, \"Dimensions\": {\"Algorithm\": \"Linear Learner\", \"Host\": \"algo-1\", \"Operation\": \"training\", \"epoch\": 7, \"model\": 9}, \"Metrics\": {\"train_binary_classification_cross_entropy_objective\": {\"sum\": 0.005361826882889522, \"count\": 1, \"min\": 0.005361826882889522, \"max\": 0.005361826882889522}}}\n",
      "\u001b[0m\n",
      "\u001b[34m#metrics {\"StartTime\": 1625917977.018541, \"EndTime\": 1625917977.0185575, \"Dimensions\": {\"Algorithm\": \"Linear Learner\", \"Host\": \"algo-1\", \"Operation\": \"training\", \"epoch\": 7, \"model\": 10}, \"Metrics\": {\"train_binary_classification_cross_entropy_objective\": {\"sum\": 0.006110296278143648, \"count\": 1, \"min\": 0.006110296278143648, \"max\": 0.006110296278143648}}}\n",
      "\u001b[0m\n",
      "\u001b[34m#metrics {\"StartTime\": 1625917977.0186043, \"EndTime\": 1625917977.01862, \"Dimensions\": {\"Algorithm\": \"Linear Learner\", \"Host\": \"algo-1\", \"Operation\": \"training\", \"epoch\": 7, \"model\": 11}, \"Metrics\": {\"train_binary_classification_cross_entropy_objective\": {\"sum\": 0.005361343582071851, \"count\": 1, \"min\": 0.005361343582071851, \"max\": 0.005361343582071851}}}\n",
      "\u001b[0m\n",
      "\u001b[34m#metrics {\"StartTime\": 1625917977.0186706, \"EndTime\": 1625917977.0186856, \"Dimensions\": {\"Algorithm\": \"Linear Learner\", \"Host\": \"algo-1\", \"Operation\": \"training\", \"epoch\": 7, \"model\": 12}, \"Metrics\": {\"train_binary_classification_cross_entropy_objective\": {\"sum\": 0.0052810730661579115, \"count\": 1, \"min\": 0.0052810730661579115, \"max\": 0.0052810730661579115}}}\n",
      "\u001b[0m\n",
      "\u001b[34m#metrics {\"StartTime\": 1625917977.018741, \"EndTime\": 1625917977.018757, \"Dimensions\": {\"Algorithm\": \"Linear Learner\", \"Host\": \"algo-1\", \"Operation\": \"training\", \"epoch\": 7, \"model\": 13}, \"Metrics\": {\"train_binary_classification_cross_entropy_objective\": {\"sum\": 0.005630092929356062, \"count\": 1, \"min\": 0.005630092929356062, \"max\": 0.005630092929356062}}}\n",
      "\u001b[0m\n",
      "\u001b[34m#metrics {\"StartTime\": 1625917977.0188046, \"EndTime\": 1625917977.0188203, \"Dimensions\": {\"Algorithm\": \"Linear Learner\", \"Host\": \"algo-1\", \"Operation\": \"training\", \"epoch\": 7, \"model\": 14}, \"Metrics\": {\"train_binary_classification_cross_entropy_objective\": {\"sum\": 0.00528125796905115, \"count\": 1, \"min\": 0.00528125796905115, \"max\": 0.00528125796905115}}}\n",
      "\u001b[0m\n",
      "\u001b[34m#metrics {\"StartTime\": 1625917977.0188673, \"EndTime\": 1625917977.0188832, \"Dimensions\": {\"Algorithm\": \"Linear Learner\", \"Host\": \"algo-1\", \"Operation\": \"training\", \"epoch\": 7, \"model\": 15}, \"Metrics\": {\"train_binary_classification_cross_entropy_objective\": {\"sum\": 0.005630839835459264, \"count\": 1, \"min\": 0.005630839835459264, \"max\": 0.005630839835459264}}}\n",
      "\u001b[0m\n",
      "\u001b[34m#metrics {\"StartTime\": 1625917977.0189278, \"EndTime\": 1625917977.018942, \"Dimensions\": {\"Algorithm\": \"Linear Learner\", \"Host\": \"algo-1\", \"Operation\": \"training\", \"epoch\": 7, \"model\": 16}, \"Metrics\": {\"train_binary_classification_cross_entropy_objective\": {\"sum\": 0.012407306412356583, \"count\": 1, \"min\": 0.012407306412356583, \"max\": 0.012407306412356583}}}\n",
      "\u001b[0m\n",
      "\u001b[34m#metrics {\"StartTime\": 1625917977.0189943, \"EndTime\": 1625917977.01901, \"Dimensions\": {\"Algorithm\": \"Linear Learner\", \"Host\": \"algo-1\", \"Operation\": \"training\", \"epoch\": 7, \"model\": 17}, \"Metrics\": {\"train_binary_classification_cross_entropy_objective\": {\"sum\": 0.012069400762193766, \"count\": 1, \"min\": 0.012069400762193766, \"max\": 0.012069400762193766}}}\n",
      "\u001b[0m\n",
      "\u001b[34m#metrics {\"StartTime\": 1625917977.019052, \"EndTime\": 1625917977.0190666, \"Dimensions\": {\"Algorithm\": \"Linear Learner\", \"Host\": \"algo-1\", \"Operation\": \"training\", \"epoch\": 7, \"model\": 18}, \"Metrics\": {\"train_binary_classification_cross_entropy_objective\": {\"sum\": 0.012407972555064676, \"count\": 1, \"min\": 0.012407972555064676, \"max\": 0.012407972555064676}}}\n",
      "\u001b[0m\n",
      "\u001b[34m#metrics {\"StartTime\": 1625917977.0191152, \"EndTime\": 1625917977.0191295, \"Dimensions\": {\"Algorithm\": \"Linear Learner\", \"Host\": \"algo-1\", \"Operation\": \"training\", \"epoch\": 7, \"model\": 19}, \"Metrics\": {\"train_binary_classification_cross_entropy_objective\": {\"sum\": 0.01207025454631403, \"count\": 1, \"min\": 0.01207025454631403, \"max\": 0.01207025454631403}}}\n",
      "\u001b[0m\n",
      "\u001b[34m#metrics {\"StartTime\": 1625917977.019184, \"EndTime\": 1625917977.0191994, \"Dimensions\": {\"Algorithm\": \"Linear Learner\", \"Host\": \"algo-1\", \"Operation\": \"training\", \"epoch\": 7, \"model\": 20}, \"Metrics\": {\"train_binary_classification_cross_entropy_objective\": {\"sum\": 0.012027273404538331, \"count\": 1, \"min\": 0.012027273404538331, \"max\": 0.012027273404538331}}}\n",
      "\u001b[0m\n",
      "\u001b[34m#metrics {\"StartTime\": 1625917977.0192413, \"EndTime\": 1625917977.0192554, \"Dimensions\": {\"Algorithm\": \"Linear Learner\", \"Host\": \"algo-1\", \"Operation\": \"training\", \"epoch\": 7, \"model\": 21}, \"Metrics\": {\"train_binary_classification_cross_entropy_objective\": {\"sum\": 0.012157543057772382, \"count\": 1, \"min\": 0.012157543057772382, \"max\": 0.012157543057772382}}}\n",
      "\u001b[0m\n",
      "\u001b[34m#metrics {\"StartTime\": 1625917977.0193043, \"EndTime\": 1625917977.0193193, \"Dimensions\": {\"Algorithm\": \"Linear Learner\", \"Host\": \"algo-1\", \"Operation\": \"training\", \"epoch\": 7, \"model\": 22}, \"Metrics\": {\"train_binary_classification_cross_entropy_objective\": {\"sum\": 0.012027084115162567, \"count\": 1, \"min\": 0.012027084115162567, \"max\": 0.012027084115162567}}}\n",
      "\u001b[0m\n",
      "\u001b[34m#metrics {\"StartTime\": 1625917977.0193672, \"EndTime\": 1625917977.0193825, \"Dimensions\": {\"Algorithm\": \"Linear Learner\", \"Host\": \"algo-1\", \"Operation\": \"training\", \"epoch\": 7, \"model\": 23}, \"Metrics\": {\"train_binary_classification_cross_entropy_objective\": {\"sum\": 0.01215661658713566, \"count\": 1, \"min\": 0.01215661658713566, \"max\": 0.01215661658713566}}}\n",
      "\u001b[0m\n",
      "\u001b[34m#metrics {\"StartTime\": 1625917977.0194588, \"EndTime\": 1625917977.019475, \"Dimensions\": {\"Algorithm\": \"Linear Learner\", \"Host\": \"algo-1\", \"Operation\": \"training\", \"epoch\": 7, \"model\": 24}, \"Metrics\": {\"train_binary_classification_cross_entropy_objective\": {\"sum\": 0.013432911911202435, \"count\": 1, \"min\": 0.013432911911202435, \"max\": 0.013432911911202435}}}\n",
      "\u001b[0m\n",
      "\u001b[34m#metrics {\"StartTime\": 1625917977.0195267, \"EndTime\": 1625917977.019543, \"Dimensions\": {\"Algorithm\": \"Linear Learner\", \"Host\": \"algo-1\", \"Operation\": \"training\", \"epoch\": 7, \"model\": 25}, \"Metrics\": {\"train_binary_classification_cross_entropy_objective\": {\"sum\": 0.013149213692650723, \"count\": 1, \"min\": 0.013149213692650723, \"max\": 0.013149213692650723}}}\n",
      "\u001b[0m\n",
      "\u001b[34m#metrics {\"StartTime\": 1625917977.019591, \"EndTime\": 1625917977.0196066, \"Dimensions\": {\"Algorithm\": \"Linear Learner\", \"Host\": \"algo-1\", \"Operation\": \"training\", \"epoch\": 7, \"model\": 26}, \"Metrics\": {\"train_binary_classification_cross_entropy_objective\": {\"sum\": 0.013433082283441745, \"count\": 1, \"min\": 0.013433082283441745, \"max\": 0.013433082283441745}}}\n",
      "\u001b[0m\n",
      "\u001b[34m#metrics {\"StartTime\": 1625917977.0196562, \"EndTime\": 1625917977.0196733, \"Dimensions\": {\"Algorithm\": \"Linear Learner\", \"Host\": \"algo-1\", \"Operation\": \"training\", \"epoch\": 7, \"model\": 27}, \"Metrics\": {\"train_binary_classification_cross_entropy_objective\": {\"sum\": 0.01314980245475194, \"count\": 1, \"min\": 0.01314980245475194, \"max\": 0.01314980245475194}}}\n",
      "\u001b[0m\n",
      "\u001b[34m#metrics {\"StartTime\": 1625917977.0197241, \"EndTime\": 1625917977.0197396, \"Dimensions\": {\"Algorithm\": \"Linear Learner\", \"Host\": \"algo-1\", \"Operation\": \"training\", \"epoch\": 7, \"model\": 28}, \"Metrics\": {\"train_binary_classification_cross_entropy_objective\": {\"sum\": 0.013143063200778099, \"count\": 1, \"min\": 0.013143063200778099, \"max\": 0.013143063200778099}}}\n",
      "\u001b[0m\n",
      "\u001b[34m#metrics {\"StartTime\": 1625917977.0197945, \"EndTime\": 1625917977.0198092, \"Dimensions\": {\"Algorithm\": \"Linear Learner\", \"Host\": \"algo-1\", \"Operation\": \"training\", \"epoch\": 7, \"model\": 29}, \"Metrics\": {\"train_binary_classification_cross_entropy_objective\": {\"sum\": 0.013203224990236101, \"count\": 1, \"min\": 0.013203224990236101, \"max\": 0.013203224990236101}}}\n",
      "\u001b[0m\n",
      "\u001b[34m#metrics {\"StartTime\": 1625917977.0198486, \"EndTime\": 1625917977.0198581, \"Dimensions\": {\"Algorithm\": \"Linear Learner\", \"Host\": \"algo-1\", \"Operation\": \"training\", \"epoch\": 7, \"model\": 30}, \"Metrics\": {\"train_binary_classification_cross_entropy_objective\": {\"sum\": 0.013143512069280423, \"count\": 1, \"min\": 0.013143512069280423, \"max\": 0.013143512069280423}}}\n",
      "\u001b[0m\n",
      "\u001b[34m#metrics {\"StartTime\": 1625917977.0199099, \"EndTime\": 1625917977.0199256, \"Dimensions\": {\"Algorithm\": \"Linear Learner\", \"Host\": \"algo-1\", \"Operation\": \"training\", \"epoch\": 7, \"model\": 31}, \"Metrics\": {\"train_binary_classification_cross_entropy_objective\": {\"sum\": 0.013209967117812766, \"count\": 1, \"min\": 0.013209967117812766, \"max\": 0.013209967117812766}}}\n",
      "\u001b[0m\n",
      "\u001b[34m[07/10/2021 11:52:57 INFO 140687120037696] #quality_metric: host=algo-1, epoch=7, train binary_classification_cross_entropy_objective <loss>=0.005524270125968972\u001b[0m\n",
      "\u001b[34m[07/10/2021 11:52:57 INFO 140687120037696] #early_stopping_criteria_metric: host=algo-1, epoch=7, criteria=binary_classification_cross_entropy_objective, value=0.004387789078843054\u001b[0m\n",
      "\u001b[34m[07/10/2021 11:52:57 INFO 140687120037696] Epoch 7: Loss improved. Updating best model\u001b[0m\n",
      "\u001b[34m[07/10/2021 11:52:57 INFO 140687120037696] Saving model for epoch: 7\u001b[0m\n",
      "\u001b[34m[07/10/2021 11:52:57 INFO 140687120037696] Saved checkpoint to \"/tmp/tmporeuo67o/mx-mod-0000.params\"\u001b[0m\n",
      "\u001b[34m[07/10/2021 11:52:57 INFO 140687120037696] #progress_metric: host=algo-1, completed 80.0 % of epochs\u001b[0m\n",
      "\u001b[34m#metrics {\"StartTime\": 1625917969.443043, \"EndTime\": 1625917977.029056, \"Dimensions\": {\"Algorithm\": \"Linear Learner\", \"Host\": \"algo-1\", \"Operation\": \"training\", \"epoch\": 7, \"Meta\": \"training_data_iter\"}, \"Metrics\": {\"Total Records Seen\": {\"sum\": 1606912.0, \"count\": 1, \"min\": 1606912, \"max\": 1606912}, \"Total Batches Seen\": {\"sum\": 1612.0, \"count\": 1, \"min\": 1612, \"max\": 1612}, \"Max Records Seen Between Resets\": {\"sum\": 199364.0, \"count\": 1, \"min\": 199364, \"max\": 199364}, \"Max Batches Seen Between Resets\": {\"sum\": 200.0, \"count\": 1, \"min\": 200, \"max\": 200}, \"Reset Count\": {\"sum\": 10.0, \"count\": 1, \"min\": 10, \"max\": 10}, \"Number of Records Since Last Reset\": {\"sum\": 199364.0, \"count\": 1, \"min\": 199364, \"max\": 199364}, \"Number of Batches Since Last Reset\": {\"sum\": 200.0, \"count\": 1, \"min\": 200, \"max\": 200}}}\n",
      "\u001b[0m\n",
      "\u001b[34m[07/10/2021 11:52:57 INFO 140687120037696] #throughput_metric: host=algo-1, train throughput=26280.048547016133 records/second\u001b[0m\n"
     ]
    },
    {
     "name": "stdout",
     "output_type": "stream",
     "text": [
      "\u001b[34m[2021-07-10 11:53:04.121] [tensorio] [info] epoch_stats={\"data_pipeline\": \"/opt/ml/input/data/train\", \"epoch\": 19, \"duration\": 7091, \"num_examples\": 200, \"num_bytes\": 33493152}\u001b[0m\n",
      "\u001b[34m#metrics {\"StartTime\": 1625917984.1214955, \"EndTime\": 1625917984.1215823, \"Dimensions\": {\"Algorithm\": \"Linear Learner\", \"Host\": \"algo-1\", \"Operation\": \"training\", \"epoch\": 8, \"model\": 0}, \"Metrics\": {\"train_binary_classification_cross_entropy_objective\": {\"sum\": 0.005324880617946836, \"count\": 1, \"min\": 0.005324880617946836, \"max\": 0.005324880617946836}}}\n",
      "\u001b[0m\n",
      "\u001b[34m#metrics {\"StartTime\": 1625917984.121671, \"EndTime\": 1625917984.1216915, \"Dimensions\": {\"Algorithm\": \"Linear Learner\", \"Host\": \"algo-1\", \"Operation\": \"training\", \"epoch\": 8, \"model\": 1}, \"Metrics\": {\"train_binary_classification_cross_entropy_objective\": {\"sum\": 0.004463636301869723, \"count\": 1, \"min\": 0.004463636301869723, \"max\": 0.004463636301869723}}}\n",
      "\u001b[0m\n",
      "\u001b[34m#metrics {\"StartTime\": 1625917984.1217573, \"EndTime\": 1625917984.1217766, \"Dimensions\": {\"Algorithm\": \"Linear Learner\", \"Host\": \"algo-1\", \"Operation\": \"training\", \"epoch\": 8, \"model\": 2}, \"Metrics\": {\"train_binary_classification_cross_entropy_objective\": {\"sum\": 0.0053248882221816176, \"count\": 1, \"min\": 0.0053248882221816176, \"max\": 0.0053248882221816176}}}\n",
      "\u001b[0m\n",
      "\u001b[34m#metrics {\"StartTime\": 1625917984.1218307, \"EndTime\": 1625917984.1218483, \"Dimensions\": {\"Algorithm\": \"Linear Learner\", \"Host\": \"algo-1\", \"Operation\": \"training\", \"epoch\": 8, \"model\": 3}, \"Metrics\": {\"train_binary_classification_cross_entropy_objective\": {\"sum\": 0.004464410444599899, \"count\": 1, \"min\": 0.004464410444599899, \"max\": 0.004464410444599899}}}\n",
      "\u001b[0m\n",
      "\u001b[34m#metrics {\"StartTime\": 1625917984.12191, \"EndTime\": 1625917984.1219285, \"Dimensions\": {\"Algorithm\": \"Linear Learner\", \"Host\": \"algo-1\", \"Operation\": \"training\", \"epoch\": 8, \"model\": 4}, \"Metrics\": {\"train_binary_classification_cross_entropy_objective\": {\"sum\": 0.0044086177139426, \"count\": 1, \"min\": 0.0044086177139426, \"max\": 0.0044086177139426}}}\n",
      "\u001b[0m\n",
      "\u001b[34m#metrics {\"StartTime\": 1625917984.121982, \"EndTime\": 1625917984.1219995, \"Dimensions\": {\"Algorithm\": \"Linear Learner\", \"Host\": \"algo-1\", \"Operation\": \"training\", \"epoch\": 8, \"model\": 5}, \"Metrics\": {\"train_binary_classification_cross_entropy_objective\": {\"sum\": 0.005752531464525204, \"count\": 1, \"min\": 0.005752531464525204, \"max\": 0.005752531464525204}}}\n",
      "\u001b[0m\n",
      "\u001b[34m#metrics {\"StartTime\": 1625917984.1220446, \"EndTime\": 1625917984.1220596, \"Dimensions\": {\"Algorithm\": \"Linear Learner\", \"Host\": \"algo-1\", \"Operation\": \"training\", \"epoch\": 8, \"model\": 6}, \"Metrics\": {\"train_binary_classification_cross_entropy_objective\": {\"sum\": 0.004342870661361732, \"count\": 1, \"min\": 0.004342870661361732, \"max\": 0.004342870661361732}}}\n",
      "\u001b[0m\n",
      "\u001b[34m#metrics {\"StartTime\": 1625917984.1221104, \"EndTime\": 1625917984.1221259, \"Dimensions\": {\"Algorithm\": \"Linear Learner\", \"Host\": \"algo-1\", \"Operation\": \"training\", \"epoch\": 8, \"model\": 7}, \"Metrics\": {\"train_binary_classification_cross_entropy_objective\": {\"sum\": 0.005982998588651269, \"count\": 1, \"min\": 0.005982998588651269, \"max\": 0.005982998588651269}}}\n",
      "\u001b[0m\n",
      "\u001b[34m#metrics {\"StartTime\": 1625917984.1221676, \"EndTime\": 1625917984.1221826, \"Dimensions\": {\"Algorithm\": \"Linear Learner\", \"Host\": \"algo-1\", \"Operation\": \"training\", \"epoch\": 8, \"model\": 8}, \"Metrics\": {\"train_binary_classification_cross_entropy_objective\": {\"sum\": 0.005939081926441672, \"count\": 1, \"min\": 0.005939081926441672, \"max\": 0.005939081926441672}}}\n",
      "\u001b[0m\n",
      "\u001b[34m#metrics {\"StartTime\": 1625917984.1222453, \"EndTime\": 1625917984.122262, \"Dimensions\": {\"Algorithm\": \"Linear Learner\", \"Host\": \"algo-1\", \"Operation\": \"training\", \"epoch\": 8, \"model\": 9}, \"Metrics\": {\"train_binary_classification_cross_entropy_objective\": {\"sum\": 0.005266002165013222, \"count\": 1, \"min\": 0.005266002165013222, \"max\": 0.005266002165013222}}}\n",
      "\u001b[0m\n",
      "\u001b[34m#metrics {\"StartTime\": 1625917984.1223133, \"EndTime\": 1625917984.122328, \"Dimensions\": {\"Algorithm\": \"Linear Learner\", \"Host\": \"algo-1\", \"Operation\": \"training\", \"epoch\": 8, \"model\": 10}, \"Metrics\": {\"train_binary_classification_cross_entropy_objective\": {\"sum\": 0.005940192943841368, \"count\": 1, \"min\": 0.005940192943841368, \"max\": 0.005940192943841368}}}\n",
      "\u001b[0m\n",
      "\u001b[34m#metrics {\"StartTime\": 1625917984.1223764, \"EndTime\": 1625917984.1223927, \"Dimensions\": {\"Algorithm\": \"Linear Learner\", \"Host\": \"algo-1\", \"Operation\": \"training\", \"epoch\": 8, \"model\": 11}, \"Metrics\": {\"train_binary_classification_cross_entropy_objective\": {\"sum\": 0.005265642982032431, \"count\": 1, \"min\": 0.005265642982032431, \"max\": 0.005265642982032431}}}\n",
      "\u001b[0m\n",
      "\u001b[34m#metrics {\"StartTime\": 1625917984.1224434, \"EndTime\": 1625917984.1224594, \"Dimensions\": {\"Algorithm\": \"Linear Learner\", \"Host\": \"algo-1\", \"Operation\": \"training\", \"epoch\": 8, \"model\": 12}, \"Metrics\": {\"train_binary_classification_cross_entropy_objective\": {\"sum\": 0.005234652889134297, \"count\": 1, \"min\": 0.005234652889134297, \"max\": 0.005234652889134297}}}\n",
      "\u001b[0m\n",
      "\u001b[34m#metrics {\"StartTime\": 1625917984.1225176, \"EndTime\": 1625917984.1225352, \"Dimensions\": {\"Algorithm\": \"Linear Learner\", \"Host\": \"algo-1\", \"Operation\": \"training\", \"epoch\": 8, \"model\": 13}, \"Metrics\": {\"train_binary_classification_cross_entropy_objective\": {\"sum\": 0.005607566079003128, \"count\": 1, \"min\": 0.005607566079003128, \"max\": 0.005607566079003128}}}\n",
      "\u001b[0m\n",
      "\u001b[34m#metrics {\"StartTime\": 1625917984.1225796, \"EndTime\": 1625917984.122594, \"Dimensions\": {\"Algorithm\": \"Linear Learner\", \"Host\": \"algo-1\", \"Operation\": \"training\", \"epoch\": 8, \"model\": 14}, \"Metrics\": {\"train_binary_classification_cross_entropy_objective\": {\"sum\": 0.005234022694616461, \"count\": 1, \"min\": 0.005234022694616461, \"max\": 0.005234022694616461}}}\n",
      "\u001b[0m\n",
      "\u001b[34m#metrics {\"StartTime\": 1625917984.1226332, \"EndTime\": 1625917984.1226475, \"Dimensions\": {\"Algorithm\": \"Linear Learner\", \"Host\": \"algo-1\", \"Operation\": \"training\", \"epoch\": 8, \"model\": 15}, \"Metrics\": {\"train_binary_classification_cross_entropy_objective\": {\"sum\": 0.0056091212516454, \"count\": 1, \"min\": 0.0056091212516454, \"max\": 0.0056091212516454}}}\n",
      "\u001b[0m\n",
      "\u001b[34m#metrics {\"StartTime\": 1625917984.1227026, \"EndTime\": 1625917984.1227193, \"Dimensions\": {\"Algorithm\": \"Linear Learner\", \"Host\": \"algo-1\", \"Operation\": \"training\", \"epoch\": 8, \"model\": 16}, \"Metrics\": {\"train_binary_classification_cross_entropy_objective\": {\"sum\": 0.012328504726515343, \"count\": 1, \"min\": 0.012328504726515343, \"max\": 0.012328504726515343}}}\n",
      "\u001b[0m\n",
      "\u001b[34m#metrics {\"StartTime\": 1625917984.1227658, \"EndTime\": 1625917984.1227806, \"Dimensions\": {\"Algorithm\": \"Linear Learner\", \"Host\": \"algo-1\", \"Operation\": \"training\", \"epoch\": 8, \"model\": 17}, \"Metrics\": {\"train_binary_classification_cross_entropy_objective\": {\"sum\": 0.012055655189494991, \"count\": 1, \"min\": 0.012055655189494991, \"max\": 0.012055655189494991}}}\n",
      "\u001b[0m\n",
      "\u001b[34m#metrics {\"StartTime\": 1625917984.1228287, \"EndTime\": 1625917984.1228423, \"Dimensions\": {\"Algorithm\": \"Linear Learner\", \"Host\": \"algo-1\", \"Operation\": \"training\", \"epoch\": 8, \"model\": 18}, \"Metrics\": {\"train_binary_classification_cross_entropy_objective\": {\"sum\": 0.012328930845212697, \"count\": 1, \"min\": 0.012328930845212697, \"max\": 0.012328930845212697}}}\n",
      "\u001b[0m\n",
      "\u001b[34m#metrics {\"StartTime\": 1625917984.1228924, \"EndTime\": 1625917984.1229079, \"Dimensions\": {\"Algorithm\": \"Linear Learner\", \"Host\": \"algo-1\", \"Operation\": \"training\", \"epoch\": 8, \"model\": 19}, \"Metrics\": {\"train_binary_classification_cross_entropy_objective\": {\"sum\": 0.012056339863556713, \"count\": 1, \"min\": 0.012056339863556713, \"max\": 0.012056339863556713}}}\n",
      "\u001b[0m\n",
      "\u001b[34m#metrics {\"StartTime\": 1625917984.1229594, \"EndTime\": 1625917984.1229737, \"Dimensions\": {\"Algorithm\": \"Linear Learner\", \"Host\": \"algo-1\", \"Operation\": \"training\", \"epoch\": 8, \"model\": 20}, \"Metrics\": {\"train_binary_classification_cross_entropy_objective\": {\"sum\": 0.012014337587596183, \"count\": 1, \"min\": 0.012014337587596183, \"max\": 0.012014337587596183}}}\n",
      "\u001b[0m\n",
      "\u001b[34m#metrics {\"StartTime\": 1625917984.1230252, \"EndTime\": 1625917984.1230392, \"Dimensions\": {\"Algorithm\": \"Linear Learner\", \"Host\": \"algo-1\", \"Operation\": \"training\", \"epoch\": 8, \"model\": 21}, \"Metrics\": {\"train_binary_classification_cross_entropy_objective\": {\"sum\": 0.012161706524877691, \"count\": 1, \"min\": 0.012161706524877691, \"max\": 0.012161706524877691}}}\n",
      "\u001b[0m\n",
      "\u001b[34m#metrics {\"StartTime\": 1625917984.1230857, \"EndTime\": 1625917984.1231012, \"Dimensions\": {\"Algorithm\": \"Linear Learner\", \"Host\": \"algo-1\", \"Operation\": \"training\", \"epoch\": 8, \"model\": 22}, \"Metrics\": {\"train_binary_classification_cross_entropy_objective\": {\"sum\": 0.012014880976485247, \"count\": 1, \"min\": 0.012014880976485247, \"max\": 0.012014880976485247}}}\n",
      "\u001b[0m\n",
      "\u001b[34m#metrics {\"StartTime\": 1625917984.1231534, \"EndTime\": 1625917984.123169, \"Dimensions\": {\"Algorithm\": \"Linear Learner\", \"Host\": \"algo-1\", \"Operation\": \"training\", \"epoch\": 8, \"model\": 23}, \"Metrics\": {\"train_binary_classification_cross_entropy_objective\": {\"sum\": 0.012160859454816311, \"count\": 1, \"min\": 0.012160859454816311, \"max\": 0.012160859454816311}}}\n",
      "\u001b[0m\n",
      "\u001b[34m#metrics {\"StartTime\": 1625917984.123222, \"EndTime\": 1625917984.1232371, \"Dimensions\": {\"Algorithm\": \"Linear Learner\", \"Host\": \"algo-1\", \"Operation\": \"training\", \"epoch\": 8, \"model\": 24}, \"Metrics\": {\"train_binary_classification_cross_entropy_objective\": {\"sum\": 0.013353795814753776, \"count\": 1, \"min\": 0.013353795814753776, \"max\": 0.013353795814753776}}}\n",
      "\u001b[0m\n",
      "\u001b[34m#metrics {\"StartTime\": 1625917984.1232889, \"EndTime\": 1625917984.123304, \"Dimensions\": {\"Algorithm\": \"Linear Learner\", \"Host\": \"algo-1\", \"Operation\": \"training\", \"epoch\": 8, \"model\": 25}, \"Metrics\": {\"train_binary_classification_cross_entropy_objective\": {\"sum\": 0.01313478676817525, \"count\": 1, \"min\": 0.01313478676817525, \"max\": 0.01313478676817525}}}\n",
      "\u001b[0m\n",
      "\u001b[34m#metrics {\"StartTime\": 1625917984.1233864, \"EndTime\": 1625917984.1234043, \"Dimensions\": {\"Algorithm\": \"Linear Learner\", \"Host\": \"algo-1\", \"Operation\": \"training\", \"epoch\": 8, \"model\": 26}, \"Metrics\": {\"train_binary_classification_cross_entropy_objective\": {\"sum\": 0.013353959871895948, \"count\": 1, \"min\": 0.013353959871895948, \"max\": 0.013353959871895948}}}\n",
      "\u001b[0m\n",
      "\u001b[34m#metrics {\"StartTime\": 1625917984.1234584, \"EndTime\": 1625917984.1234741, \"Dimensions\": {\"Algorithm\": \"Linear Learner\", \"Host\": \"algo-1\", \"Operation\": \"training\", \"epoch\": 8, \"model\": 27}, \"Metrics\": {\"train_binary_classification_cross_entropy_objective\": {\"sum\": 0.013135368020091225, \"count\": 1, \"min\": 0.013135368020091225, \"max\": 0.013135368020091225}}}\n",
      "\u001b[0m\n",
      "\u001b[34m#metrics {\"StartTime\": 1625917984.1235566, \"EndTime\": 1625917984.1235733, \"Dimensions\": {\"Algorithm\": \"Linear Learner\", \"Host\": \"algo-1\", \"Operation\": \"training\", \"epoch\": 8, \"model\": 28}, \"Metrics\": {\"train_binary_classification_cross_entropy_objective\": {\"sum\": 0.013142971356310438, \"count\": 1, \"min\": 0.013142971356310438, \"max\": 0.013142971356310438}}}\n",
      "\u001b[0m\n",
      "\u001b[34m#metrics {\"StartTime\": 1625917984.1236265, \"EndTime\": 1625917984.1236422, \"Dimensions\": {\"Algorithm\": \"Linear Learner\", \"Host\": \"algo-1\", \"Operation\": \"training\", \"epoch\": 8, \"model\": 29}, \"Metrics\": {\"train_binary_classification_cross_entropy_objective\": {\"sum\": 0.013215810347442052, \"count\": 1, \"min\": 0.013215810347442052, \"max\": 0.013215810347442052}}}\n",
      "\u001b[0m\n",
      "\u001b[34m#metrics {\"StartTime\": 1625917984.1236951, \"EndTime\": 1625917984.1237106, \"Dimensions\": {\"Algorithm\": \"Linear Learner\", \"Host\": \"algo-1\", \"Operation\": \"training\", \"epoch\": 8, \"model\": 30}, \"Metrics\": {\"train_binary_classification_cross_entropy_objective\": {\"sum\": 0.013142410118975233, \"count\": 1, \"min\": 0.013142410118975233, \"max\": 0.013142410118975233}}}\n",
      "\u001b[0m\n",
      "\u001b[34m#metrics {\"StartTime\": 1625917984.1237652, \"EndTime\": 1625917984.1237814, \"Dimensions\": {\"Algorithm\": \"Linear Learner\", \"Host\": \"algo-1\", \"Operation\": \"training\", \"epoch\": 8, \"model\": 31}, \"Metrics\": {\"train_binary_classification_cross_entropy_objective\": {\"sum\": 0.013212464604545478, \"count\": 1, \"min\": 0.013212464604545478, \"max\": 0.013212464604545478}}}\n",
      "\u001b[0m\n",
      "\u001b[34m[07/10/2021 11:53:04 INFO 140687120037696] #quality_metric: host=algo-1, epoch=8, train binary_classification_cross_entropy_objective <loss>=0.005324880617946836\u001b[0m\n",
      "\u001b[34m[07/10/2021 11:53:04 INFO 140687120037696] #early_stopping_criteria_metric: host=algo-1, epoch=8, criteria=binary_classification_cross_entropy_objective, value=0.004342870661361732\u001b[0m\n",
      "\u001b[34m[07/10/2021 11:53:04 INFO 140687120037696] Epoch 8: Loss improved. Updating best model\u001b[0m\n",
      "\u001b[34m[07/10/2021 11:53:04 INFO 140687120037696] Saving model for epoch: 8\u001b[0m\n",
      "\u001b[34m[07/10/2021 11:53:04 INFO 140687120037696] Saved checkpoint to \"/tmp/tmp5hjg90_9/mx-mod-0000.params\"\u001b[0m\n",
      "\u001b[34m[07/10/2021 11:53:04 INFO 140687120037696] #progress_metric: host=algo-1, completed 90.0 % of epochs\u001b[0m\n",
      "\u001b[34m#metrics {\"StartTime\": 1625917977.0293446, \"EndTime\": 1625917984.1328294, \"Dimensions\": {\"Algorithm\": \"Linear Learner\", \"Host\": \"algo-1\", \"Operation\": \"training\", \"epoch\": 8, \"Meta\": \"training_data_iter\"}, \"Metrics\": {\"Total Records Seen\": {\"sum\": 1806276.0, \"count\": 1, \"min\": 1806276, \"max\": 1806276}, \"Total Batches Seen\": {\"sum\": 1812.0, \"count\": 1, \"min\": 1812, \"max\": 1812}, \"Max Records Seen Between Resets\": {\"sum\": 199364.0, \"count\": 1, \"min\": 199364, \"max\": 199364}, \"Max Batches Seen Between Resets\": {\"sum\": 200.0, \"count\": 1, \"min\": 200, \"max\": 200}, \"Reset Count\": {\"sum\": 11.0, \"count\": 1, \"min\": 11, \"max\": 11}, \"Number of Records Since Last Reset\": {\"sum\": 199364.0, \"count\": 1, \"min\": 199364, \"max\": 199364}, \"Number of Batches Since Last Reset\": {\"sum\": 200.0, \"count\": 1, \"min\": 200, \"max\": 200}}}\n",
      "\u001b[0m\n",
      "\u001b[34m[07/10/2021 11:53:04 INFO 140687120037696] #throughput_metric: host=algo-1, train throughput=28065.12809277315 records/second\u001b[0m\n",
      "\u001b[34m[2021-07-10 11:53:11.029] [tensorio] [info] epoch_stats={\"data_pipeline\": \"/opt/ml/input/data/train\", \"epoch\": 21, \"duration\": 6894, \"num_examples\": 200, \"num_bytes\": 33493152}\u001b[0m\n",
      "\u001b[34m#metrics {\"StartTime\": 1625917991.0293486, \"EndTime\": 1625917991.029548, \"Dimensions\": {\"Algorithm\": \"Linear Learner\", \"Host\": \"algo-1\", \"Operation\": \"training\", \"epoch\": 9, \"model\": 0}, \"Metrics\": {\"train_binary_classification_cross_entropy_objective\": {\"sum\": 0.005176234991706196, \"count\": 1, \"min\": 0.005176234991706196, \"max\": 0.005176234991706196}}}\n",
      "\u001b[0m\n",
      "\u001b[34m#metrics {\"StartTime\": 1625917991.0296535, \"EndTime\": 1625917991.029675, \"Dimensions\": {\"Algorithm\": \"Linear Learner\", \"Host\": \"algo-1\", \"Operation\": \"training\", \"epoch\": 9, \"model\": 1}, \"Metrics\": {\"train_binary_classification_cross_entropy_objective\": {\"sum\": 0.004362526129538091, \"count\": 1, \"min\": 0.004362526129538091, \"max\": 0.004362526129538091}}}\n",
      "\u001b[0m\n",
      "\u001b[34m#metrics {\"StartTime\": 1625917991.0297408, \"EndTime\": 1625917991.029759, \"Dimensions\": {\"Algorithm\": \"Linear Learner\", \"Host\": \"algo-1\", \"Operation\": \"training\", \"epoch\": 9, \"model\": 2}, \"Metrics\": {\"train_binary_classification_cross_entropy_objective\": {\"sum\": 0.005176417000329674, \"count\": 1, \"min\": 0.005176417000329674, \"max\": 0.005176417000329674}}}\n",
      "\u001b[0m\n",
      "\u001b[34m#metrics {\"StartTime\": 1625917991.0298116, \"EndTime\": 1625917991.029828, \"Dimensions\": {\"Algorithm\": \"Linear Learner\", \"Host\": \"algo-1\", \"Operation\": \"training\", \"epoch\": 9, \"model\": 3}, \"Metrics\": {\"train_binary_classification_cross_entropy_objective\": {\"sum\": 0.004363289102238027, \"count\": 1, \"min\": 0.004363289102238027, \"max\": 0.004363289102238027}}}\n",
      "\u001b[0m\n",
      "\u001b[34m#metrics {\"StartTime\": 1625917991.0298831, \"EndTime\": 1625917991.0299008, \"Dimensions\": {\"Algorithm\": \"Linear Learner\", \"Host\": \"algo-1\", \"Operation\": \"training\", \"epoch\": 9, \"model\": 4}, \"Metrics\": {\"train_binary_classification_cross_entropy_objective\": {\"sum\": 0.004258268239210598, \"count\": 1, \"min\": 0.004258268239210598, \"max\": 0.004258268239210598}}}\n",
      "\u001b[0m\n",
      "\u001b[34m#metrics {\"StartTime\": 1625917991.029961, \"EndTime\": 1625917991.029979, \"Dimensions\": {\"Algorithm\": \"Linear Learner\", \"Host\": \"algo-1\", \"Operation\": \"training\", \"epoch\": 9, \"model\": 5}, \"Metrics\": {\"train_binary_classification_cross_entropy_objective\": {\"sum\": 0.005444821415983852, \"count\": 1, \"min\": 0.005444821415983852, \"max\": 0.005444821415983852}}}\n",
      "\u001b[0m\n",
      "\u001b[34m#metrics {\"StartTime\": 1625917991.0300162, \"EndTime\": 1625917991.0300317, \"Dimensions\": {\"Algorithm\": \"Linear Learner\", \"Host\": \"algo-1\", \"Operation\": \"training\", \"epoch\": 9, \"model\": 6}, \"Metrics\": {\"train_binary_classification_cross_entropy_objective\": {\"sum\": 0.004226419981101051, \"count\": 1, \"min\": 0.004226419981101051, \"max\": 0.004226419981101051}}}\n",
      "\u001b[0m\n",
      "\u001b[34m#metrics {\"StartTime\": 1625917991.0301154, \"EndTime\": 1625917991.0301342, \"Dimensions\": {\"Algorithm\": \"Linear Learner\", \"Host\": \"algo-1\", \"Operation\": \"training\", \"epoch\": 9, \"model\": 7}, \"Metrics\": {\"train_binary_classification_cross_entropy_objective\": {\"sum\": 0.005410295331597927, \"count\": 1, \"min\": 0.005410295331597927, \"max\": 0.005410295331597927}}}\n",
      "\u001b[0m\n",
      "\u001b[34m#metrics {\"StartTime\": 1625917991.0301943, \"EndTime\": 1625917991.0302105, \"Dimensions\": {\"Algorithm\": \"Linear Learner\", \"Host\": \"algo-1\", \"Operation\": \"training\", \"epoch\": 9, \"model\": 8}, \"Metrics\": {\"train_binary_classification_cross_entropy_objective\": {\"sum\": 0.005814564873824766, \"count\": 1, \"min\": 0.005814564873824766, \"max\": 0.005814564873824766}}}\n",
      "\u001b[0m\n",
      "\u001b[34m#metrics {\"StartTime\": 1625917991.0302567, \"EndTime\": 1625917991.0302715, \"Dimensions\": {\"Algorithm\": \"Linear Learner\", \"Host\": \"algo-1\", \"Operation\": \"training\", \"epoch\": 9, \"model\": 9}, \"Metrics\": {\"train_binary_classification_cross_entropy_objective\": {\"sum\": 0.005203934771331711, \"count\": 1, \"min\": 0.005203934771331711, \"max\": 0.005203934771331711}}}\n",
      "\u001b[0m\n",
      "\u001b[34m#metrics {\"StartTime\": 1625917991.030318, \"EndTime\": 1625917991.0303338, \"Dimensions\": {\"Algorithm\": \"Linear Learner\", \"Host\": \"algo-1\", \"Operation\": \"training\", \"epoch\": 9, \"model\": 10}, \"Metrics\": {\"train_binary_classification_cross_entropy_objective\": {\"sum\": 0.005815549328099543, \"count\": 1, \"min\": 0.005815549328099543, \"max\": 0.005815549328099543}}}\n",
      "\u001b[0m\n",
      "\u001b[34m#metrics {\"StartTime\": 1625917991.0303829, \"EndTime\": 1625917991.030399, \"Dimensions\": {\"Algorithm\": \"Linear Learner\", \"Host\": \"algo-1\", \"Operation\": \"training\", \"epoch\": 9, \"model\": 11}, \"Metrics\": {\"train_binary_classification_cross_entropy_objective\": {\"sum\": 0.005203671764488795, \"count\": 1, \"min\": 0.005203671764488795, \"max\": 0.005203671764488795}}}\n",
      "\u001b[0m\n",
      "\u001b[34m#metrics {\"StartTime\": 1625917991.0304415, \"EndTime\": 1625917991.0304558, \"Dimensions\": {\"Algorithm\": \"Linear Learner\", \"Host\": \"algo-1\", \"Operation\": \"training\", \"epoch\": 9, \"model\": 12}, \"Metrics\": {\"train_binary_classification_cross_entropy_objective\": {\"sum\": 0.005198810795443741, \"count\": 1, \"min\": 0.005198810795443741, \"max\": 0.005198810795443741}}}\n",
      "\u001b[0m\n",
      "\u001b[34m#metrics {\"StartTime\": 1625917991.0305047, \"EndTime\": 1625917991.0305188, \"Dimensions\": {\"Algorithm\": \"Linear Learner\", \"Host\": \"algo-1\", \"Operation\": \"training\", \"epoch\": 9, \"model\": 13}, \"Metrics\": {\"train_binary_classification_cross_entropy_objective\": {\"sum\": 0.005592380902575488, \"count\": 1, \"min\": 0.005592380902575488, \"max\": 0.005592380902575488}}}\n",
      "\u001b[0m\n",
      "\u001b[34m#metrics {\"StartTime\": 1625917991.0305676, \"EndTime\": 1625917991.0305831, \"Dimensions\": {\"Algorithm\": \"Linear Learner\", \"Host\": \"algo-1\", \"Operation\": \"training\", \"epoch\": 9, \"model\": 14}, \"Metrics\": {\"train_binary_classification_cross_entropy_objective\": {\"sum\": 0.00519792076271383, \"count\": 1, \"min\": 0.00519792076271383, \"max\": 0.00519792076271383}}}\n",
      "\u001b[0m\n",
      "\u001b[34m#metrics {\"StartTime\": 1625917991.0306427, \"EndTime\": 1625917991.0306578, \"Dimensions\": {\"Algorithm\": \"Linear Learner\", \"Host\": \"algo-1\", \"Operation\": \"training\", \"epoch\": 9, \"model\": 15}, \"Metrics\": {\"train_binary_classification_cross_entropy_objective\": {\"sum\": 0.005594979418282533, \"count\": 1, \"min\": 0.005594979418282533, \"max\": 0.005594979418282533}}}\n",
      "\u001b[0m\n",
      "\u001b[34m#metrics {\"StartTime\": 1625917991.0307097, \"EndTime\": 1625917991.030726, \"Dimensions\": {\"Algorithm\": \"Linear Learner\", \"Host\": \"algo-1\", \"Operation\": \"training\", \"epoch\": 9, \"model\": 16}, \"Metrics\": {\"train_binary_classification_cross_entropy_objective\": {\"sum\": 0.012274922071389817, \"count\": 1, \"min\": 0.012274922071389817, \"max\": 0.012274922071389817}}}\n",
      "\u001b[0m\n",
      "\u001b[34m#metrics {\"StartTime\": 1625917991.030778, \"EndTime\": 1625917991.0307941, \"Dimensions\": {\"Algorithm\": \"Linear Learner\", \"Host\": \"algo-1\", \"Operation\": \"training\", \"epoch\": 9, \"model\": 17}, \"Metrics\": {\"train_binary_classification_cross_entropy_objective\": {\"sum\": 0.012051017557556306, \"count\": 1, \"min\": 0.012051017557556306, \"max\": 0.012051017557556306}}}\n",
      "\u001b[0m\n",
      "\u001b[34m#metrics {\"StartTime\": 1625917991.030863, \"EndTime\": 1625917991.0308802, \"Dimensions\": {\"Algorithm\": \"Linear Learner\", \"Host\": \"algo-1\", \"Operation\": \"training\", \"epoch\": 9, \"model\": 18}, \"Metrics\": {\"train_binary_classification_cross_entropy_objective\": {\"sum\": 0.012275216606993171, \"count\": 1, \"min\": 0.012275216606993171, \"max\": 0.012275216606993171}}}\n",
      "\u001b[0m\n",
      "\u001b[34m#metrics {\"StartTime\": 1625917991.030942, \"EndTime\": 1625917991.0309587, \"Dimensions\": {\"Algorithm\": \"Linear Learner\", \"Host\": \"algo-1\", \"Operation\": \"training\", \"epoch\": 9, \"model\": 19}, \"Metrics\": {\"train_binary_classification_cross_entropy_objective\": {\"sum\": 0.012051567922285454, \"count\": 1, \"min\": 0.012051567922285454, \"max\": 0.012051567922285454}}}\n",
      "\u001b[0m\n",
      "\u001b[34m#metrics {\"StartTime\": 1625917991.0310104, \"EndTime\": 1625917991.0310266, \"Dimensions\": {\"Algorithm\": \"Linear Learner\", \"Host\": \"algo-1\", \"Operation\": \"training\", \"epoch\": 9, \"model\": 20}, \"Metrics\": {\"train_binary_classification_cross_entropy_objective\": {\"sum\": 0.01200697065777515, \"count\": 1, \"min\": 0.01200697065777515, \"max\": 0.01200697065777515}}}\n",
      "\u001b[0m\n",
      "\u001b[34m#metrics {\"StartTime\": 1625917991.0310671, \"EndTime\": 1625917991.031077, \"Dimensions\": {\"Algorithm\": \"Linear Learner\", \"Host\": \"algo-1\", \"Operation\": \"training\", \"epoch\": 9, \"model\": 21}, \"Metrics\": {\"train_binary_classification_cross_entropy_objective\": {\"sum\": 0.01216575808201603, \"count\": 1, \"min\": 0.01216575808201603, \"max\": 0.01216575808201603}}}\n",
      "\u001b[0m\n",
      "\u001b[34m#metrics {\"StartTime\": 1625917991.031108, \"EndTime\": 1625917991.0311215, \"Dimensions\": {\"Algorithm\": \"Linear Learner\", \"Host\": \"algo-1\", \"Operation\": \"training\", \"epoch\": 9, \"model\": 22}, \"Metrics\": {\"train_binary_classification_cross_entropy_objective\": {\"sum\": 0.012006662773726574, \"count\": 1, \"min\": 0.012006662773726574, \"max\": 0.012006662773726574}}}\n",
      "\u001b[0m\n",
      "\u001b[34m#metrics {\"StartTime\": 1625917991.03117, \"EndTime\": 1625917991.0311852, \"Dimensions\": {\"Algorithm\": \"Linear Learner\", \"Host\": \"algo-1\", \"Operation\": \"training\", \"epoch\": 9, \"model\": 23}, \"Metrics\": {\"train_binary_classification_cross_entropy_objective\": {\"sum\": 0.012164851126359335, \"count\": 1, \"min\": 0.012164851126359335, \"max\": 0.012164851126359335}}}\n",
      "\u001b[0m\n",
      "\u001b[34m#metrics {\"StartTime\": 1625917991.0312376, \"EndTime\": 1625917991.0312536, \"Dimensions\": {\"Algorithm\": \"Linear Learner\", \"Host\": \"algo-1\", \"Operation\": \"training\", \"epoch\": 9, \"model\": 24}, \"Metrics\": {\"train_binary_classification_cross_entropy_objective\": {\"sum\": 0.013300977620647182, \"count\": 1, \"min\": 0.013300977620647182, \"max\": 0.013300977620647182}}}\n",
      "\u001b[0m\n",
      "\u001b[34m#metrics {\"StartTime\": 1625917991.0313034, \"EndTime\": 1625917991.031319, \"Dimensions\": {\"Algorithm\": \"Linear Learner\", \"Host\": \"algo-1\", \"Operation\": \"training\", \"epoch\": 9, \"model\": 25}, \"Metrics\": {\"train_binary_classification_cross_entropy_objective\": {\"sum\": 0.013129347844339495, \"count\": 1, \"min\": 0.013129347844339495, \"max\": 0.013129347844339495}}}\n",
      "\u001b[0m\n",
      "\u001b[34m#metrics {\"StartTime\": 1625917991.031374, \"EndTime\": 1625917991.0313897, \"Dimensions\": {\"Algorithm\": \"Linear Learner\", \"Host\": \"algo-1\", \"Operation\": \"training\", \"epoch\": 9, \"model\": 26}, \"Metrics\": {\"train_binary_classification_cross_entropy_objective\": {\"sum\": 0.013301086332330752, \"count\": 1, \"min\": 0.013301086332330752, \"max\": 0.013301086332330752}}}\n",
      "\u001b[0m\n",
      "\u001b[34m#metrics {\"StartTime\": 1625917991.0314572, \"EndTime\": 1625917991.031473, \"Dimensions\": {\"Algorithm\": \"Linear Learner\", \"Host\": \"algo-1\", \"Operation\": \"training\", \"epoch\": 9, \"model\": 27}, \"Metrics\": {\"train_binary_classification_cross_entropy_objective\": {\"sum\": 0.013129787425899027, \"count\": 1, \"min\": 0.013129787425899027, \"max\": 0.013129787425899027}}}\n",
      "\u001b[0m\n",
      "\u001b[34m#metrics {\"StartTime\": 1625917991.031524, \"EndTime\": 1625917991.03154, \"Dimensions\": {\"Algorithm\": \"Linear Learner\", \"Host\": \"algo-1\", \"Operation\": \"training\", \"epoch\": 9, \"model\": 28}, \"Metrics\": {\"train_binary_classification_cross_entropy_objective\": {\"sum\": 0.01314252999619623, \"count\": 1, \"min\": 0.01314252999619623, \"max\": 0.01314252999619623}}}\n",
      "\u001b[0m\n",
      "\u001b[34m#metrics {\"StartTime\": 1625917991.0315926, \"EndTime\": 1625917991.0316088, \"Dimensions\": {\"Algorithm\": \"Linear Learner\", \"Host\": \"algo-1\", \"Operation\": \"training\", \"epoch\": 9, \"model\": 29}, \"Metrics\": {\"train_binary_classification_cross_entropy_objective\": {\"sum\": 0.013224547447870725, \"count\": 1, \"min\": 0.013224547447870725, \"max\": 0.013224547447870725}}}\n",
      "\u001b[0m\n",
      "\u001b[34m#metrics {\"StartTime\": 1625917991.0316594, \"EndTime\": 1625917991.0316744, \"Dimensions\": {\"Algorithm\": \"Linear Learner\", \"Host\": \"algo-1\", \"Operation\": \"training\", \"epoch\": 9, \"model\": 30}, \"Metrics\": {\"train_binary_classification_cross_entropy_objective\": {\"sum\": 0.013142305517316464, \"count\": 1, \"min\": 0.013142305517316464, \"max\": 0.013142305517316464}}}\n",
      "\u001b[0m\n",
      "\u001b[34m#metrics {\"StartTime\": 1625917991.0317168, \"EndTime\": 1625917991.0317316, \"Dimensions\": {\"Algorithm\": \"Linear Learner\", \"Host\": \"algo-1\", \"Operation\": \"training\", \"epoch\": 9, \"model\": 31}, \"Metrics\": {\"train_binary_classification_cross_entropy_objective\": {\"sum\": 0.013220833392598521, \"count\": 1, \"min\": 0.013220833392598521, \"max\": 0.013220833392598521}}}\n",
      "\u001b[0m\n",
      "\u001b[34m[07/10/2021 11:53:11 INFO 140687120037696] #quality_metric: host=algo-1, epoch=9, train binary_classification_cross_entropy_objective <loss>=0.005176234991706196\u001b[0m\n",
      "\u001b[34m[07/10/2021 11:53:11 INFO 140687120037696] #early_stopping_criteria_metric: host=algo-1, epoch=9, criteria=binary_classification_cross_entropy_objective, value=0.004226419981101051\u001b[0m\n",
      "\u001b[34m[07/10/2021 11:53:11 INFO 140687120037696] Epoch 9: Loss improved. Updating best model\u001b[0m\n",
      "\u001b[34m[07/10/2021 11:53:11 INFO 140687120037696] Saving model for epoch: 9\u001b[0m\n",
      "\u001b[34m[07/10/2021 11:53:11 INFO 140687120037696] Saved checkpoint to \"/tmp/tmpxwty4pe8/mx-mod-0000.params\"\u001b[0m\n",
      "\u001b[34m[07/10/2021 11:53:11 INFO 140687120037696] #progress_metric: host=algo-1, completed 100.0 % of epochs\u001b[0m\n",
      "\u001b[34m#metrics {\"StartTime\": 1625917984.1344512, \"EndTime\": 1625917991.0409603, \"Dimensions\": {\"Algorithm\": \"Linear Learner\", \"Host\": \"algo-1\", \"Operation\": \"training\", \"epoch\": 9, \"Meta\": \"training_data_iter\"}, \"Metrics\": {\"Total Records Seen\": {\"sum\": 2005640.0, \"count\": 1, \"min\": 2005640, \"max\": 2005640}, \"Total Batches Seen\": {\"sum\": 2012.0, \"count\": 1, \"min\": 2012, \"max\": 2012}, \"Max Records Seen Between Resets\": {\"sum\": 199364.0, \"count\": 1, \"min\": 199364, \"max\": 199364}, \"Max Batches Seen Between Resets\": {\"sum\": 200.0, \"count\": 1, \"min\": 200, \"max\": 200}, \"Reset Count\": {\"sum\": 12.0, \"count\": 1, \"min\": 12, \"max\": 12}, \"Number of Records Since Last Reset\": {\"sum\": 199364.0, \"count\": 1, \"min\": 199364, \"max\": 199364}, \"Number of Batches Since Last Reset\": {\"sum\": 200.0, \"count\": 1, \"min\": 200, \"max\": 200}}}\n",
      "\u001b[0m\n",
      "\u001b[34m[07/10/2021 11:53:11 INFO 140687120037696] #throughput_metric: host=algo-1, train throughput=28865.632967705922 records/second\u001b[0m\n",
      "\u001b[34m[07/10/2021 11:53:11 WARNING 140687120037696] wait_for_all_workers will not sync workers since the kv store is not running distributed\u001b[0m\n",
      "\u001b[34m[07/10/2021 11:53:11 WARNING 140687120037696] wait_for_all_workers will not sync workers since the kv store is not running distributed\u001b[0m\n",
      "\u001b[34m[2021-07-10 11:53:11.045] [tensorio] [info] epoch_stats={\"data_pipeline\": \"/opt/ml/input/data/train\", \"epoch\": 23, \"duration\": 3, \"num_examples\": 1, \"num_bytes\": 168000}\u001b[0m\n",
      "\u001b[34m[2021-07-10 11:53:11.532] [tensorio] [info] epoch_stats={\"data_pipeline\": \"/opt/ml/input/data/train\", \"epoch\": 26, \"duration\": 484, \"num_examples\": 200, \"num_bytes\": 33493152}\u001b[0m\n",
      "\u001b[34m[2021-07-10 11:53:12.343] [tensorio] [info] epoch_stats={\"data_pipeline\": \"/opt/ml/input/data/train\", \"epoch\": 28, \"duration\": 737, \"num_examples\": 200, \"num_bytes\": 33493152}\u001b[0m\n",
      "\u001b[34m[07/10/2021 11:53:12 INFO 140687120037696] #train_score (algo-1) : ('binary_classification_cross_entropy_objective', 0.003955218356254958)\u001b[0m\n",
      "\u001b[34m[07/10/2021 11:53:12 INFO 140687120037696] #train_score (algo-1) : ('binary_classification_accuracy', 0.999297766898738)\u001b[0m\n",
      "\u001b[34m[07/10/2021 11:53:12 INFO 140687120037696] #train_score (algo-1) : ('binary_f_1.000', 0.8028169014084507)\u001b[0m\n",
      "\u001b[34m[07/10/2021 11:53:12 INFO 140687120037696] #train_score (algo-1) : ('precision', 0.8073654390934845)\u001b[0m\n",
      "\u001b[34m[07/10/2021 11:53:12 INFO 140687120037696] #train_score (algo-1) : ('recall', 0.7983193277310925)\u001b[0m\n",
      "\u001b[34m[07/10/2021 11:53:12 INFO 140687120037696] #train_score (algo-1) : ('roc_auc_score', 0.9773347358711633)\u001b[0m\n",
      "\u001b[34m[07/10/2021 11:53:12 INFO 140687120037696] #quality_metric: host=algo-1, train binary_classification_cross_entropy_objective <loss>=0.003955218356254958\u001b[0m\n",
      "\u001b[34m[07/10/2021 11:53:12 INFO 140687120037696] #quality_metric: host=algo-1, train binary_classification_accuracy <score>=0.999297766898738\u001b[0m\n",
      "\u001b[34m[07/10/2021 11:53:12 INFO 140687120037696] #quality_metric: host=algo-1, train binary_f_1.000 <score>=0.8028169014084507\u001b[0m\n",
      "\u001b[34m[07/10/2021 11:53:12 INFO 140687120037696] #quality_metric: host=algo-1, train precision <score>=0.8073654390934845\u001b[0m\n",
      "\u001b[34m[07/10/2021 11:53:12 INFO 140687120037696] #quality_metric: host=algo-1, train recall <score>=0.7983193277310925\u001b[0m\n",
      "\u001b[34m[07/10/2021 11:53:12 INFO 140687120037696] #quality_metric: host=algo-1, train roc_auc_score <score>=0.9773347358711633\u001b[0m\n",
      "\u001b[34m[07/10/2021 11:53:12 INFO 140687120037696] Best model found for hyperparameters: {\"optimizer\": \"adam\", \"learning_rate\": 0.1, \"wd\": 0.0001, \"l1\": 0.0, \"lr_scheduler_step\": 10, \"lr_scheduler_factor\": 0.99, \"lr_scheduler_minimum_lr\": 0.0001}\u001b[0m\n",
      "\u001b[34m[07/10/2021 11:53:12 INFO 140687120037696] Saved checkpoint to \"/tmp/tmpuq2cpacs/mx-mod-0000.params\"\u001b[0m\n",
      "\u001b[34m[07/10/2021 11:53:12 INFO 140687120037696] Test data is not provided.\u001b[0m\n",
      "\u001b[34m#metrics {\"StartTime\": 1625917921.0337803, \"EndTime\": 1625917992.4106896, \"Dimensions\": {\"Algorithm\": \"Linear Learner\", \"Host\": \"algo-1\", \"Operation\": \"training\"}, \"Metrics\": {\"initialize.time\": {\"sum\": 219.34938430786133, \"count\": 1, \"min\": 219.34938430786133, \"max\": 219.34938430786133}, \"epochs\": {\"sum\": 10.0, \"count\": 1, \"min\": 10, \"max\": 10}, \"check_early_stopping.time\": {\"sum\": 9.408712387084961, \"count\": 10, \"min\": 0.8301734924316406, \"max\": 1.1055469512939453}, \"update.time\": {\"sum\": 69746.00887298584, \"count\": 10, \"min\": 6290.865659713745, \"max\": 7627.413034439087}, \"finalize.time\": {\"sum\": 1364.227056503296, \"count\": 1, \"min\": 1364.227056503296, \"max\": 1364.227056503296}, \"setuptime\": {\"sum\": 25.405406951904297, \"count\": 1, \"min\": 25.405406951904297, \"max\": 25.405406951904297}, \"totaltime\": {\"sum\": 71610.88633537292, \"count\": 1, \"min\": 71610.88633537292, \"max\": 71610.88633537292}}}\n",
      "\u001b[0m\n"
     ]
    },
    {
     "name": "stdout",
     "output_type": "stream",
     "text": [
      "\n",
      "2021-07-10 11:53:36 Uploading - Uploading generated training model\n",
      "2021-07-10 11:53:36 Completed - Training job completed\n",
      "ProfilerReport-1625917716: NoIssuesFound\n",
      "Training seconds: 136\n",
      "Billable seconds: 136\n",
      "CPU times: user 727 ms, sys: 45.4 ms, total: 773 ms\n",
      "Wall time: 5min 14s\n"
     ]
    }
   ],
   "source": [
    "%%time \n",
    "# train the estimator on formatted training data\n",
    "linear.fit(formatted_train_data)"
   ]
  },
  {
   "cell_type": "markdown",
   "metadata": {},
   "source": [
    "### EXERCISE: Deploy the trained model\n",
    "\n",
    "Deploy your model to create a predictor. We'll use this to make predictions on our test data and evaluate the model."
   ]
  },
  {
   "cell_type": "code",
   "execution_count": 36,
   "metadata": {},
   "outputs": [
    {
     "name": "stderr",
     "output_type": "stream",
     "text": [
      "Defaulting to the only supported framework/algorithm version: 1. Ignoring framework/algorithm version: 1.\n"
     ]
    },
    {
     "name": "stdout",
     "output_type": "stream",
     "text": [
      "-----------------------!CPU times: user 377 ms, sys: 22 ms, total: 399 ms\n",
      "Wall time: 11min 33s\n"
     ]
    }
   ],
   "source": [
    "%%time \n",
    "# deploy and create a predictor\n",
    "linear_predictor = linear.deploy(initial_instance_count = 1,\n",
    "                                 instance_type = 'ml.t2.medium')"
   ]
  },
  {
   "cell_type": "markdown",
   "metadata": {},
   "source": [
    "---\n",
    "# Evaluating Your Model\n",
    "\n",
    "Once your model is deployed, you can see how it performs when applied to the test data.\n",
    "\n",
    "According to the deployed [predictor documentation](https://sagemaker.readthedocs.io/en/stable/linear_learner.html#sagemaker.LinearLearnerPredictor), this predictor expects an `ndarray` of input features and returns a list of Records.\n",
    "> \"The prediction is stored in the \"predicted_label\" key of the `Record.label` field.\"\n",
    "\n",
    "Let's first test our model on just one test point, to see the resulting list."
   ]
  },
  {
   "cell_type": "code",
   "execution_count": 40,
   "metadata": {},
   "outputs": [
    {
     "data": {
      "text/plain": [
       "<sagemaker.amazon.linear_learner.LinearLearnerPredictor at 0x7fb56bba37b8>"
      ]
     },
     "execution_count": 40,
     "metadata": {},
     "output_type": "execute_result"
    }
   ],
   "source": [
    "linear_predictor"
   ]
  },
  {
   "cell_type": "code",
   "execution_count": 42,
   "metadata": {},
   "outputs": [
    {
     "name": "stdout",
     "output_type": "stream",
     "text": [
      "[label {\n",
      "  key: \"predicted_label\"\n",
      "  value {\n",
      "    float32_tensor {\n",
      "      values: 0.0\n",
      "    }\n",
      "  }\n",
      "}\n",
      "label {\n",
      "  key: \"score\"\n",
      "  value {\n",
      "    float32_tensor {\n",
      "      values: 0.0002565078029874712\n",
      "    }\n",
      "  }\n",
      "}\n",
      "]\n"
     ]
    }
   ],
   "source": [
    "# # test one prediction\n",
    "# test_x_np = test_features.astype('float32')\n",
    "# result = linear_predictor.predict(test_x_np[0])\n",
    "\n",
    "# print(result)\n",
    "\n",
    "# test one prediction\n",
    "test_x_np = test_features.astype('float32').to_numpy()\n",
    "result = linear_predictor.predict(test_x_np[0])\n",
    "\n",
    "print(result)"
   ]
  },
  {
   "cell_type": "code",
   "execution_count": 59,
   "metadata": {},
   "outputs": [
    {
     "data": {
      "text/plain": [
       "float32_tensor {\n",
       "  values: 0.0\n",
       "}"
      ]
     },
     "execution_count": 59,
     "metadata": {},
     "output_type": "execute_result"
    }
   ],
   "source": [
    "result[0].label['predicted_label']"
   ]
  },
  {
   "cell_type": "markdown",
   "metadata": {},
   "source": [
    "### Helper function for evaluation\n",
    "\n",
    "\n",
    "The provided function below, takes in a deployed predictor, some test features and labels, and returns a dictionary of metrics; calculating false negatives and positives as well as recall, precision, and accuracy."
   ]
  },
  {
   "cell_type": "code",
   "execution_count": 60,
   "metadata": {},
   "outputs": [],
   "source": [
    "# code to evaluate the endpoint on test data\n",
    "# returns a variety of model metrics\n",
    "def evaluate(predictor, test_features, test_labels, verbose=True):\n",
    "    \"\"\"\n",
    "    Evaluate a model on a test set given the prediction endpoint.  \n",
    "    Return binary classification metrics.\n",
    "    :param predictor: A prediction endpoint\n",
    "    :param test_features: Test features\n",
    "    :param test_labels: Class labels for test data\n",
    "    :param verbose: If True, prints a table of all performance metrics\n",
    "    :return: A dictionary of performance metrics.\n",
    "    \"\"\"\n",
    "    \n",
    "    # We have a lot of test data, so we'll split it into batches of 100\n",
    "    # split the test data set into batches and evaluate using prediction endpoint    \n",
    "    prediction_batches = [predictor.predict(batch) for batch in np.array_split(test_features, 100)]\n",
    "    \n",
    "    # LinearLearner produces a `predicted_label` for each data point in a batch\n",
    "    # get the 'predicted_label' for every point in a batch\n",
    "    test_preds = np.concatenate([np.array([x.label['predicted_label'].float32_tensor.values[0] for x in batch]) \n",
    "                                 for batch in prediction_batches])\n",
    "    \n",
    "    # calculate true positives, false positives, true negatives, false negatives\n",
    "    tp = np.logical_and(test_labels, test_preds).sum()\n",
    "    fp = np.logical_and(1-test_labels, test_preds).sum()\n",
    "    tn = np.logical_and(1-test_labels, 1-test_preds).sum()\n",
    "    fn = np.logical_and(test_labels, 1-test_preds).sum()\n",
    "    \n",
    "    # calculate binary classification metrics\n",
    "    recall = tp / (tp + fn)\n",
    "    precision = tp / (tp + fp)\n",
    "    accuracy = (tp + tn) / (tp + fp + tn + fn)\n",
    "    \n",
    "    # printing a table of metrics\n",
    "    if verbose:\n",
    "        print(pd.crosstab(test_labels, test_preds, rownames=['actual (row)'], colnames=['prediction (col)']))\n",
    "        print(\"\\n{:<11} {:.3f}\".format('Recall:', recall))\n",
    "        print(\"{:<11} {:.3f}\".format('Precision:', precision))\n",
    "        print(\"{:<11} {:.3f}\".format('Accuracy:', accuracy))\n",
    "        print()\n",
    "        \n",
    "    return {'TP': tp, 'FP': fp, 'FN': fn, 'TN': tn, \n",
    "            'Precision': precision, 'Recall': recall, 'Accuracy': accuracy}\n"
   ]
  },
  {
   "cell_type": "markdown",
   "metadata": {},
   "source": [
    "### Test Results\n",
    "\n",
    "The cell below runs the `evaluate` function. \n",
    "\n",
    "The code assumes that you have a defined `predictor` and `test_features` and `test_labels` from previously-run cells."
   ]
  },
  {
   "cell_type": "code",
   "execution_count": 63,
   "metadata": {},
   "outputs": [
    {
     "name": "stdout",
     "output_type": "stream",
     "text": [
      "Metrics for simple, LinearLearner.\n",
      "\n",
      "prediction (col)    0.0  1.0\n",
      "actual (row)                \n",
      "0                 85281   27\n",
      "1                    36   99\n",
      "\n",
      "Recall:     0.733\n",
      "Precision:  0.786\n",
      "Accuracy:   0.999\n",
      "\n"
     ]
    }
   ],
   "source": [
    "print('Metrics for simple, LinearLearner.\\n')\n",
    "\n",
    "# get metrics for linear predictor\n",
    "metrics = evaluate(linear_predictor, \n",
    "                   test_features.astype('float32').to_numpy(), \n",
    "                   test_labels, \n",
    "                   verbose=True) # verbose means we'll print out the metrics\n"
   ]
  },
  {
   "cell_type": "markdown",
   "metadata": {},
   "source": [
    "## Delete the Endpoint\n",
    "\n",
    "I've added a convenience function to delete prediction endpoints after we're done with them. And if you're done evaluating the model, you should delete your model endpoint!"
   ]
  },
  {
   "cell_type": "code",
   "execution_count": 64,
   "metadata": {},
   "outputs": [],
   "source": [
    "# Deletes a precictor.endpoint\n",
    "def delete_endpoint(predictor):\n",
    "        try:\n",
    "            boto3.client('sagemaker').delete_endpoint(EndpointName=predictor.endpoint)\n",
    "            print('Deleted {}'.format(predictor.endpoint))\n",
    "        except:\n",
    "            print('Already deleted: {}'.format(predictor.endpoint))"
   ]
  },
  {
   "cell_type": "code",
   "execution_count": 65,
   "metadata": {},
   "outputs": [
    {
     "name": "stderr",
     "output_type": "stream",
     "text": [
      "The endpoint attribute has been renamed in sagemaker>=2.\n",
      "See: https://sagemaker.readthedocs.io/en/stable/v2.html for details.\n",
      "The endpoint attribute has been renamed in sagemaker>=2.\n",
      "See: https://sagemaker.readthedocs.io/en/stable/v2.html for details.\n"
     ]
    },
    {
     "name": "stdout",
     "output_type": "stream",
     "text": [
      "Deleted linear-learner-2021-07-10-11-53-50-335\n"
     ]
    }
   ],
   "source": [
    "# delete the predictor endpoint \n",
    "delete_endpoint(linear_predictor)"
   ]
  },
  {
   "cell_type": "markdown",
   "metadata": {},
   "source": [
    "---\n",
    "\n",
    "# Model Improvements\n",
    "\n",
    "The default LinearLearner got a high accuracy, but still classified fraudulent and valid data points incorrectly. Specifically classifying more than 30 points as false negatives (incorrectly labeled, fraudulent transactions), and a little over 30 points as false positives (incorrectly labeled, valid transactions). Let's think about what, during training, could cause this behavior and what we could improve.\n",
    "\n",
    "**1. Model optimization**\n",
    "* If we imagine that we are designing this model for use in a bank application, we know that users do *not* want any valid transactions to be categorized as fraudulent. That is, we want to have as few **false positives** (0s classified as 1s) as possible. \n",
    "* On the other hand, if our bank manager asks for an application that will catch almost *all* cases of fraud, even if it means a higher number of false positives, then we'd want as few **false negatives** as possible.\n",
    "* To train according to specific product demands and goals, we do not want to optimize for accuracy only. Instead, we want to optimize for a metric that can help us decrease the number of false positives or negatives. \n",
    "\n",
    "<img src='notebook_ims/precision_recall.png' width=40% />\n",
    "     \n",
    "In this notebook, we'll look at different cases for tuning a model and make an optimization decision, accordingly.\n",
    "\n",
    "**2. Imbalanced training data**\n",
    "* At the start of this notebook, we saw that only about 0.17% of the training data was labeled as fraudulent. So, even if a model labels **all** of our data as valid, it will still have a high accuracy. \n",
    "* This may result in some overfitting towards valid data, which accounts for some **false negatives**; cases in which fraudulent data (1) is incorrectly characterized as valid (0).\n",
    "\n",
    "So, let's address these issues in order; first, tuning our model and optimizing for a specific metric during training, and second, accounting for class imbalance in the training set. \n"
   ]
  },
  {
   "cell_type": "markdown",
   "metadata": {},
   "source": [
    "## Improvement: Model Tuning\n",
    "\n",
    "Optimizing according to a specific metric is called **model tuning**, and SageMaker provides a number of ways to automatically tune a model.\n",
    "\n",
    "\n",
    "### Create a LinearLearner and tune for higher precision \n",
    "\n",
    "**Scenario:**\n",
    "* A bank has asked you to build a model that detects cases of fraud with an accuracy of about 85%. \n",
    "\n",
    "In this case, we want to build a model that has as many true positives and as few false negatives, as possible. This corresponds to a model with a high **recall**: true positives / (true positives + false negatives). \n",
    "\n",
    "To aim for a specific metric, LinearLearner offers the hyperparameter `binary_classifier_model_selection_criteria`, which is the model evaluation criteria for the training dataset. A reference to this parameter is in [LinearLearner's documentation](https://sagemaker.readthedocs.io/en/stable/linear_learner.html#sagemaker.LinearLearner). We'll also have to further specify the exact value we want to aim for; read more about the details of the parameters, [here](https://docs.aws.amazon.com/sagemaker/latest/dg/ll_hyperparameters.html).\n",
    "\n",
    "I will assume that performance on a training set will be within about 5% of the performance on a test set. So, for a recall of about 85%, I'll aim for a bit higher, 90%."
   ]
  },
  {
   "cell_type": "code",
   "execution_count": null,
   "metadata": {
    "collapsed": true
   },
   "outputs": [],
   "source": [
    "# instantiate a LinearLearner\n",
    "# tune the model for a higher recall\n",
    "linear_recall = LinearLearner(role=role,\n",
    "                              train_instance_count=1, \n",
    "                              train_instance_type='ml.c4.xlarge',\n",
    "                              predictor_type='binary_classifier',\n",
    "                              output_path=output_path,\n",
    "                              sagemaker_session=sagemaker_session,\n",
    "                              epochs=15,\n",
    "                              binary_classifier_model_selection_criteria='precision_at_target_recall', # target recall\n",
    "                              target_recall=0.9) # 90% recall\n"
   ]
  },
  {
   "cell_type": "markdown",
   "metadata": {},
   "source": [
    "### Train the tuned estimator\n",
    "\n",
    "Fit the new, tuned estimator on the formatted training data."
   ]
  },
  {
   "cell_type": "code",
   "execution_count": null,
   "metadata": {
    "collapsed": true
   },
   "outputs": [],
   "source": [
    "%%time \n",
    "# train the estimator on formatted training data\n",
    "linear_recall.fit(formatted_train_data)"
   ]
  },
  {
   "cell_type": "markdown",
   "metadata": {},
   "source": [
    "### Deploy and evaluate the tuned estimator\n",
    "\n",
    "Deploy the tuned predictor and evaluate it.\n",
    "\n",
    "We hypothesized that a tuned model, optimized for a higher recall, would have fewer false negatives (fraudulent transactions incorrectly labeled as valid); did the number of false negatives get reduced after tuning the model?"
   ]
  },
  {
   "cell_type": "code",
   "execution_count": null,
   "metadata": {
    "collapsed": true
   },
   "outputs": [],
   "source": [
    "%%time \n",
    "# deploy and create a predictor\n",
    "recall_predictor = linear_recall.deploy(initial_instance_count=1, instance_type='ml.t2.medium')"
   ]
  },
  {
   "cell_type": "code",
   "execution_count": null,
   "metadata": {
    "collapsed": true
   },
   "outputs": [],
   "source": [
    "print('Metrics for tuned (recall), LinearLearner.\\n')\n",
    "\n",
    "# get metrics for tuned predictor\n",
    "metrics = evaluate(recall_predictor, \n",
    "                   test_features.astype('float32'), \n",
    "                   test_labels, \n",
    "                   verbose=True)"
   ]
  },
  {
   "cell_type": "markdown",
   "metadata": {},
   "source": [
    "## Delete the endpoint \n",
    "\n",
    "As always, when you're done evaluating a model, you should delete the endpoint. Below, I'm using the `delete_endpoint` helper function I defined earlier."
   ]
  },
  {
   "cell_type": "code",
   "execution_count": null,
   "metadata": {
    "collapsed": true
   },
   "outputs": [],
   "source": [
    "# delete the predictor endpoint \n",
    "delete_endpoint(recall_predictor)"
   ]
  },
  {
   "cell_type": "markdown",
   "metadata": {},
   "source": [
    "---\n",
    "## Improvement: Managing Class Imbalance\n",
    "\n",
    "We have a model that is tuned to get a higher recall, which aims to reduce the number of false negatives. Earlier, we discussed how class imbalance may actually bias our model towards predicting that all transactions are valid, resulting in higher false negatives and true negatives. It stands to reason that this model could be further improved if we account for this imbalance.\n",
    "\n",
    "To account for class imbalance during training of a binary classifier, LinearLearner offers the hyperparameter, `positive_example_weight_mult`, which is the weight assigned to positive (1, fraudulent) examples when training a binary classifier. The weight of negative examples (0, valid) is fixed at 1. \n",
    "\n",
    "### EXERCISE: Create a LinearLearner with a `positive_example_weight_mult` parameter\n",
    "\n",
    "In **addition** to tuning a model for higher recall (you may use `linear_recall` as a starting point), you should *add* a parameter that helps account for class imbalance. From the [hyperparameter documentation](https://docs.aws.amazon.com/sagemaker/latest/dg/ll_hyperparameters.html) on `positive_example_weight_mult`, it reads:\n",
    "> \"If you want the algorithm to choose a weight so that errors in classifying negative vs. positive examples have equal impact on training loss, specify `balanced`.\"\n",
    "\n",
    "You could also put in a specific float value, in which case you'd want to weight positive examples more heavily than negative examples, since there are fewer of them."
   ]
  },
  {
   "cell_type": "code",
   "execution_count": null,
   "metadata": {
    "collapsed": true
   },
   "outputs": [],
   "source": [
    "# instantiate a LinearLearner\n",
    "\n",
    "# include params for tuning for higher recall\n",
    "# *and* account for class imbalance in training data\n",
    "linear_balanced = None\n"
   ]
  },
  {
   "cell_type": "markdown",
   "metadata": {},
   "source": [
    "### EXERCISE: Train the balanced estimator\n",
    "\n",
    "Fit the new, balanced estimator on the formatted training data."
   ]
  },
  {
   "cell_type": "code",
   "execution_count": null,
   "metadata": {
    "collapsed": true
   },
   "outputs": [],
   "source": [
    "%%time \n",
    "# train the estimator on formatted training data\n"
   ]
  },
  {
   "cell_type": "markdown",
   "metadata": {},
   "source": [
    "### EXERCISE: Deploy and evaluate the balanced estimator\n",
    "\n",
    "Deploy the balanced predictor and evaluate it. Do the results match with your expectations?"
   ]
  },
  {
   "cell_type": "code",
   "execution_count": null,
   "metadata": {
    "collapsed": true
   },
   "outputs": [],
   "source": [
    "%%time \n",
    "# deploy and create a predictor\n",
    "balanced_predictor = None"
   ]
  },
  {
   "cell_type": "code",
   "execution_count": null,
   "metadata": {
    "collapsed": true
   },
   "outputs": [],
   "source": [
    "print('Metrics for balanced, LinearLearner.\\n')\n",
    "\n",
    "# get metrics for balanced predictor\n",
    "metrics = evaluate(balanced_predictor, \n",
    "                   test_features.astype('float32'), \n",
    "                   test_labels, \n",
    "                   verbose=True)"
   ]
  },
  {
   "cell_type": "markdown",
   "metadata": {},
   "source": [
    "## Delete the endpoint \n",
    "\n",
    "When you're done evaluating a model, you should delete the endpoint."
   ]
  },
  {
   "cell_type": "code",
   "execution_count": null,
   "metadata": {
    "collapsed": true
   },
   "outputs": [],
   "source": [
    "# delete the predictor endpoint \n",
    "delete_endpoint(balanced_predictor)"
   ]
  },
  {
   "cell_type": "markdown",
   "metadata": {},
   "source": [
    "A note on metric variability: \n",
    "\n",
    "The above model is tuned for the best possible precision with recall fixed at about 90%. The recall is fixed at 90% during training, but may vary when we apply our trained model to a test set of data."
   ]
  },
  {
   "cell_type": "markdown",
   "metadata": {},
   "source": [
    "---\n",
    "## Model Design\n",
    "\n",
    "Now that you've seen how to tune and balance a LinearLearner. Create, train and deploy your own model. This exercise is meant to be more open-ended, so that you get practice with the steps involved in designing a model and deploying it.\n",
    "\n",
    "### EXERCISE: Train and deploy a LinearLearner with appropriate hyperparameters, according to the given scenario\n",
    "\n",
    "**Scenario:**\n",
    "* A bank has asked you to build a model that optimizes for a good user experience; users should only ever have up to about 15% of their valid transactions flagged as fraudulent.\n",
    "\n",
    "This requires that you make a design decision: Given the above scenario, what metric (and value) should you aim for during training?\n",
    "\n",
    "You may assume that performance on a training set will be within about 5-10% of the performance on a test set. For example, if you get 80% on a training set, you can assume that you'll get between about 70-90% accuracy on a test set.\n",
    "\n",
    "Your final model should account for class imbalance and be appropriately tuned. "
   ]
  },
  {
   "cell_type": "code",
   "execution_count": null,
   "metadata": {
    "collapsed": true
   },
   "outputs": [],
   "source": [
    "%%time\n",
    "# instantiate and train a LinearLearner\n",
    "\n",
    "# include params for tuning for higher precision\n",
    "# *and* account for class imbalance in training data\n"
   ]
  },
  {
   "cell_type": "code",
   "execution_count": null,
   "metadata": {
    "collapsed": true
   },
   "outputs": [],
   "source": [
    "%%time \n",
    "# deploy and evaluate a predictor\n"
   ]
  },
  {
   "cell_type": "code",
   "execution_count": null,
   "metadata": {
    "collapsed": true
   },
   "outputs": [],
   "source": [
    "## IMPORTANT\n",
    "# delete the predictor endpoint after evaluation \n"
   ]
  },
  {
   "cell_type": "markdown",
   "metadata": {},
   "source": [
    "## Final Cleanup!\n",
    "\n",
    "* Double check that you have deleted all your endpoints.\n",
    "* I'd also suggest manually deleting your S3 bucket, models, and endpoint configurations directly from your AWS console.\n",
    "\n",
    "You can find thorough cleanup instructions, [in the documentation](https://docs.aws.amazon.com/sagemaker/latest/dg/ex1-cleanup.html)."
   ]
  },
  {
   "cell_type": "markdown",
   "metadata": {},
   "source": [
    "---\n",
    "# Conclusion\n",
    "\n",
    "In this notebook, you saw how to train and deploy a LinearLearner in SageMaker. This model is well-suited for a binary classification task that involves specific design decisions and managing class imbalance in the training set.\n",
    "\n",
    "Following the steps of a machine learning workflow, you loaded in some credit card transaction data, explored that data and prepared it for model training. Then trained, deployed, and evaluated several models, according to different design considerations!"
   ]
  }
 ],
 "metadata": {
  "kernelspec": {
   "display_name": "conda_amazonei_mxnet_p36",
   "language": "python",
   "name": "conda_amazonei_mxnet_p36"
  },
  "language_info": {
   "codemirror_mode": {
    "name": "ipython",
    "version": 3
   },
   "file_extension": ".py",
   "mimetype": "text/x-python",
   "name": "python",
   "nbconvert_exporter": "python",
   "pygments_lexer": "ipython3",
   "version": "3.6.13"
  },
  "notice": "None."
 },
 "nbformat": 4,
 "nbformat_minor": 2
}
